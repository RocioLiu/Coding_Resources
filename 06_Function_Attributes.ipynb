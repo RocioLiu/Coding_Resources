{
  "nbformat": 4,
  "nbformat_minor": 0,
  "metadata": {
    "colab": {
      "name": "06 - Function Attributes.ipynb",
      "provenance": [],
      "authorship_tag": "ABX9TyNw/goK3DPSKA9RiR9AwRXM",
      "include_colab_link": true
    },
    "kernelspec": {
      "name": "python3",
      "display_name": "Python 3"
    },
    "language_info": {
      "name": "python"
    }
  },
  "cells": [
    {
      "cell_type": "markdown",
      "metadata": {
        "id": "view-in-github",
        "colab_type": "text"
      },
      "source": [
        "<a href=\"https://colab.research.google.com/github/RocioLiu/Coding_Resources/blob/master/06_Function_Attributes.ipynb\" target=\"_parent\"><img src=\"https://colab.research.google.com/assets/colab-badge.svg\" alt=\"Open In Colab\"/></a>"
      ]
    },
    {
      "cell_type": "markdown",
      "metadata": {
        "id": "hig09b7BcHc7"
      },
      "source": [
        "## Function Attributes\n",
        "So far, we have been dealing with non-callable attributes. When attributes are actually functions, things behave differently."
      ]
    },
    {
      "cell_type": "code",
      "metadata": {
        "id": "6q49QHknbtfj"
      },
      "source": [
        "class Person:\n",
        "    def say_hello():\n",
        "        print('Hello!')"
      ],
      "execution_count": 1,
      "outputs": []
    },
    {
      "cell_type": "code",
      "metadata": {
        "id": "VEw4oPkHcJmM"
      },
      "source": [
        ""
      ],
      "execution_count": null,
      "outputs": []
    }
  ]
}