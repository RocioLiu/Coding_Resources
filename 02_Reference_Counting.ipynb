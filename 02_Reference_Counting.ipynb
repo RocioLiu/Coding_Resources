{
  "nbformat": 4,
  "nbformat_minor": 0,
  "metadata": {
    "colab": {
      "name": "02 - Reference Counting.ipynb",
      "provenance": [],
      "collapsed_sections": [],
      "authorship_tag": "ABX9TyOzvj/mI2376lg6gCl9ZtYJ",
      "include_colab_link": true
    },
    "kernelspec": {
      "name": "python3",
      "display_name": "Python 3"
    }
  },
  "cells": [
    {
      "cell_type": "markdown",
      "metadata": {
        "id": "view-in-github",
        "colab_type": "text"
      },
      "source": [
        "<a href=\"https://colab.research.google.com/github/RocioLiu/Coding_Resources/blob/master/02_Reference_Counting.ipynb\" target=\"_parent\"><img src=\"https://colab.research.google.com/assets/colab-badge.svg\" alt=\"Open In Colab\"/></a>"
      ]
    },
    {
      "cell_type": "markdown",
      "metadata": {
        "id": "qj7-lNXfPcyw"
      },
      "source": [
        "## Reference Counting\n",
        "Method that returns the reference count for a given variable's memory address:"
      ]
    },
    {
      "cell_type": "code",
      "metadata": {
        "id": "di52VEnOFt4q"
      },
      "source": [
        "import ctypes\n",
        "\n",
        "def ref_count(address:int):\n",
        "    return ctypes.c_long.from_address(address).value"
      ],
      "execution_count": 1,
      "outputs": []
    },
    {
      "cell_type": "markdown",
      "metadata": {
        "id": "k68VcBC7yvzE"
      },
      "source": [
        "Let's make a variable, and check it's reference count:"
      ]
    },
    {
      "cell_type": "code",
      "metadata": {
        "colab": {
          "base_uri": "https://localhost:8080/"
        },
        "id": "pgYIJlJkyiyd",
        "outputId": "62d7ba9b-4f6d-4406-b602-f1bfe6056334"
      },
      "source": [
        "my_var = [1, 2, 3, 4]\n",
        "print(id(my_var))\n",
        "ref_count(id(my_var))"
      ],
      "execution_count": 2,
      "outputs": [
        {
          "output_type": "stream",
          "text": [
            "139823660506400\n"
          ],
          "name": "stdout"
        },
        {
          "output_type": "execute_result",
          "data": {
            "text/plain": [
              "1"
            ]
          },
          "metadata": {
            "tags": []
          },
          "execution_count": 2
        }
      ]
    },
    {
      "cell_type": "markdown",
      "metadata": {
        "id": "EJHU83QPy2B9"
      },
      "source": [
        "There is another built-in function we can use to obtain the reference count:"
      ]
    },
    {
      "cell_type": "code",
      "metadata": {
        "colab": {
          "base_uri": "https://localhost:8080/"
        },
        "id": "9UU07r2pyznv",
        "outputId": "97020291-81a0-4adf-f60a-592a9f4f9fe3"
      },
      "source": [
        "import sys\n",
        "sys.getrefcount(my_var)"
      ],
      "execution_count": 3,
      "outputs": [
        {
          "output_type": "execute_result",
          "data": {
            "text/plain": [
              "2"
            ]
          },
          "metadata": {
            "tags": []
          },
          "execution_count": 3
        }
      ]
    },
    {
      "cell_type": "markdown",
      "metadata": {
        "id": "7luq352VzAih"
      },
      "source": [
        "But why is this returning 2, instead of the expected 1 we obtained with the previous function?\n",
        "\n",
        "Answer: The `sys.getrefcount()` function takes `my_var` as an argument, this means it receives (and stores) a reference to `my_var`'s memory address also - hence the count is off by 1 ( ie. passing `my_var` to `getrefcount()` create an extra reference ). So we will use `from_address()` instead.\n",
        "\n"
      ]
    },
    {
      "cell_type": "markdown",
      "metadata": {
        "id": "KthTu57eVyLC"
      },
      "source": [
        "By the time the `ref_count` is called, `id()` has finished running, it has return the memory address. So it has released whatever reference it have to that memory address. "
      ]
    },
    {
      "cell_type": "code",
      "metadata": {
        "colab": {
          "base_uri": "https://localhost:8080/"
        },
        "id": "3fHFzibVUr3d",
        "outputId": "c4acc722-8e8d-46b2-d50a-300d648ed661"
      },
      "source": [
        "ref_count(id(my_var))"
      ],
      "execution_count": 4,
      "outputs": [
        {
          "output_type": "execute_result",
          "data": {
            "text/plain": [
              "1"
            ]
          },
          "metadata": {
            "tags": []
          },
          "execution_count": 4
        }
      ]
    },
    {
      "cell_type": "code",
      "metadata": {
        "colab": {
          "base_uri": "https://localhost:8080/"
        },
        "id": "LJQ2CkKNUv_P",
        "outputId": "5b71c74b-49f7-48a0-8862-bf020b86dfe8"
      },
      "source": [
        "ref_count(139823660506400)"
      ],
      "execution_count": 5,
      "outputs": [
        {
          "output_type": "execute_result",
          "data": {
            "text/plain": [
              "1"
            ]
          },
          "metadata": {
            "tags": []
          },
          "execution_count": 5
        }
      ]
    },
    {
      "cell_type": "markdown",
      "metadata": {
        "id": "t_8Uoli1XG67"
      },
      "source": [
        "We make another reference to the same reference as `my_var`:"
      ]
    },
    {
      "cell_type": "code",
      "metadata": {
        "id": "nlAvGafDy4gf"
      },
      "source": [
        "other_var = my_var"
      ],
      "execution_count": 6,
      "outputs": []
    },
    {
      "cell_type": "markdown",
      "metadata": {
        "id": "h-55DIC0ZTYe"
      },
      "source": [
        "Let's look at the memory address of those two variables and the reference counts:"
      ]
    },
    {
      "cell_type": "code",
      "metadata": {
        "colab": {
          "base_uri": "https://localhost:8080/"
        },
        "id": "CoG3OmHRZgJf",
        "outputId": "5cd39a06-c3a5-4ed1-c9a5-471fe0343c61"
      },
      "source": [
        "print(hex(id(my_var)), hex(id(other_var)))\n",
        "print(ref_count(id(my_var)))"
      ],
      "execution_count": 7,
      "outputs": [
        {
          "output_type": "stream",
          "text": [
            "0x7f2b3b9d9d20 0x7f2b3b9d9d20\n",
            "2\n"
          ],
          "name": "stdout"
        }
      ]
    },
    {
      "cell_type": "code",
      "metadata": {
        "colab": {
          "base_uri": "https://localhost:8080/"
        },
        "id": "bXgjijMHVTvY",
        "outputId": "802d2498-e744-4df8-fa8f-6e15c80f096f"
      },
      "source": [
        "id(other_var)"
      ],
      "execution_count": 8,
      "outputs": [
        {
          "output_type": "execute_result",
          "data": {
            "text/plain": [
              "139823660506400"
            ]
          },
          "metadata": {
            "tags": []
          },
          "execution_count": 8
        }
      ]
    },
    {
      "cell_type": "markdown",
      "metadata": {
        "id": "zmgdKS0DZybU"
      },
      "source": [
        "Force one reference to go away, We see that the reference count has gone back to 1."
      ]
    },
    {
      "cell_type": "code",
      "metadata": {
        "colab": {
          "base_uri": "https://localhost:8080/"
        },
        "id": "SBoa71qHYBx_",
        "outputId": "f1395b2e-19d1-4cfe-a842-e843bcfd20d8"
      },
      "source": [
        "other_var = None\n",
        "print(id(other_var))\n",
        "ref_count(id(my_var))"
      ],
      "execution_count": 10,
      "outputs": [
        {
          "output_type": "stream",
          "text": [
            "94063976369600\n"
          ],
          "name": "stdout"
        },
        {
          "output_type": "execute_result",
          "data": {
            "text/plain": [
              "1"
            ]
          },
          "metadata": {
            "tags": []
          },
          "execution_count": 10
        }
      ]
    },
    {
      "cell_type": "code",
      "metadata": {
        "colab": {
          "base_uri": "https://localhost:8080/"
        },
        "id": "p650_nWQYNH-",
        "outputId": "8212f1f5-627e-4fab-c759-21b9d53b9550"
      },
      "source": [
        "my_var_id = id(my_var)\n",
        "my_var = None\n",
        "ref_count(my_var_id)"
      ],
      "execution_count": 11,
      "outputs": [
        {
          "output_type": "execute_result",
          "data": {
            "text/plain": [
              "1"
            ]
          },
          "metadata": {
            "tags": []
          },
          "execution_count": 11
        }
      ]
    },
    {
      "cell_type": "markdown",
      "metadata": {
        "id": "5NVGdly_aBje"
      },
      "source": [
        "You'll probably never need to do anything like this in Python. Memory management is completely transparent - this is just to illustrate some of what is going behind the scenes as it helps to understand upcoming concepts."
      ]
    }
  ]
}