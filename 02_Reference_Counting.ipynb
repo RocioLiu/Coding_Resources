{
  "nbformat": 4,
  "nbformat_minor": 0,
  "metadata": {
    "colab": {
      "name": "02 - Reference Counting.ipynb",
      "provenance": [],
      "collapsed_sections": [],
      "authorship_tag": "ABX9TyOc4GhUzPMHXj/7S2b97qMD",
      "include_colab_link": true
    },
    "kernelspec": {
      "name": "python3",
      "display_name": "Python 3"
    }
  },
  "cells": [
    {
      "cell_type": "markdown",
      "metadata": {
        "id": "view-in-github",
        "colab_type": "text"
      },
      "source": [
        "<a href=\"https://colab.research.google.com/github/RocioLiu/Coding_Resources/blob/master/02_Reference_Counting.ipynb\" target=\"_parent\"><img src=\"https://colab.research.google.com/assets/colab-badge.svg\" alt=\"Open In Colab\"/></a>"
      ]
    },
    {
      "cell_type": "markdown",
      "metadata": {
        "id": "qj7-lNXfPcyw"
      },
      "source": [
        "## Reference Counting\n",
        "Method that returns the reference count for a given variable's memory address:"
      ]
    },
    {
      "cell_type": "code",
      "metadata": {
        "id": "di52VEnOFt4q"
      },
      "source": [
        "import ctypes\n",
        "\n",
        "def ref_count(address):\n",
        "    return ctypes.c_long.from_address(address).value"
      ],
      "execution_count": 1,
      "outputs": []
    },
    {
      "cell_type": "markdown",
      "metadata": {
        "id": "k68VcBC7yvzE"
      },
      "source": [
        "Let's make a variable, and check it's reference count:"
      ]
    },
    {
      "cell_type": "code",
      "metadata": {
        "colab": {
          "base_uri": "https://localhost:8080/"
        },
        "id": "pgYIJlJkyiyd",
        "outputId": "ee768a0f-cc4a-4ee9-c0b9-f1f2bad0f94e"
      },
      "source": [
        "my_var = [1, 2, 3, 4]\n",
        "ref_count(id(my_var))"
      ],
      "execution_count": 2,
      "outputs": [
        {
          "output_type": "execute_result",
          "data": {
            "text/plain": [
              "1"
            ]
          },
          "metadata": {
            "tags": []
          },
          "execution_count": 2
        }
      ]
    },
    {
      "cell_type": "markdown",
      "metadata": {
        "id": "EJHU83QPy2B9"
      },
      "source": [
        "There is another built-in function we can use to obtain the reference count:"
      ]
    },
    {
      "cell_type": "code",
      "metadata": {
        "colab": {
          "base_uri": "https://localhost:8080/"
        },
        "id": "9UU07r2pyznv",
        "outputId": "e69a993e-e116-4f0c-fa66-252e7fd23538"
      },
      "source": [
        "import sys\n",
        "sys.getrefcount(my_var)"
      ],
      "execution_count": 3,
      "outputs": [
        {
          "output_type": "execute_result",
          "data": {
            "text/plain": [
              "2"
            ]
          },
          "metadata": {
            "tags": []
          },
          "execution_count": 3
        }
      ]
    },
    {
      "cell_type": "markdown",
      "metadata": {
        "id": "7luq352VzAih"
      },
      "source": [
        "But why is this returning 2, instead of the expected 1 we obtained with the previous function?\n",
        "\n",
        "Answer: The `sys.getrefcount()` function takes `my_var` as an argument, this means it receives (and stores) a reference to `my_var`'s memory address also - hence the count is off by 1 ( ie. passing `my_var` to `getrefcount()` create an extra reference ). So we will use `from_address()` instead.\n",
        "\n",
        "We make another reference to the same reference as `my_var`:"
      ]
    },
    {
      "cell_type": "code",
      "metadata": {
        "id": "nlAvGafDy4gf"
      },
      "source": [
        ""
      ],
      "execution_count": null,
      "outputs": []
    }
  ]
}