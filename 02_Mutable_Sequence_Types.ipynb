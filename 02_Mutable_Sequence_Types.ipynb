{
  "nbformat": 4,
  "nbformat_minor": 0,
  "metadata": {
    "colab": {
      "name": "02 - Mutable Sequence Types.ipynb",
      "provenance": [],
      "collapsed_sections": [],
      "authorship_tag": "ABX9TyPqLqHThfwlT9gXBUAEnH3B",
      "include_colab_link": true
    },
    "kernelspec": {
      "name": "python3",
      "display_name": "Python 3"
    },
    "language_info": {
      "name": "python"
    }
  },
  "cells": [
    {
      "cell_type": "markdown",
      "metadata": {
        "id": "view-in-github",
        "colab_type": "text"
      },
      "source": [
        "<a href=\"https://colab.research.google.com/github/RocioLiu/Coding_Resources/blob/master/02_Mutable_Sequence_Types.ipynb\" target=\"_parent\"><img src=\"https://colab.research.google.com/assets/colab-badge.svg\" alt=\"Open In Colab\"/></a>"
      ]
    },
    {
      "cell_type": "markdown",
      "metadata": {
        "id": "cZ7ytll6r8uj"
      },
      "source": [
        "## **Mutable Sequences**\n",
        "When dealing with mutable sequences, we have a few more things we can do - essentially adding, removing and replacing elements in the sequence.\n",
        "\n",
        "This **mutates** the sequence. The sequence's memory address has not changed, but the internal **state** of the sequence has."
      ]
    },
    {
      "cell_type": "markdown",
      "metadata": {
        "id": "-WrS7lw9sHK7"
      },
      "source": [
        "### **Replacing Elements**\n",
        "We can replace a single element as follows:"
      ]
    },
    {
      "cell_type": "code",
      "metadata": {
        "colab": {
          "base_uri": "https://localhost:8080/"
        },
        "id": "eZJoz3lQqgKc",
        "outputId": "2dbb16e9-e942-42f8-b740-b22c02e1899f"
      },
      "source": [
        "l = [1, 2, 3,4, 5]\n",
        "print(id(l))\n",
        "l[0] = 'a'\n",
        "print(id(l), l)"
      ],
      "execution_count": 3,
      "outputs": [
        {
          "output_type": "stream",
          "text": [
            "140429516345504\n",
            "140429516345504 ['a', 2, 3, 4, 5]\n"
          ],
          "name": "stdout"
        }
      ]
    },
    {
      "cell_type": "markdown",
      "metadata": {
        "id": "Nc6CwlVhs44u"
      },
      "source": [
        "We can remove all elements from the sequence:"
      ]
    },
    {
      "cell_type": "code",
      "metadata": {
        "colab": {
          "base_uri": "https://localhost:8080/"
        },
        "id": "Hz8MMMOer-u6",
        "outputId": "44f16f3e-b132-4d24-e90b-2df5c3c20143"
      },
      "source": [
        "l = [1, 2, 3, 4, 5]\n",
        "l.clear()\n",
        "print(l)"
      ],
      "execution_count": 4,
      "outputs": [
        {
          "output_type": "stream",
          "text": [
            "[]\n"
          ],
          "name": "stdout"
        }
      ]
    },
    {
      "cell_type": "markdown",
      "metadata": {
        "id": "d3GoFcCqtAfh"
      },
      "source": [
        "Note that this is **NOT** the same as doing this:"
      ]
    },
    {
      "cell_type": "code",
      "metadata": {
        "colab": {
          "base_uri": "https://localhost:8080/"
        },
        "id": "Sx0T-9e2s_qG",
        "outputId": "85c7d97a-dc80-4b24-f494-36f623c4a323"
      },
      "source": [
        "l = [1, 2, 3,4, 5]\n",
        "l = []\n",
        "print(l)"
      ],
      "execution_count": 5,
      "outputs": [
        {
          "output_type": "stream",
          "text": [
            "[]\n"
          ],
          "name": "stdout"
        }
      ]
    },
    {
      "cell_type": "markdown",
      "metadata": {
        "id": "cJ_ygBLztqVt"
      },
      "source": [
        "The net effect may look the same, l is an empty list, but observe the memory addresses:"
      ]
    },
    {
      "cell_type": "code",
      "metadata": {
        "colab": {
          "base_uri": "https://localhost:8080/"
        },
        "id": "_Ieg7Pbrtmg8",
        "outputId": "f556f432-8c25-4712-a28b-34913899a4d9"
      },
      "source": [
        "l = [1, 2, 3, 4, 5]\n",
        "print(id(l))\n",
        "l = []\n",
        "print(l, id(l))"
      ],
      "execution_count": 8,
      "outputs": [
        {
          "output_type": "stream",
          "text": [
            "140429449013280\n",
            "[] 140429449126448\n"
          ],
          "name": "stdout"
        }
      ]
    },
    {
      "cell_type": "markdown",
      "metadata": {
        "id": "sVj8O_pouLTK"
      },
      "source": [
        "In the second case you can see that the object referenced by l has changed, but not in the first case.\n",
        "   \n",
        "Why might this be important?\n",
        "   \n",
        "Suppose you have the following setup:"
      ]
    },
    {
      "cell_type": "code",
      "metadata": {
        "colab": {
          "base_uri": "https://localhost:8080/"
        },
        "id": "6HT12stau3A0",
        "outputId": "0b75c53d-35d2-4b48-f552-2dd2ecffae00"
      },
      "source": [
        "suits = ['Spades', 'Hearts', 'Diamonds', 'Clubs']\n",
        "alias = suits\n",
        "suits = []\n",
        "print(suits, alias)"
      ],
      "execution_count": 11,
      "outputs": [
        {
          "output_type": "stream",
          "text": [
            "[] ['Spades', 'Hearts', 'Diamonds', 'Clubs']\n"
          ],
          "name": "stdout"
        }
      ]
    },
    {
      "cell_type": "code",
      "metadata": {
        "colab": {
          "base_uri": "https://localhost:8080/"
        },
        "id": "MPM8Eu1rtyor",
        "outputId": "0d27f2a4-6d2b-4e2c-8479-45655eb26688"
      },
      "source": [
        "suits = ['Spades', 'Hearts', 'Diamonds', 'Clubs']\n",
        "alias = suits\n",
        "suits.clear()\n",
        "print(suits, alias)"
      ],
      "execution_count": 10,
      "outputs": [
        {
          "output_type": "stream",
          "text": [
            "[] []\n"
          ],
          "name": "stdout"
        }
      ]
    },
    {
      "cell_type": "markdown",
      "metadata": {
        "id": "mXEP75sxu1dG"
      },
      "source": [
        "Big difference!!\n",
        "   \n",
        "We can also replace elements using slicing and extended slicing. Here's an example, but we'll come back to this in a lot of detail:"
      ]
    },
    {
      "cell_type": "code",
      "metadata": {
        "colab": {
          "base_uri": "https://localhost:8080/"
        },
        "id": "MYBn8ZPPuuVp",
        "outputId": "c7530985-2ca8-4553-94f9-7f913ebbcefa"
      },
      "source": [
        "l = [1, 2, 3, 4, 5]\n",
        "print(id(l))\n",
        "l[0:2] = ['a', 'b', 'c', 'd', 'e']\n",
        "print(id(l), l)"
      ],
      "execution_count": 12,
      "outputs": [
        {
          "output_type": "stream",
          "text": [
            "140429448509472\n",
            "140429448509472 ['a', 'b', 'c', 'd', 'e', 3, 4, 5]\n"
          ],
          "name": "stdout"
        }
      ]
    },
    {
      "cell_type": "code",
      "metadata": {
        "id": "fBbJzJs2vVKA"
      },
      "source": [
        ""
      ],
      "execution_count": null,
      "outputs": []
    }
  ]
}