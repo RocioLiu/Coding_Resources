{
  "nbformat": 4,
  "nbformat_minor": 0,
  "metadata": {
    "colab": {
      "name": "02 - Mutable Sequence Types.ipynb",
      "provenance": [],
      "collapsed_sections": [],
      "authorship_tag": "ABX9TyPQXTEWBWyBjZBkbVhrESbz",
      "include_colab_link": true
    },
    "kernelspec": {
      "name": "python3",
      "display_name": "Python 3"
    },
    "language_info": {
      "name": "python"
    }
  },
  "cells": [
    {
      "cell_type": "markdown",
      "metadata": {
        "id": "view-in-github",
        "colab_type": "text"
      },
      "source": [
        "<a href=\"https://colab.research.google.com/github/RocioLiu/Coding_Resources/blob/master/02_Mutable_Sequence_Types.ipynb\" target=\"_parent\"><img src=\"https://colab.research.google.com/assets/colab-badge.svg\" alt=\"Open In Colab\"/></a>"
      ]
    },
    {
      "cell_type": "markdown",
      "metadata": {
        "id": "cZ7ytll6r8uj"
      },
      "source": [
        "## **Mutable Sequences**\n",
        "When dealing with mutable sequences, we have a few more things we can do - essentially adding, removing and replacing elements in the sequence.\n",
        "\n",
        "This **mutates** the sequence. The sequence's memory address has not changed, but the internal **state** of the sequence has."
      ]
    },
    {
      "cell_type": "markdown",
      "metadata": {
        "id": "-WrS7lw9sHK7"
      },
      "source": [
        "### **Replacing Elements**\n",
        "We can replace a single element as follows:"
      ]
    },
    {
      "cell_type": "code",
      "metadata": {
        "colab": {
          "base_uri": "https://localhost:8080/"
        },
        "id": "eZJoz3lQqgKc",
        "outputId": "2dbb16e9-e942-42f8-b740-b22c02e1899f"
      },
      "source": [
        "l = [1, 2, 3,4, 5]\n",
        "print(id(l))\n",
        "l[0] = 'a'\n",
        "print(id(l), l)"
      ],
      "execution_count": null,
      "outputs": [
        {
          "output_type": "stream",
          "text": [
            "140429516345504\n",
            "140429516345504 ['a', 2, 3, 4, 5]\n"
          ],
          "name": "stdout"
        }
      ]
    },
    {
      "cell_type": "markdown",
      "metadata": {
        "id": "Nc6CwlVhs44u"
      },
      "source": [
        "We can remove all elements from the sequence:"
      ]
    },
    {
      "cell_type": "code",
      "metadata": {
        "colab": {
          "base_uri": "https://localhost:8080/"
        },
        "id": "Hz8MMMOer-u6",
        "outputId": "44f16f3e-b132-4d24-e90b-2df5c3c20143"
      },
      "source": [
        "l = [1, 2, 3, 4, 5]\n",
        "l.clear()\n",
        "print(l)"
      ],
      "execution_count": null,
      "outputs": [
        {
          "output_type": "stream",
          "text": [
            "[]\n"
          ],
          "name": "stdout"
        }
      ]
    },
    {
      "cell_type": "markdown",
      "metadata": {
        "id": "d3GoFcCqtAfh"
      },
      "source": [
        "Note that this is **NOT** the same as doing this:"
      ]
    },
    {
      "cell_type": "code",
      "metadata": {
        "colab": {
          "base_uri": "https://localhost:8080/"
        },
        "id": "Sx0T-9e2s_qG",
        "outputId": "85c7d97a-dc80-4b24-f494-36f623c4a323"
      },
      "source": [
        "l = [1, 2, 3,4, 5]\n",
        "l = []\n",
        "print(l)"
      ],
      "execution_count": null,
      "outputs": [
        {
          "output_type": "stream",
          "text": [
            "[]\n"
          ],
          "name": "stdout"
        }
      ]
    },
    {
      "cell_type": "markdown",
      "metadata": {
        "id": "cJ_ygBLztqVt"
      },
      "source": [
        "The net effect may look the same, l is an empty list, but observe the memory addresses:"
      ]
    },
    {
      "cell_type": "code",
      "metadata": {
        "colab": {
          "base_uri": "https://localhost:8080/"
        },
        "id": "_Ieg7Pbrtmg8",
        "outputId": "f556f432-8c25-4712-a28b-34913899a4d9"
      },
      "source": [
        "l = [1, 2, 3, 4, 5]\n",
        "print(id(l))\n",
        "l = []\n",
        "print(l, id(l))"
      ],
      "execution_count": null,
      "outputs": [
        {
          "output_type": "stream",
          "text": [
            "140429449013280\n",
            "[] 140429449126448\n"
          ],
          "name": "stdout"
        }
      ]
    },
    {
      "cell_type": "markdown",
      "metadata": {
        "id": "sVj8O_pouLTK"
      },
      "source": [
        "In the second case you can see that the object referenced by l has changed, but not in the first case.\n",
        "   \n",
        "Why might this be important?\n",
        "   \n",
        "Suppose you have the following setup:"
      ]
    },
    {
      "cell_type": "code",
      "metadata": {
        "colab": {
          "base_uri": "https://localhost:8080/"
        },
        "id": "6HT12stau3A0",
        "outputId": "0b75c53d-35d2-4b48-f552-2dd2ecffae00"
      },
      "source": [
        "suits = ['Spades', 'Hearts', 'Diamonds', 'Clubs']\n",
        "alias = suits\n",
        "suits = []\n",
        "print(suits, alias)"
      ],
      "execution_count": null,
      "outputs": [
        {
          "output_type": "stream",
          "text": [
            "[] ['Spades', 'Hearts', 'Diamonds', 'Clubs']\n"
          ],
          "name": "stdout"
        }
      ]
    },
    {
      "cell_type": "code",
      "metadata": {
        "colab": {
          "base_uri": "https://localhost:8080/"
        },
        "id": "MPM8Eu1rtyor",
        "outputId": "0d27f2a4-6d2b-4e2c-8479-45655eb26688"
      },
      "source": [
        "suits = ['Spades', 'Hearts', 'Diamonds', 'Clubs']\n",
        "alias = suits\n",
        "suits.clear()\n",
        "print(suits, alias)"
      ],
      "execution_count": null,
      "outputs": [
        {
          "output_type": "stream",
          "text": [
            "[] []\n"
          ],
          "name": "stdout"
        }
      ]
    },
    {
      "cell_type": "markdown",
      "metadata": {
        "id": "mXEP75sxu1dG"
      },
      "source": [
        "Big difference!!\n",
        "   \n",
        "We can also replace elements using slicing and extended slicing. Here's an example, but we'll come back to this in a lot of detail:"
      ]
    },
    {
      "cell_type": "code",
      "metadata": {
        "colab": {
          "base_uri": "https://localhost:8080/"
        },
        "id": "MYBn8ZPPuuVp",
        "outputId": "c7530985-2ca8-4553-94f9-7f913ebbcefa"
      },
      "source": [
        "l = [1, 2, 3, 4, 5]\n",
        "print(id(l))\n",
        "l[0:2] = ['a', 'b', 'c', 'd', 'e']\n",
        "print(id(l), l)"
      ],
      "execution_count": null,
      "outputs": [
        {
          "output_type": "stream",
          "text": [
            "140429448509472\n",
            "140429448509472 ['a', 'b', 'c', 'd', 'e', 3, 4, 5]\n"
          ],
          "name": "stdout"
        }
      ]
    },
    {
      "cell_type": "markdown",
      "metadata": {
        "id": "okCYW7MYzQzF"
      },
      "source": [
        "This is not the same thing as the concatenation, which will end up with a new sequence. "
      ]
    },
    {
      "cell_type": "code",
      "metadata": {
        "id": "fBbJzJs2vVKA",
        "colab": {
          "base_uri": "https://localhost:8080/"
        },
        "outputId": "135cdf86-25f7-4817-e642-e110b584e01f"
      },
      "source": [
        "l = [1,2,3]\n",
        "id(l)"
      ],
      "execution_count": null,
      "outputs": [
        {
          "output_type": "execute_result",
          "data": {
            "text/plain": [
              "139688991660384"
            ]
          },
          "metadata": {
            "tags": []
          },
          "execution_count": 1
        }
      ]
    },
    {
      "cell_type": "code",
      "metadata": {
        "colab": {
          "base_uri": "https://localhost:8080/"
        },
        "id": "q7ZyHdo54l64",
        "outputId": "cbb8c945-1776-4362-d7b0-de370cfa4100"
      },
      "source": [
        "l = l + [4]\n",
        "print(l)\n",
        "id(l)"
      ],
      "execution_count": null,
      "outputs": [
        {
          "output_type": "stream",
          "text": [
            "[1, 2, 3, 4]\n"
          ],
          "name": "stdout"
        },
        {
          "output_type": "execute_result",
          "data": {
            "text/plain": [
              "139688863519200"
            ]
          },
          "metadata": {
            "tags": []
          },
          "execution_count": 2
        }
      ]
    },
    {
      "cell_type": "markdown",
      "metadata": {
        "id": "9lZQojk-48hI"
      },
      "source": [
        "### **Appending and Extending**\n",
        "We can also append elements to the sequence (note that this is **not** the same as concatenation):"
      ]
    },
    {
      "cell_type": "code",
      "metadata": {
        "colab": {
          "base_uri": "https://localhost:8080/"
        },
        "id": "C2yeG4lL4y9j",
        "outputId": "81ee500a-4739-4070-e4b8-253f048a4b6d"
      },
      "source": [
        "l = [1,2,3]\n",
        "print(id(l))\n",
        "l.append(4)\n",
        "print(l, id(l))"
      ],
      "execution_count": null,
      "outputs": [
        {
          "output_type": "stream",
          "text": [
            "139688930446064\n",
            "[1, 2, 3, 4] 139688930446064\n"
          ],
          "name": "stdout"
        }
      ]
    },
    {
      "cell_type": "markdown",
      "metadata": {
        "id": "sSVgypyn6zJh"
      },
      "source": [
        "If we had \"appended\" the value 4 using concatenation:"
      ]
    },
    {
      "cell_type": "code",
      "metadata": {
        "colab": {
          "base_uri": "https://localhost:8080/"
        },
        "id": "SjmXSx1J6tZx",
        "outputId": "e944165a-6ad3-4cff-e12b-b8b301e79d76"
      },
      "source": [
        "l = [1, 2, 3]\n",
        "print(id(l))\n",
        "l = l + [4]\n",
        "print(id(l), l)"
      ],
      "execution_count": null,
      "outputs": [
        {
          "output_type": "stream",
          "text": [
            "139688863029280\n",
            "139688862753168 [1, 2, 3, 4]\n"
          ],
          "name": "stdout"
        }
      ]
    },
    {
      "cell_type": "markdown",
      "metadata": {
        "id": "3qFSAqb165NH"
      },
      "source": [
        "If we want to add more than one element at a time, we can extend a sequence with the contents of any iterable (not just sequences):"
      ]
    },
    {
      "cell_type": "code",
      "metadata": {
        "colab": {
          "base_uri": "https://localhost:8080/"
        },
        "id": "d0sqL2Z762Dr",
        "outputId": "497b67e4-c2b6-4bd1-bd43-88ce3c81e69e"
      },
      "source": [
        "l = [1,2,3,4,5]\n",
        "print(id(l))\n",
        "l.extend({'a','b','c'})\n",
        "print(id(l), l)"
      ],
      "execution_count": null,
      "outputs": [
        {
          "output_type": "stream",
          "text": [
            "139688862732928\n",
            "139688862732928 [1, 2, 3, 4, 5, 'a', 'b', 'c']\n"
          ],
          "name": "stdout"
        }
      ]
    },
    {
      "cell_type": "markdown",
      "metadata": {
        "id": "vnDOsgeQ9_Ci"
      },
      "source": [
        "compared with below which append the iterable itself:"
      ]
    },
    {
      "cell_type": "code",
      "metadata": {
        "colab": {
          "base_uri": "https://localhost:8080/"
        },
        "id": "XF0eBS_g7HTc",
        "outputId": "5b5be555-5acf-4683-baba-8631549cd71d"
      },
      "source": [
        "l = [1,2,3,4,5]\n",
        "l.append(['a','b','c'])\n",
        "l"
      ],
      "execution_count": null,
      "outputs": [
        {
          "output_type": "execute_result",
          "data": {
            "text/plain": [
              "[1, 2, 3, 4, 5, ['a', 'b', 'c']]"
            ]
          },
          "metadata": {
            "tags": []
          },
          "execution_count": 8
        }
      ]
    },
    {
      "cell_type": "markdown",
      "metadata": {
        "id": "ba95XnJr-dls"
      },
      "source": [
        "But the elements inside the `extend()` need to be iterable"
      ]
    },
    {
      "cell_type": "code",
      "metadata": {
        "id": "-k1bG7wz-wvp"
      },
      "source": [
        "l=[1,2,3]"
      ],
      "execution_count": null,
      "outputs": []
    },
    {
      "cell_type": "code",
      "metadata": {
        "colab": {
          "base_uri": "https://localhost:8080/",
          "height": 165
        },
        "id": "t-Rr5Mx3-Mvu",
        "outputId": "0d7b38ef-d6a0-4a24-e2fe-c2e73d282ef6"
      },
      "source": [
        "l.extend(4)"
      ],
      "execution_count": null,
      "outputs": [
        {
          "output_type": "error",
          "ename": "TypeError",
          "evalue": "ignored",
          "traceback": [
            "\u001b[0;31m---------------------------------------------------------------------------\u001b[0m",
            "\u001b[0;31mTypeError\u001b[0m                                 Traceback (most recent call last)",
            "\u001b[0;32m<ipython-input-22-97fb88f63980>\u001b[0m in \u001b[0;36m<module>\u001b[0;34m()\u001b[0m\n\u001b[0;32m----> 1\u001b[0;31m \u001b[0ml\u001b[0m\u001b[0;34m.\u001b[0m\u001b[0mextend\u001b[0m\u001b[0;34m(\u001b[0m\u001b[0;36m4\u001b[0m\u001b[0;34m)\u001b[0m\u001b[0;34m\u001b[0m\u001b[0;34m\u001b[0m\u001b[0m\n\u001b[0m",
            "\u001b[0;31mTypeError\u001b[0m: 'int' object is not iterable"
          ]
        }
      ]
    },
    {
      "cell_type": "code",
      "metadata": {
        "colab": {
          "base_uri": "https://localhost:8080/"
        },
        "id": "gxXMuTdC-l-Y",
        "outputId": "928a4260-e790-4cbb-c9b3-33a6fba9c47d"
      },
      "source": [
        "l.extend([4])\n",
        "l"
      ],
      "execution_count": null,
      "outputs": [
        {
          "output_type": "execute_result",
          "data": {
            "text/plain": [
              "[1, 2, 3, 4]"
            ]
          },
          "metadata": {
            "tags": []
          },
          "execution_count": 23
        }
      ]
    },
    {
      "cell_type": "markdown",
      "metadata": {
        "id": "Q63QBJAk-2bh"
      },
      "source": [
        "Of course, since we extended using a set, there was not gurantee of positional ordering.\n",
        "\n",
        "If we extend with another sequence, then positional ordering is retained:"
      ]
    },
    {
      "cell_type": "code",
      "metadata": {
        "colab": {
          "base_uri": "https://localhost:8080/"
        },
        "id": "0-fDXJdB-rxR",
        "outputId": "921b7490-ddef-4e8f-ab98-0e5755a624af"
      },
      "source": [
        "l = [1,2,3]\n",
        "print(id(l))\n",
        "l.extend(('a','b','c'))\n",
        "print(l, id(l))"
      ],
      "execution_count": null,
      "outputs": [
        {
          "output_type": "stream",
          "text": [
            "139688862658464\n",
            "[1, 2, 3, 'a', 'b', 'c'] 139688862658464\n"
          ],
          "name": "stdout"
        }
      ]
    },
    {
      "cell_type": "markdown",
      "metadata": {
        "id": "j30kpK_1AA1-"
      },
      "source": [
        "### **Removing Elements**\n",
        "We can remove (and retrieve at the same time) an element from a mutable sequence at a given position:"
      ]
    },
    {
      "cell_type": "code",
      "metadata": {
        "id": "izlv-9UC_SAX",
        "colab": {
          "base_uri": "https://localhost:8080/"
        },
        "outputId": "72385068-b9b4-4389-ed30-6753738aac88"
      },
      "source": [
        "l = [1,2,3,4]\n",
        "print(id(l))\n",
        "popped = l.pop(1)\n",
        "print(id(l), popped, l)"
      ],
      "execution_count": 1,
      "outputs": [
        {
          "output_type": "stream",
          "text": [
            "140370810217088\n",
            "140370810217088 2 [1, 3, 4]\n"
          ],
          "name": "stdout"
        }
      ]
    },
    {
      "cell_type": "markdown",
      "metadata": {
        "id": "TUkNXyYEFL3P"
      },
      "source": [
        "If we do not specify an index for pop, then the last element is popped:"
      ]
    },
    {
      "cell_type": "code",
      "metadata": {
        "colab": {
          "base_uri": "https://localhost:8080/"
        },
        "id": "4wA2pZ4dE7vg",
        "outputId": "93e119ad-8ab4-4006-fa5a-731308060cd8"
      },
      "source": [
        "l = [1,2,3,4]\n",
        "popped = l.pop()\n",
        "print(popped)\n",
        "print(id(l), popped, l)"
      ],
      "execution_count": 2,
      "outputs": [
        {
          "output_type": "stream",
          "text": [
            "4\n",
            "140370810176928 4 [1, 2, 3]\n"
          ],
          "name": "stdout"
        }
      ]
    },
    {
      "cell_type": "code",
      "metadata": {
        "id": "H5LlOep5GJRI"
      },
      "source": [
        ""
      ],
      "execution_count": null,
      "outputs": []
    }
  ]
}