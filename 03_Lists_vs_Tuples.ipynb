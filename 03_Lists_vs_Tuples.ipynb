{
  "nbformat": 4,
  "nbformat_minor": 0,
  "metadata": {
    "colab": {
      "name": "03 - Lists vs Tuples.ipynb",
      "provenance": [],
      "collapsed_sections": [],
      "authorship_tag": "ABX9TyPhXgsYyLj/DlZWN5GpP5pV",
      "include_colab_link": true
    },
    "kernelspec": {
      "name": "python3",
      "display_name": "Python 3"
    },
    "language_info": {
      "name": "python"
    }
  },
  "cells": [
    {
      "cell_type": "markdown",
      "metadata": {
        "id": "view-in-github",
        "colab_type": "text"
      },
      "source": [
        "<a href=\"https://colab.research.google.com/github/RocioLiu/Coding_Resources/blob/master/03_Lists_vs_Tuples.ipynb\" target=\"_parent\"><img src=\"https://colab.research.google.com/assets/colab-badge.svg\" alt=\"Open In Colab\"/></a>"
      ]
    },
    {
      "cell_type": "markdown",
      "metadata": {
        "id": "77-ZsfACSeYs"
      },
      "source": [
        "## **Lists vs Tuples**\n",
        "Remember that both lists and tuples are considered **sequence** types.\n",
        "\n",
        "Remember also that we should consider tuples as data structures (position has meaning) as we saw in an earlier section on named tuples.\n",
        "\n",
        "However, in this context we are going to view tuples as \"immutable lists\".\n",
        "\n",
        "Generally, tuples are more efficient that lists, so, unless you need mutability of the container, prefer using a tuple over a list."
      ]
    },
    {
      "cell_type": "markdown",
      "metadata": {
        "id": "gvPaRvMhS6MD"
      },
      "source": [
        "### **Creating Tuples**\n",
        "We saw some of this already in the first section of this course when we looked at some of the optimizations Python implements, but let's revisit it in this context.\n",
        "\n",
        "Here is Wikipedia's definition of constant folding:\n",
        "\n",
        "`Constant folding is the process of recognizing and evaluating constant expressions at compile time rather than computing them at runtime.`\n",
        "\n",
        "To see how this works, we are going to use the dis module which allows to see the disassembled Python bytecode - not for the faint of heart, but can be really useful!"
      ]
    },
    {
      "cell_type": "code",
      "metadata": {
        "id": "GImK9imBHuOS"
      },
      "source": [
        ""
      ],
      "execution_count": null,
      "outputs": []
    }
  ]
}