{
  "nbformat": 4,
  "nbformat_minor": 0,
  "metadata": {
    "colab": {
      "name": "03 - Lists vs Tuples.ipynb",
      "provenance": [],
      "collapsed_sections": [],
      "authorship_tag": "ABX9TyO4DGsHCXP6HJMXVeV1vNfc",
      "include_colab_link": true
    },
    "kernelspec": {
      "name": "python3",
      "display_name": "Python 3"
    },
    "language_info": {
      "name": "python"
    }
  },
  "cells": [
    {
      "cell_type": "markdown",
      "metadata": {
        "id": "view-in-github",
        "colab_type": "text"
      },
      "source": [
        "<a href=\"https://colab.research.google.com/github/RocioLiu/Coding_Resources/blob/master/03_Lists_vs_Tuples.ipynb\" target=\"_parent\"><img src=\"https://colab.research.google.com/assets/colab-badge.svg\" alt=\"Open In Colab\"/></a>"
      ]
    },
    {
      "cell_type": "markdown",
      "metadata": {
        "id": "77-ZsfACSeYs"
      },
      "source": [
        "## **Lists vs Tuples**\n",
        "Remember that both lists and tuples are considered **sequence** types.\n",
        "\n",
        "Remember also that we should consider tuples as data structures (position has meaning) as we saw in an earlier section on named tuples.\n",
        "\n",
        "However, in this context we are going to view tuples as \"immutable lists\".\n",
        "\n",
        "Generally, tuples are more efficient that lists, so, unless you need mutability of the container, prefer using a tuple over a list."
      ]
    },
    {
      "cell_type": "markdown",
      "metadata": {
        "id": "gvPaRvMhS6MD"
      },
      "source": [
        "### **Creating Tuples**\n",
        "We saw some of this already in the first section of this course when we looked at some of the optimizations Python implements, but let's revisit it in this context.\n",
        "\n",
        "Here is Wikipedia's definition of constant folding:\n",
        "\n",
        "`Constant folding is the process of recognizing and evaluating constant expressions at compile time rather than computing them at runtime.`\n",
        "\n",
        "To see how this works, we are going to use the dis module which allows to see the disassembled Python bytecode - not for the faint of heart, but can be really useful!"
      ]
    },
    {
      "cell_type": "code",
      "metadata": {
        "id": "GImK9imBHuOS"
      },
      "source": [
        "from dis import dis"
      ],
      "execution_count": 1,
      "outputs": []
    },
    {
      "cell_type": "markdown",
      "metadata": {
        "id": "SyNd1M8sm_U7"
      },
      "source": [
        "We want to understand what Python does when it compiles statements such as:"
      ]
    },
    {
      "cell_type": "code",
      "metadata": {
        "colab": {
          "base_uri": "https://localhost:8080/"
        },
        "id": "fNXbtjDem9B2",
        "outputId": "032ecbd7-1ee2-44fc-ce97-08e81fd838f8"
      },
      "source": [
        "(1, 2, 3)\n",
        "[1, 2, 3]"
      ],
      "execution_count": 3,
      "outputs": [
        {
          "output_type": "execute_result",
          "data": {
            "text/plain": [
              "[1, 2, 3]"
            ]
          },
          "metadata": {
            "tags": []
          },
          "execution_count": 3
        }
      ]
    },
    {
      "cell_type": "code",
      "metadata": {
        "colab": {
          "base_uri": "https://localhost:8080/"
        },
        "id": "i34VuEjRnBzr",
        "outputId": "3fd24d6e-ca6c-4f06-e75e-49be4a4dfe64"
      },
      "source": [
        "dis(compile('(1, 2, 3, \"a\")', 'string', 'eval'))"
      ],
      "execution_count": 7,
      "outputs": [
        {
          "output_type": "stream",
          "text": [
            "  1           0 LOAD_CONST               0 ((1, 2, 3, 'a'))\n",
            "              2 RETURN_VALUE\n"
          ],
          "name": "stdout"
        }
      ]
    },
    {
      "cell_type": "code",
      "metadata": {
        "colab": {
          "base_uri": "https://localhost:8080/"
        },
        "id": "6CTKuHKFnKJc",
        "outputId": "c141d869-f367-4730-8ed7-6e16111d44dd"
      },
      "source": [
        "dis(compile('[1, 2, 3, \"a\"]', 'string', 'eval'))"
      ],
      "execution_count": 8,
      "outputs": [
        {
          "output_type": "stream",
          "text": [
            "  1           0 LOAD_CONST               0 (1)\n",
            "              2 LOAD_CONST               1 (2)\n",
            "              4 LOAD_CONST               2 (3)\n",
            "              6 LOAD_CONST               3 ('a')\n",
            "              8 BUILD_LIST               4\n",
            "             10 RETURN_VALUE\n"
          ],
          "name": "stdout"
        }
      ]
    },
    {
      "cell_type": "code",
      "metadata": {
        "id": "exN-ybXznpH3"
      },
      "source": [
        ""
      ],
      "execution_count": null,
      "outputs": []
    }
  ]
}