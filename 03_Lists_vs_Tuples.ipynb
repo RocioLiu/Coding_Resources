{
  "nbformat": 4,
  "nbformat_minor": 0,
  "metadata": {
    "colab": {
      "name": "03 - Lists vs Tuples.ipynb",
      "provenance": [],
      "collapsed_sections": [],
      "authorship_tag": "ABX9TyMqIK3eLhVnrpDGmOgzPHmd",
      "include_colab_link": true
    },
    "kernelspec": {
      "name": "python3",
      "display_name": "Python 3"
    },
    "language_info": {
      "name": "python"
    }
  },
  "cells": [
    {
      "cell_type": "markdown",
      "metadata": {
        "id": "view-in-github",
        "colab_type": "text"
      },
      "source": [
        "<a href=\"https://colab.research.google.com/github/RocioLiu/Coding_Resources/blob/master/03_Lists_vs_Tuples.ipynb\" target=\"_parent\"><img src=\"https://colab.research.google.com/assets/colab-badge.svg\" alt=\"Open In Colab\"/></a>"
      ]
    },
    {
      "cell_type": "markdown",
      "metadata": {
        "id": "77-ZsfACSeYs"
      },
      "source": [
        "## **Lists vs Tuples**\n",
        "Remember that both lists and tuples are considered **sequence** types.\n",
        "\n",
        "Remember also that we should consider tuples as data structures (position has meaning) as we saw in an earlier section on named tuples.\n",
        "\n",
        "However, in this context we are going to view tuples as \"immutable lists\".\n",
        "\n",
        "Generally, tuples are more efficient that lists, so, unless you need mutability of the container, prefer using a tuple over a list."
      ]
    },
    {
      "cell_type": "markdown",
      "metadata": {
        "id": "gvPaRvMhS6MD"
      },
      "source": [
        "### **Creating Tuples**\n",
        "We saw some of this already in the first section of this course when we looked at some of the optimizations Python implements, but let's revisit it in this context.\n",
        "\n",
        "Here is Wikipedia's definition of constant folding:\n",
        "\n",
        "`Constant folding is the process of recognizing and evaluating constant expressions at compile time rather than computing them at runtime.`\n",
        "\n",
        "To see how this works, we are going to use the dis module which allows to see the disassembled Python bytecode - not for the faint of heart, but can be really useful!"
      ]
    },
    {
      "cell_type": "code",
      "metadata": {
        "id": "GImK9imBHuOS"
      },
      "source": [
        "from dis import dis"
      ],
      "execution_count": 1,
      "outputs": []
    },
    {
      "cell_type": "markdown",
      "metadata": {
        "id": "SyNd1M8sm_U7"
      },
      "source": [
        "We want to understand what Python does when it compiles statements such as:"
      ]
    },
    {
      "cell_type": "code",
      "metadata": {
        "colab": {
          "base_uri": "https://localhost:8080/"
        },
        "id": "fNXbtjDem9B2",
        "outputId": "631ac5bb-8fd9-44b1-b456-711a6fb9fa1b"
      },
      "source": [
        "(1, 2, 3)\n",
        "[1, 2, 3]"
      ],
      "execution_count": 2,
      "outputs": [
        {
          "output_type": "execute_result",
          "data": {
            "text/plain": [
              "[1, 2, 3]"
            ]
          },
          "metadata": {
            "tags": []
          },
          "execution_count": 2
        }
      ]
    },
    {
      "cell_type": "code",
      "metadata": {
        "colab": {
          "base_uri": "https://localhost:8080/"
        },
        "id": "i34VuEjRnBzr",
        "outputId": "b59329f4-f895-4ecf-e773-3256d23ff08f"
      },
      "source": [
        "dis(compile('(1, 2, 3, \"a\")', 'string', 'eval'))"
      ],
      "execution_count": 3,
      "outputs": [
        {
          "output_type": "stream",
          "text": [
            "  1           0 LOAD_CONST               0 ((1, 2, 3, 'a'))\n",
            "              2 RETURN_VALUE\n"
          ],
          "name": "stdout"
        }
      ]
    },
    {
      "cell_type": "code",
      "metadata": {
        "colab": {
          "base_uri": "https://localhost:8080/"
        },
        "id": "6CTKuHKFnKJc",
        "outputId": "921576ac-61dd-452d-e032-1b9dc69824c7"
      },
      "source": [
        "dis(compile('[1, 2, 3, \"a\"]', 'string', 'eval'))"
      ],
      "execution_count": 4,
      "outputs": [
        {
          "output_type": "stream",
          "text": [
            "  1           0 LOAD_CONST               0 (1)\n",
            "              2 LOAD_CONST               1 (2)\n",
            "              4 LOAD_CONST               2 (3)\n",
            "              6 LOAD_CONST               3 ('a')\n",
            "              8 BUILD_LIST               4\n",
            "             10 RETURN_VALUE\n"
          ],
          "name": "stdout"
        }
      ]
    },
    {
      "cell_type": "code",
      "metadata": {
        "id": "exN-ybXznpH3",
        "colab": {
          "base_uri": "https://localhost:8080/"
        },
        "outputId": "b74dd3bc-9762-470a-810a-38a9415bac25"
      },
      "source": [
        "dis(compile('(1, 2, 3, [10, 20])', 'string', 'eval'))"
      ],
      "execution_count": 5,
      "outputs": [
        {
          "output_type": "stream",
          "text": [
            "  1           0 LOAD_CONST               0 (1)\n",
            "              2 LOAD_CONST               1 (2)\n",
            "              4 LOAD_CONST               2 (3)\n",
            "              6 LOAD_CONST               3 (10)\n",
            "              8 LOAD_CONST               4 (20)\n",
            "             10 BUILD_LIST               2\n",
            "             12 BUILD_TUPLE              4\n",
            "             14 RETURN_VALUE\n"
          ],
          "name": "stdout"
        }
      ]
    },
    {
      "cell_type": "markdown",
      "metadata": {
        "id": "9M6dOr3ZFSXY"
      },
      "source": [
        "Notice how for a tuple containing constants (such as ints and strings in this case), the values are loaded in one step, a single constant value essentially.\n",
        "\n",
        "Lists, on the other hand are built-up one element at a time.\n",
        "\n",
        "So, that's one reason why tuples can \"load\" faster than a list.\n",
        "\n",
        "In fact, we can easily time this:"
      ]
    },
    {
      "cell_type": "code",
      "metadata": {
        "id": "6jljflFZFC8x"
      },
      "source": [
        "from timeit import timeit"
      ],
      "execution_count": 6,
      "outputs": []
    },
    {
      "cell_type": "code",
      "metadata": {
        "colab": {
          "base_uri": "https://localhost:8080/"
        },
        "id": "V-r6CO8sFXCQ",
        "outputId": "7e28eb18-1ff6-4b30-a292-0af51f162ae8"
      },
      "source": [
        "timeit(\"(1,2,3,4,5,6,7,8,9)\", number=10_000_000)"
      ],
      "execution_count": 8,
      "outputs": [
        {
          "output_type": "execute_result",
          "data": {
            "text/plain": [
              "0.11607106100001374"
            ]
          },
          "metadata": {
            "tags": []
          },
          "execution_count": 8
        }
      ]
    },
    {
      "cell_type": "code",
      "metadata": {
        "colab": {
          "base_uri": "https://localhost:8080/"
        },
        "id": "8tk-xQ7SFgh2",
        "outputId": "7c9d08ad-acdc-4079-d69b-5bc432d174bc"
      },
      "source": [
        "timeit(\"[1,2,3,4,5,6,7,8,9]\", number=10_000_000)"
      ],
      "execution_count": 9,
      "outputs": [
        {
          "output_type": "execute_result",
          "data": {
            "text/plain": [
              "0.9770391030000383"
            ]
          },
          "metadata": {
            "tags": []
          },
          "execution_count": 9
        }
      ]
    },
    {
      "cell_type": "code",
      "metadata": {
        "id": "Icn4HX2VFlkt"
      },
      "source": [
        ""
      ],
      "execution_count": null,
      "outputs": []
    }
  ]
}