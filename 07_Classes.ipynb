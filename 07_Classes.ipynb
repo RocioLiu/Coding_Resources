{
  "nbformat": 4,
  "nbformat_minor": 0,
  "metadata": {
    "colab": {
      "name": "07 - Classes.ipynb",
      "provenance": [],
      "collapsed_sections": [],
      "authorship_tag": "ABX9TyMMO8aDlV2NbJFFZfq4hOr6",
      "include_colab_link": true
    },
    "kernelspec": {
      "name": "python3",
      "display_name": "Python 3"
    }
  },
  "cells": [
    {
      "cell_type": "markdown",
      "metadata": {
        "id": "view-in-github",
        "colab_type": "text"
      },
      "source": [
        "<a href=\"https://colab.research.google.com/github/RocioLiu/Coding_Resources/blob/master/07_Classes.ipynb\" target=\"_parent\"><img src=\"https://colab.research.google.com/assets/colab-badge.svg\" alt=\"Open In Colab\"/></a>"
      ]
    },
    {
      "cell_type": "markdown",
      "metadata": {
        "id": "PKFUe9wy4IKV"
      },
      "source": [
        "## **Custom Classes**\n",
        "We'll cover classes in a lot of detail in this course, but for now you should have at least some understanding of classes in Python and how to create them.\n",
        "\n",
        "To create a custom class we use the class keyword, and we can initialize class attributes in the special method `__init__`."
      ]
    },
    {
      "cell_type": "code",
      "metadata": {
        "id": "vrusz2Uw3IfJ"
      },
      "source": [
        "class Rectangle():\n",
        "  def __init__(self, width, height):\n",
        "    self.width = width\n",
        "    self.height = height"
      ],
      "execution_count": 48,
      "outputs": []
    },
    {
      "cell_type": "markdown",
      "metadata": {
        "id": "zZwihDBW4XDH"
      },
      "source": [
        "We create instances of the Rectangle class by calling it with arguments that are passed to the `__init__` method as the second and third arguments. The first argument (`self`) is automatically filled in by Python and contains the object being created.\n",
        "\n",
        "Note that using `self` is just a convention (although a good one, and you shgoudl use it to make your code more understandable by others), you could really call it whatever (valid) name you choose.\n",
        "\n",
        "But just because you can does not mean you should!\n",
        "\n",
        "The **initializer** in python is implemented using the `__init__` method. The `__init__` method runs once the object has been created.\n",
        "\n",
        "The initialzer is the step after the object being created. The first argument in the instance method is the object itself. we can call it any thing we want, but we usually call it `self` by convention. So `self` means the instance that just been creted."
      ]
    },
    {
      "cell_type": "code",
      "metadata": {
        "id": "_yp4DUw14Npz"
      },
      "source": [
        "r1 = Rectangle(10, 20)\n",
        "r2 = Rectangle(3, 5)"
      ],
      "execution_count": 49,
      "outputs": []
    },
    {
      "cell_type": "code",
      "metadata": {
        "id": "XWryuHme8SKV",
        "colab": {
          "base_uri": "https://localhost:8080/"
        },
        "outputId": "f01f6ae1-3f84-4720-bf73-0fc4e1ae2811"
      },
      "source": [
        "r1.width"
      ],
      "execution_count": 50,
      "outputs": [
        {
          "output_type": "execute_result",
          "data": {
            "text/plain": [
              "10"
            ]
          },
          "metadata": {
            "tags": []
          },
          "execution_count": 50
        }
      ]
    },
    {
      "cell_type": "code",
      "metadata": {
        "id": "0gNj6Dbu8gHX",
        "colab": {
          "base_uri": "https://localhost:8080/"
        },
        "outputId": "65c327fc-0473-48d6-bcea-38424082b739"
      },
      "source": [
        "r1.width = 100\n",
        "r1.width"
      ],
      "execution_count": 51,
      "outputs": [
        {
          "output_type": "execute_result",
          "data": {
            "text/plain": [
              "100"
            ]
          },
          "metadata": {
            "tags": []
          },
          "execution_count": 51
        }
      ]
    },
    {
      "cell_type": "code",
      "metadata": {
        "id": "IWhgj3kh8kIF",
        "colab": {
          "base_uri": "https://localhost:8080/"
        },
        "outputId": "cb179cd0-43b5-49f9-9f4b-118570dcd25c"
      },
      "source": [
        "r2.height"
      ],
      "execution_count": 52,
      "outputs": [
        {
          "output_type": "execute_result",
          "data": {
            "text/plain": [
              "5"
            ]
          },
          "metadata": {
            "tags": []
          },
          "execution_count": 52
        }
      ]
    },
    {
      "cell_type": "markdown",
      "metadata": {
        "id": "s_doopWa9MN1"
      },
      "source": [
        "`width` and `height` are attributes of the `Rectangle` class. But since they are just values (not callables), we call them **properties**.\n",
        "\n",
        "Attributes that are callables are called **methods**.\n",
        "\n",
        "You'll note that we were able to retrieve the width and height attributes (properties) using a dot notation, where we specify the object we are interested in, then a dot, then the attribute we are interested in.\n",
        "\n",
        "We can add callable attributes to our class (methods), that will also be referenced using the dot notation.\n",
        "\n",
        "Again, we will create instance methods, which means the method will require the first argument to be the object being used when the method is called."
      ]
    },
    {
      "cell_type": "code",
      "metadata": {
        "id": "MMF9OOTZ8xvb"
      },
      "source": [
        "class Rectangle():\n",
        "  def __init__(self, width, height):\n",
        "    self.width = width\n",
        "    self.height = height\n",
        "\n",
        "  def area(self):\n",
        "    return self.width * self.height\n",
        "\n",
        "  def perimeter(the_referenced_object):\n",
        "    return 2 * (the_referenced_object.width + the_referenced_object.height)"
      ],
      "execution_count": 53,
      "outputs": []
    },
    {
      "cell_type": "code",
      "metadata": {
        "id": "Tkotg8Jj-l52"
      },
      "source": [
        "r1 = Rectangle(10, 20)"
      ],
      "execution_count": 54,
      "outputs": []
    },
    {
      "cell_type": "code",
      "metadata": {
        "id": "up6KYldn-pm-",
        "colab": {
          "base_uri": "https://localhost:8080/"
        },
        "outputId": "1e0b48d0-e4e6-4e6a-df9e-3662b88be03e"
      },
      "source": [
        "r1.area()"
      ],
      "execution_count": 55,
      "outputs": [
        {
          "output_type": "execute_result",
          "data": {
            "text/plain": [
              "200"
            ]
          },
          "metadata": {
            "tags": []
          },
          "execution_count": 55
        }
      ]
    },
    {
      "cell_type": "markdown",
      "metadata": {
        "id": "k6PBDIV4-1GH"
      },
      "source": [
        "When we ran the above line of code, our object was `r1`, so when area was called, Python in fact called the method area in the `Rectangle` class automatically passing `r1` to the `self` parameter.\n",
        "\n",
        "This is why we can use a name other than self, such as in the perimeter method:"
      ]
    },
    {
      "cell_type": "code",
      "metadata": {
        "id": "AtsCFHnK-tds",
        "colab": {
          "base_uri": "https://localhost:8080/"
        },
        "outputId": "8e88e7e0-d541-4226-a0cb-244252383aec"
      },
      "source": [
        "r1.perimeter()"
      ],
      "execution_count": 56,
      "outputs": [
        {
          "output_type": "execute_result",
          "data": {
            "text/plain": [
              "60"
            ]
          },
          "metadata": {
            "tags": []
          },
          "execution_count": 56
        }
      ]
    },
    {
      "cell_type": "markdown",
      "metadata": {
        "id": "2ioBvJKR_bJz"
      },
      "source": [
        "Again, we're just illustrating a point, don't actually do that!"
      ]
    },
    {
      "cell_type": "code",
      "metadata": {
        "id": "1ENIdhUW-vEH"
      },
      "source": [
        "class Rectangle:\n",
        "    def __init__(self, width, height):\n",
        "        self.width = width\n",
        "        self.height = height\n",
        "        \n",
        "    def area(self):\n",
        "        return self.width * self.height\n",
        "    \n",
        "    def perimeter(self):\n",
        "        return 2 * (self.width + self.height)"
      ],
      "execution_count": 57,
      "outputs": []
    },
    {
      "cell_type": "code",
      "metadata": {
        "id": "gSJVL2Cm_hJS"
      },
      "source": [
        "r1 = Rectangle(10, 20)"
      ],
      "execution_count": 58,
      "outputs": []
    },
    {
      "cell_type": "markdown",
      "metadata": {
        "id": "6HQCSf6XSFai"
      },
      "source": [
        "Python defines a bunch of **special** methods that we can use to give our classes functionality that resembles functionality of built-in and standard library objects.\n",
        "\n",
        "Many people refer to them as magic methods, but there's nothing magical about them - unlike magic, they are well documented and understood!!\n",
        "\n",
        "These **special** methods provide us an easy way to overload operators in Python.\n",
        "\n",
        "For example, we can obtain the string representation of an integer using the built-in `str` function:"
      ]
    },
    {
      "cell_type": "code",
      "metadata": {
        "id": "H721-mgVSUhI",
        "colab": {
          "base_uri": "https://localhost:8080/",
          "height": 35
        },
        "outputId": "ce5b9de3-55b3-4749-d8fb-e6246269c3da"
      },
      "source": [
        "str(10)"
      ],
      "execution_count": 59,
      "outputs": [
        {
          "output_type": "execute_result",
          "data": {
            "application/vnd.google.colaboratory.intrinsic+json": {
              "type": "string"
            },
            "text/plain": [
              "'10'"
            ]
          },
          "metadata": {
            "tags": []
          },
          "execution_count": 59
        }
      ]
    },
    {
      "cell_type": "markdown",
      "metadata": {
        "id": "xVRW0XwLSgS0"
      },
      "source": [
        "What happens if we try this with our `Rectangle` object?"
      ]
    },
    {
      "cell_type": "code",
      "metadata": {
        "id": "dx855Bwi_iw8",
        "colab": {
          "base_uri": "https://localhost:8080/",
          "height": 35
        },
        "outputId": "2579ac55-b593-4239-af0f-d32d88295c15"
      },
      "source": [
        "str(r1)"
      ],
      "execution_count": 60,
      "outputs": [
        {
          "output_type": "execute_result",
          "data": {
            "application/vnd.google.colaboratory.intrinsic+json": {
              "type": "string"
            },
            "text/plain": [
              "'<__main__.Rectangle object at 0x7f1119702710>'"
            ]
          },
          "metadata": {
            "tags": []
          },
          "execution_count": 60
        }
      ]
    },
    {
      "cell_type": "code",
      "metadata": {
        "id": "cgbRZqFuMUVG",
        "colab": {
          "base_uri": "https://localhost:8080/",
          "height": 35
        },
        "outputId": "af045281-5066-47ec-bc9d-45522f75a73b"
      },
      "source": [
        "hex(id(r1))"
      ],
      "execution_count": 61,
      "outputs": [
        {
          "output_type": "execute_result",
          "data": {
            "application/vnd.google.colaboratory.intrinsic+json": {
              "type": "string"
            },
            "text/plain": [
              "'0x7f1119702710'"
            ]
          },
          "metadata": {
            "tags": []
          },
          "execution_count": 61
        }
      ]
    },
    {
      "cell_type": "markdown",
      "metadata": {
        "id": "Iv3pn7bJSqy6"
      },
      "source": [
        "Not exactly what we might have expected. On the other hand, how is Python supposed to know how to display our rectangle as a string?\n",
        "\n",
        "We could write a method in the class such as:"
      ]
    },
    {
      "cell_type": "code",
      "metadata": {
        "id": "60XWqiyoOmzB"
      },
      "source": [
        "class Rectangle:\n",
        "    def __init__(self, width, height):\n",
        "        self.width = width\n",
        "        self.height = height\n",
        "        \n",
        "    def area(self):\n",
        "        return self.width * self.height\n",
        "    \n",
        "    def perimeter(self):\n",
        "        return 2 * (self.width + self.height)\n",
        "\n",
        "    def to_string(self):\n",
        "        return 'Rectangle: width={0}, height={1}'.format(self.width, self.height)"
      ],
      "execution_count": 62,
      "outputs": []
    },
    {
      "cell_type": "markdown",
      "metadata": {
        "id": "YWGd5wEBSuzL"
      },
      "source": [
        "So now we could get a string from our object as follows:"
      ]
    },
    {
      "cell_type": "code",
      "metadata": {
        "id": "p2bmRwvtPRXp"
      },
      "source": [
        "r1 = Rectangle(10,20)"
      ],
      "execution_count": 63,
      "outputs": []
    },
    {
      "cell_type": "code",
      "metadata": {
        "id": "vs6pACDKPalJ",
        "colab": {
          "base_uri": "https://localhost:8080/",
          "height": 35
        },
        "outputId": "dd24d6e3-d447-4b14-da02-46b57dc37346"
      },
      "source": [
        "r1.to_string()"
      ],
      "execution_count": 64,
      "outputs": [
        {
          "output_type": "execute_result",
          "data": {
            "application/vnd.google.colaboratory.intrinsic+json": {
              "type": "string"
            },
            "text/plain": [
              "'Rectangle: width=10, height=20'"
            ]
          },
          "metadata": {
            "tags": []
          },
          "execution_count": 64
        }
      ]
    },
    {
      "cell_type": "markdown",
      "metadata": {
        "id": "X1_YXNRsS0f_"
      },
      "source": [
        "But of course, using the built-in `str` function still does not work:"
      ]
    },
    {
      "cell_type": "code",
      "metadata": {
        "id": "5GiCwmd6PZ8b",
        "colab": {
          "base_uri": "https://localhost:8080/",
          "height": 35
        },
        "outputId": "86cd16df-5604-4680-dba8-a3c61cc72aac"
      },
      "source": [
        "str(r1)"
      ],
      "execution_count": 65,
      "outputs": [
        {
          "output_type": "execute_result",
          "data": {
            "application/vnd.google.colaboratory.intrinsic+json": {
              "type": "string"
            },
            "text/plain": [
              "'<__main__.Rectangle object at 0x7f1119705ef0>'"
            ]
          },
          "metadata": {
            "tags": []
          },
          "execution_count": 65
        }
      ]
    },
    {
      "cell_type": "markdown",
      "metadata": {
        "id": "sjhTStyaTClP"
      },
      "source": [
        "Does this mean we are out of luck, and anyone who writes a class in Python will need to provide some method to do this, and probably come up with their own name for the method too, maybe `to_str`, `make_string`, `stringify`, and who knows what else.\n",
        "\n",
        "Fortunately, this is where these special methods come in. When we call `str(r1)`, Python will first look to see if our class (`Rectangle`) has a special method called `__str__`.\n",
        "\n",
        "If the `__str__` method is present, then Python will call it and return that value.\n",
        "\n",
        "There's actually another one called `__repr__` which is related, but we'll just focus on `__str__` for now."
      ]
    },
    {
      "cell_type": "code",
      "metadata": {
        "id": "uB0QsYvKPc0a"
      },
      "source": [
        "class Rectangle:\n",
        "    def __init__(self, width, height):\n",
        "        self.width = width\n",
        "        self.height = height\n",
        "        \n",
        "    def area(self):\n",
        "        return self.width * self.height\n",
        "    \n",
        "    def perimeter(self):\n",
        "        return 2 * (self.width + self.height)\n",
        "\n",
        "    def __str__(self):\n",
        "        return 'Rectangle: width={0}, height={1}'.format(self.width, self.height)"
      ],
      "execution_count": 66,
      "outputs": []
    },
    {
      "cell_type": "code",
      "metadata": {
        "id": "jY8aHOT_RSno"
      },
      "source": [
        "r1 = Rectangle(10,20)"
      ],
      "execution_count": 67,
      "outputs": []
    },
    {
      "cell_type": "code",
      "metadata": {
        "id": "l7XfZpYhRVI5",
        "colab": {
          "base_uri": "https://localhost:8080/",
          "height": 35
        },
        "outputId": "73623b23-d64b-4ae2-89d4-1a4abd41a478"
      },
      "source": [
        "str(r1)"
      ],
      "execution_count": 68,
      "outputs": [
        {
          "output_type": "execute_result",
          "data": {
            "application/vnd.google.colaboratory.intrinsic+json": {
              "type": "string"
            },
            "text/plain": [
              "'Rectangle: width=10, height=20'"
            ]
          },
          "metadata": {
            "tags": []
          },
          "execution_count": 68
        }
      ]
    },
    {
      "cell_type": "markdown",
      "metadata": {
        "id": "I4G1v4CFUEHg"
      },
      "source": [
        "However, in Jupyter (and interactive console if you are using that), look what happens here:"
      ]
    },
    {
      "cell_type": "code",
      "metadata": {
        "id": "479MqXqERV67",
        "colab": {
          "base_uri": "https://localhost:8080/"
        },
        "outputId": "48e4d286-0d99-478b-d02c-5236786f82ed"
      },
      "source": [
        "r1"
      ],
      "execution_count": 69,
      "outputs": [
        {
          "output_type": "execute_result",
          "data": {
            "text/plain": [
              "<__main__.Rectangle at 0x7f11196a57b8>"
            ]
          },
          "metadata": {
            "tags": []
          },
          "execution_count": 69
        }
      ]
    },
    {
      "cell_type": "markdown",
      "metadata": {
        "id": "QloGg3GW1qsP"
      },
      "source": [
        "As you can see we still get that default. That's because here Python is not converting `r1` to a string, but instead looking for a string **representation** of the object. It is looking for the `__repr__` method (which we'll come back to later)."
      ]
    },
    {
      "cell_type": "code",
      "metadata": {
        "id": "8Q-_QXBxRoVq"
      },
      "source": [
        "class Rectangle:\n",
        "    def __init__(self, width, height):\n",
        "        self.width = width\n",
        "        self.height = height\n",
        "        \n",
        "    def area(self):\n",
        "        return self.width * self.height\n",
        "    \n",
        "    def perimeter(self):\n",
        "        return 2 * (self.width + self.height)\n",
        "\n",
        "    def __str__(self):\n",
        "        return 'Rectangle: width={0}, height={1}'.format(self.width, self.height)\n",
        "        \n",
        "    def __repr__(self):\n",
        "        return 'Rectangle({0}, {1})'.format(self.width, self.height)\n"
      ],
      "execution_count": 70,
      "outputs": []
    },
    {
      "cell_type": "code",
      "metadata": {
        "id": "1nbYBAdS2k1Y"
      },
      "source": [
        "r1 = Rectangle(10,20)"
      ],
      "execution_count": 71,
      "outputs": []
    },
    {
      "cell_type": "code",
      "metadata": {
        "colab": {
          "base_uri": "https://localhost:8080/",
          "height": 35
        },
        "id": "vNypeEzv2oXs",
        "outputId": "6a887871-99c2-4da5-8e61-7abf00a7e157"
      },
      "source": [
        "str(r1)"
      ],
      "execution_count": 72,
      "outputs": [
        {
          "output_type": "execute_result",
          "data": {
            "application/vnd.google.colaboratory.intrinsic+json": {
              "type": "string"
            },
            "text/plain": [
              "'Rectangle: width=10, height=20'"
            ]
          },
          "metadata": {
            "tags": []
          },
          "execution_count": 72
        }
      ]
    },
    {
      "cell_type": "code",
      "metadata": {
        "colab": {
          "base_uri": "https://localhost:8080/"
        },
        "id": "4cPop4nh2suo",
        "outputId": "e244bcea-e858-4966-e5d4-0981f62a2590"
      },
      "source": [
        "print(r1)  # uses __str__"
      ],
      "execution_count": 73,
      "outputs": [
        {
          "output_type": "stream",
          "text": [
            "Rectangle: width=10, height=20\n"
          ],
          "name": "stdout"
        }
      ]
    },
    {
      "cell_type": "code",
      "metadata": {
        "colab": {
          "base_uri": "https://localhost:8080/"
        },
        "id": "lVMUxF4x2o-r",
        "outputId": "532f02c0-2868-4d94-a730-8a7a0277cb00"
      },
      "source": [
        "r1  # uses __repr__"
      ],
      "execution_count": 74,
      "outputs": [
        {
          "output_type": "execute_result",
          "data": {
            "text/plain": [
              "Rectangle(10, 20)"
            ]
          },
          "metadata": {
            "tags": []
          },
          "execution_count": 74
        }
      ]
    },
    {
      "cell_type": "markdown",
      "metadata": {
        "id": "GVzMvAYI3DA3"
      },
      "source": [
        "How about the comparison operators, such as == or <?"
      ]
    },
    {
      "cell_type": "code",
      "metadata": {
        "id": "ly4sgTB82pgk"
      },
      "source": [
        "r1 = Rectangle(10, 20)\n",
        "r2 = Rectangle(10, 20)"
      ],
      "execution_count": 75,
      "outputs": []
    },
    {
      "cell_type": "code",
      "metadata": {
        "colab": {
          "base_uri": "https://localhost:8080/"
        },
        "id": "D5-mKh0h3Kwu",
        "outputId": "cc8f6c38-b112-4a21-a6f8-7ed72100b618"
      },
      "source": [
        "r1 is not r2"
      ],
      "execution_count": 76,
      "outputs": [
        {
          "output_type": "execute_result",
          "data": {
            "text/plain": [
              "True"
            ]
          },
          "metadata": {
            "tags": []
          },
          "execution_count": 76
        }
      ]
    },
    {
      "cell_type": "code",
      "metadata": {
        "colab": {
          "base_uri": "https://localhost:8080/"
        },
        "id": "0StMhi3l3YzU",
        "outputId": "f5304443-c7ad-4786-fcd4-0c9129511bc5"
      },
      "source": [
        "r1 == r2"
      ],
      "execution_count": 77,
      "outputs": [
        {
          "output_type": "execute_result",
          "data": {
            "text/plain": [
              "False"
            ]
          },
          "metadata": {
            "tags": []
          },
          "execution_count": 77
        }
      ]
    },
    {
      "cell_type": "markdown",
      "metadata": {
        "id": "cthS51hd3h5x"
      },
      "source": [
        "As you can see, Python does not consider `r1` and `r2` as equal (using the == operator). Again, how is Python supposed to know that two Rectangle objects with the same height and width should be considered equal? (They might have the different memory address, but they have the same value.)\n",
        "\n",
        "We just need to tell Python how to do it, using the special method `__eq__`."
      ]
    },
    {
      "cell_type": "code",
      "metadata": {
        "id": "MFsK695j3ZcQ"
      },
      "source": [
        "class Rectangle:\n",
        "    def __init__(self, width, height):\n",
        "        self.width = width\n",
        "        self.height = height\n",
        "        \n",
        "    def area(self):\n",
        "        return self.width * self.height\n",
        "    \n",
        "    def perimeter(self):\n",
        "        return 2 * (self.width + self.height)\n",
        "\n",
        "    def __str__(self):\n",
        "        return 'Rectangle: width={0}, height={1}'.format(self.width, self.height)\n",
        "        \n",
        "    def __repr__(self):\n",
        "        return 'Rectangle({0}, {1})'.format(self.width, self.height)\n",
        "\n",
        "    def __eq__(self, other):\n",
        "      return self.width == other.width and self.height == other.height"
      ],
      "execution_count": 78,
      "outputs": []
    },
    {
      "cell_type": "code",
      "metadata": {
        "id": "TJ5_6hQSEKAW"
      },
      "source": [
        "r1 = Rectangle(10, 20)\n",
        "r2 = Rectangle(10, 20)"
      ],
      "execution_count": 79,
      "outputs": []
    },
    {
      "cell_type": "code",
      "metadata": {
        "colab": {
          "base_uri": "https://localhost:8080/"
        },
        "id": "WFa8hNsiEKRu",
        "outputId": "274e5f43-3393-4871-da60-6226952bacc4"
      },
      "source": [
        "r1 is not r2  # since they are different object"
      ],
      "execution_count": 80,
      "outputs": [
        {
          "output_type": "execute_result",
          "data": {
            "text/plain": [
              "True"
            ]
          },
          "metadata": {
            "tags": []
          },
          "execution_count": 80
        }
      ]
    },
    {
      "cell_type": "code",
      "metadata": {
        "colab": {
          "base_uri": "https://localhost:8080/"
        },
        "id": "HvZ0u2EDEP3c",
        "outputId": "46b2932c-65f6-4116-ce66-42a110f9856a"
      },
      "source": [
        "r1 == r2  # since their value are the same"
      ],
      "execution_count": 81,
      "outputs": [
        {
          "output_type": "execute_result",
          "data": {
            "text/plain": [
              "True"
            ]
          },
          "metadata": {
            "tags": []
          },
          "execution_count": 81
        }
      ]
    },
    {
      "cell_type": "code",
      "metadata": {
        "colab": {
          "base_uri": "https://localhost:8080/",
          "height": 252
        },
        "id": "5wcegD6aEVkI",
        "outputId": "3983da84-e587-4780-c630-e6b18d5f1450"
      },
      "source": [
        "r1 == 100  # if we are trying to compare the Rectangle with sth. other than Rectangle, they can't compare equal"
      ],
      "execution_count": 82,
      "outputs": [
        {
          "output_type": "error",
          "ename": "AttributeError",
          "evalue": "ignored",
          "traceback": [
            "\u001b[0;31m---------------------------------------------------------------------------\u001b[0m",
            "\u001b[0;31mAttributeError\u001b[0m                            Traceback (most recent call last)",
            "\u001b[0;32m<ipython-input-82-9b2eee062115>\u001b[0m in \u001b[0;36m<module>\u001b[0;34m()\u001b[0m\n\u001b[0;32m----> 1\u001b[0;31m \u001b[0mr1\u001b[0m \u001b[0;34m==\u001b[0m \u001b[0;36m100\u001b[0m  \u001b[0;31m# if we are trying to compare the Rectangle with sth. other than Rectangle, they can't compare equal\u001b[0m\u001b[0;34m\u001b[0m\u001b[0;34m\u001b[0m\u001b[0m\n\u001b[0m",
            "\u001b[0;32m<ipython-input-78-efdd47e0e7a2>\u001b[0m in \u001b[0;36m__eq__\u001b[0;34m(self, other)\u001b[0m\n\u001b[1;32m     17\u001b[0m \u001b[0;34m\u001b[0m\u001b[0m\n\u001b[1;32m     18\u001b[0m     \u001b[0;32mdef\u001b[0m \u001b[0m__eq__\u001b[0m\u001b[0;34m(\u001b[0m\u001b[0mself\u001b[0m\u001b[0;34m,\u001b[0m \u001b[0mother\u001b[0m\u001b[0;34m)\u001b[0m\u001b[0;34m:\u001b[0m\u001b[0;34m\u001b[0m\u001b[0;34m\u001b[0m\u001b[0m\n\u001b[0;32m---> 19\u001b[0;31m       \u001b[0;32mreturn\u001b[0m \u001b[0mself\u001b[0m\u001b[0;34m.\u001b[0m\u001b[0mwidth\u001b[0m \u001b[0;34m==\u001b[0m \u001b[0mother\u001b[0m\u001b[0;34m.\u001b[0m\u001b[0mwidth\u001b[0m \u001b[0;32mand\u001b[0m \u001b[0mself\u001b[0m\u001b[0;34m.\u001b[0m\u001b[0mheight\u001b[0m \u001b[0;34m==\u001b[0m \u001b[0mother\u001b[0m\u001b[0;34m.\u001b[0m\u001b[0mheight\u001b[0m\u001b[0;34m\u001b[0m\u001b[0;34m\u001b[0m\u001b[0m\n\u001b[0m",
            "\u001b[0;31mAttributeError\u001b[0m: 'int' object has no attribute 'width'"
          ]
        }
      ]
    },
    {
      "cell_type": "code",
      "metadata": {
        "id": "3HehzBc1EiWh"
      },
      "source": [
        "class Rectangle:\n",
        "    def __init__(self, width, height):\n",
        "        self.width = width\n",
        "        self.height = height\n",
        "        \n",
        "    def area(self):\n",
        "        return self.width * self.height\n",
        "    \n",
        "    def perimeter(self):\n",
        "        return 2 * (self.width + self.height)\n",
        "\n",
        "    def __str__(self):\n",
        "        return 'Rectangle: width={0}, height={1}'.format(self.width, self.height)\n",
        "        \n",
        "    def __repr__(self):\n",
        "        return 'Rectangle({0}, {1})'.format(self.width, self.height)\n",
        "\n",
        "    def __eq__(self, other):\n",
        "      if isinstance(other, Rectangle):\n",
        "        return self.width == other.width and self.height == other.height\n",
        "      else:\n",
        "        return False"
      ],
      "execution_count": null,
      "outputs": []
    },
    {
      "cell_type": "code",
      "metadata": {
        "id": "TrePuezQGUQY"
      },
      "source": [
        "r1 = Rectangle(10, 20)\n",
        "r2 = Rectangle(10, 20)"
      ],
      "execution_count": 83,
      "outputs": []
    },
    {
      "cell_type": "code",
      "metadata": {
        "colab": {
          "base_uri": "https://localhost:8080/"
        },
        "id": "EtbtMhbhGbzQ",
        "outputId": "709a2827-9ecc-426a-bf4c-101cfe1a17dc"
      },
      "source": [
        "r1 == r2"
      ],
      "execution_count": 84,
      "outputs": [
        {
          "output_type": "execute_result",
          "data": {
            "text/plain": [
              "True"
            ]
          },
          "metadata": {
            "tags": []
          },
          "execution_count": 84
        }
      ]
    },
    {
      "cell_type": "code",
      "metadata": {
        "colab": {
          "base_uri": "https://localhost:8080/",
          "height": 252
        },
        "id": "85WysE6mGcLa",
        "outputId": "71c92c5f-b379-4dc8-d47a-be69cd6bde10"
      },
      "source": [
        "r1 == 100"
      ],
      "execution_count": 85,
      "outputs": [
        {
          "output_type": "error",
          "ename": "AttributeError",
          "evalue": "ignored",
          "traceback": [
            "\u001b[0;31m---------------------------------------------------------------------------\u001b[0m",
            "\u001b[0;31mAttributeError\u001b[0m                            Traceback (most recent call last)",
            "\u001b[0;32m<ipython-input-85-7b227cedb3f6>\u001b[0m in \u001b[0;36m<module>\u001b[0;34m()\u001b[0m\n\u001b[0;32m----> 1\u001b[0;31m \u001b[0mr1\u001b[0m \u001b[0;34m==\u001b[0m \u001b[0;36m100\u001b[0m\u001b[0;34m\u001b[0m\u001b[0;34m\u001b[0m\u001b[0m\n\u001b[0m",
            "\u001b[0;32m<ipython-input-78-efdd47e0e7a2>\u001b[0m in \u001b[0;36m__eq__\u001b[0;34m(self, other)\u001b[0m\n\u001b[1;32m     17\u001b[0m \u001b[0;34m\u001b[0m\u001b[0m\n\u001b[1;32m     18\u001b[0m     \u001b[0;32mdef\u001b[0m \u001b[0m__eq__\u001b[0m\u001b[0;34m(\u001b[0m\u001b[0mself\u001b[0m\u001b[0;34m,\u001b[0m \u001b[0mother\u001b[0m\u001b[0;34m)\u001b[0m\u001b[0;34m:\u001b[0m\u001b[0;34m\u001b[0m\u001b[0;34m\u001b[0m\u001b[0m\n\u001b[0;32m---> 19\u001b[0;31m       \u001b[0;32mreturn\u001b[0m \u001b[0mself\u001b[0m\u001b[0;34m.\u001b[0m\u001b[0mwidth\u001b[0m \u001b[0;34m==\u001b[0m \u001b[0mother\u001b[0m\u001b[0;34m.\u001b[0m\u001b[0mwidth\u001b[0m \u001b[0;32mand\u001b[0m \u001b[0mself\u001b[0m\u001b[0;34m.\u001b[0m\u001b[0mheight\u001b[0m \u001b[0;34m==\u001b[0m \u001b[0mother\u001b[0m\u001b[0;34m.\u001b[0m\u001b[0mheight\u001b[0m\u001b[0;34m\u001b[0m\u001b[0;34m\u001b[0m\u001b[0m\n\u001b[0m",
            "\u001b[0;31mAttributeError\u001b[0m: 'int' object has no attribute 'width'"
          ]
        }
      ]
    },
    {
      "cell_type": "code",
      "metadata": {
        "id": "0SfBkLrVGelf"
      },
      "source": [
        "class Rectangle:\n",
        "    def __init__(self, width, height):\n",
        "        self.width = width\n",
        "        self.height = height\n",
        "        \n",
        "    def area(self):\n",
        "        return self.width * self.height\n",
        "    \n",
        "    def perimeter(self):\n",
        "        return 2 * (self.width + self.height)\n",
        "\n",
        "    def __str__(self):\n",
        "        return 'Rectangle: width={0}, height={1}'.format(self.width, self.height)\n",
        "        \n",
        "    def __repr__(self):\n",
        "        return 'Rectangle({0}, {1})'.format(self.width, self.height)\n",
        "\n",
        "    def __eq__(self, other):\n",
        "      if isinstance(other, Rectangle):\n",
        "        return self.width == other.width and self.height == other.height\n",
        "      else:\n",
        "        return False\n",
        "\n",
        "    def __lt__(self, other):\n",
        "      if isinstance(other, Rectangle):\n",
        "        return self.area() < other.area()\n",
        "      else:\n",
        "        return NotImplemented"
      ],
      "execution_count": 86,
      "outputs": []
    },
    {
      "cell_type": "code",
      "metadata": {
        "id": "bmCo5t6Wja5b"
      },
      "source": [
        ""
      ],
      "execution_count": 86,
      "outputs": []
    }
  ]
}