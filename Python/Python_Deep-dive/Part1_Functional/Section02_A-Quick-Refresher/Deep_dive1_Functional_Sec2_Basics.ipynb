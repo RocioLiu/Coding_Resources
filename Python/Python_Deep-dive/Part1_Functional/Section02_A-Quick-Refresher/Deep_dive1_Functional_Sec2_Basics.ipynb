{
  "nbformat": 4,
  "nbformat_minor": 0,
  "metadata": {
    "colab": {
      "name": "Deep_dive1 - Functional_Sec2-Basics.ipynb",
      "provenance": [],
      "collapsed_sections": [],
      "authorship_tag": "ABX9TyMywFLez765dtde13Nstkij",
      "include_colab_link": true
    },
    "kernelspec": {
      "name": "python3",
      "display_name": "Python 3"
    }
  },
  "cells": [
    {
      "cell_type": "markdown",
      "metadata": {
        "id": "view-in-github",
        "colab_type": "text"
      },
      "source": [
        "<a href=\"https://colab.research.google.com/github/RocioLiu/Coding_Resources/blob/master/Deep_dive1_Functional_Sec2_Basics.ipynb\" target=\"_parent\"><img src=\"https://colab.research.google.com/assets/colab-badge.svg\" alt=\"Open In Colab\"/></a>"
      ]
    },
    {
      "cell_type": "markdown",
      "metadata": {
        "id": "MtWbIABRhZH7",
        "colab_type": "text"
      },
      "source": [
        "### **Conditionals**"
      ]
    },
    {
      "cell_type": "code",
      "metadata": {
        "id": "YSncHt4qaA8P",
        "colab_type": "code",
        "colab": {}
      },
      "source": [
        "a = 25"
      ],
      "execution_count": null,
      "outputs": []
    },
    {
      "cell_type": "code",
      "metadata": {
        "id": "SlBMEJWYhdpx",
        "colab_type": "code",
        "colab": {
          "base_uri": "https://localhost:8080/",
          "height": 35
        },
        "outputId": "2a2c0097-5e53-4496-c0d9-f5388f0814c6"
      },
      "source": [
        "if a < 5:\n",
        "  b = 'a < 5'\n",
        "else:\n",
        "  b = 'a >= 5'\n",
        "\n",
        "print(b)"
      ],
      "execution_count": null,
      "outputs": [
        {
          "output_type": "stream",
          "text": [
            "a >= 5\n"
          ],
          "name": "stdout"
        }
      ]
    },
    {
      "cell_type": "markdown",
      "metadata": {
        "id": "pZ6nR26chrWm",
        "colab_type": "text"
      },
      "source": [
        "X if (condition is true) else y"
      ]
    },
    {
      "cell_type": "code",
      "metadata": {
        "id": "98IhuBt6hpoW",
        "colab_type": "code",
        "colab": {
          "base_uri": "https://localhost:8080/",
          "height": 35
        },
        "outputId": "5c1560bd-9d3a-4fa2-8fea-16abaf88e5ff"
      },
      "source": [
        "b = 'a < 5' if a < 5 else 'a >= 5'\n",
        "print(b)"
      ],
      "execution_count": null,
      "outputs": [
        {
          "output_type": "stream",
          "text": [
            "a >= 5\n"
          ],
          "name": "stdout"
        }
      ]
    },
    {
      "cell_type": "code",
      "metadata": {
        "id": "33X3e8Beh4Pm",
        "colab_type": "code",
        "colab": {}
      },
      "source": [
        "a = 4"
      ],
      "execution_count": null,
      "outputs": []
    },
    {
      "cell_type": "code",
      "metadata": {
        "id": "KPKfhlnuiFLb",
        "colab_type": "code",
        "colab": {
          "base_uri": "https://localhost:8080/",
          "height": 35
        },
        "outputId": "9d66b576-0dfc-4c4b-cfd8-aed759dcb54f"
      },
      "source": [
        "'a < 5' if a < 5 else 'a >= 5'"
      ],
      "execution_count": null,
      "outputs": [
        {
          "output_type": "execute_result",
          "data": {
            "application/vnd.google.colaboratory.intrinsic+json": {
              "type": "string"
            },
            "text/plain": [
              "'a < 5'"
            ]
          },
          "metadata": {
            "tags": []
          },
          "execution_count": 7
        }
      ]
    },
    {
      "cell_type": "markdown",
      "metadata": {
        "id": "dcW6TyOxjXxl",
        "colab_type": "text"
      },
      "source": [
        "---\n",
        "### **Fucntions**"
      ]
    },
    {
      "cell_type": "code",
      "metadata": {
        "id": "MlL5BmxUiGiH",
        "colab_type": "code",
        "colab": {}
      },
      "source": [
        "def func_1():\n",
        "  return func_2()\n",
        "\n",
        "def func_2():\n",
        "  return 'running func_2'"
      ],
      "execution_count": null,
      "outputs": []
    },
    {
      "cell_type": "code",
      "metadata": {
        "id": "VyWyoN1Ul2sr",
        "colab_type": "code",
        "colab": {
          "base_uri": "https://localhost:8080/",
          "height": 35
        },
        "outputId": "941ac282-d792-4c6a-e1ae-d75c2d27b9cf"
      },
      "source": [
        "func_2"
      ],
      "execution_count": null,
      "outputs": [
        {
          "output_type": "execute_result",
          "data": {
            "text/plain": [
              "<function __main__.func_2>"
            ]
          },
          "metadata": {
            "tags": []
          },
          "execution_count": 23
        }
      ]
    },
    {
      "cell_type": "code",
      "metadata": {
        "id": "ESKPNyFJj8zZ",
        "colab_type": "code",
        "colab": {
          "base_uri": "https://localhost:8080/",
          "height": 35
        },
        "outputId": "92d0a44e-1dcb-49a7-d332-70bdbfc28fec"
      },
      "source": [
        "func_2()"
      ],
      "execution_count": null,
      "outputs": [
        {
          "output_type": "execute_result",
          "data": {
            "application/vnd.google.colaboratory.intrinsic+json": {
              "type": "string"
            },
            "text/plain": [
              "'running func_2'"
            ]
          },
          "metadata": {
            "tags": []
          },
          "execution_count": 13
        }
      ]
    },
    {
      "cell_type": "code",
      "metadata": {
        "id": "OygCtXF6kJjP",
        "colab_type": "code",
        "colab": {
          "base_uri": "https://localhost:8080/",
          "height": 35
        },
        "outputId": "80368b15-9cda-491c-bdce-dc10da7e60e2"
      },
      "source": [
        "func_1()"
      ],
      "execution_count": null,
      "outputs": [
        {
          "output_type": "execute_result",
          "data": {
            "application/vnd.google.colaboratory.intrinsic+json": {
              "type": "string"
            },
            "text/plain": [
              "'running func_2'"
            ]
          },
          "metadata": {
            "tags": []
          },
          "execution_count": 14
        }
      ]
    },
    {
      "cell_type": "code",
      "metadata": {
        "id": "CgVtNDeMkElJ",
        "colab_type": "code",
        "colab": {
          "base_uri": "https://localhost:8080/",
          "height": 355
        },
        "outputId": "b445c3d1-6c0e-455b-9f17-e4bc8b2eb3d0"
      },
      "source": [
        "def func_3():\n",
        "  return func_4()\n",
        "\n",
        "func_3()\n",
        "\n",
        "def func_4():\n",
        "  return 'running func_4'"
      ],
      "execution_count": null,
      "outputs": [
        {
          "output_type": "error",
          "ename": "NameError",
          "evalue": "ignored",
          "traceback": [
            "\u001b[0;31m---------------------------------------------------------------------------\u001b[0m",
            "\u001b[0;31mNameError\u001b[0m                                 Traceback (most recent call last)",
            "\u001b[0;32m<ipython-input-15-34b5a00229c0>\u001b[0m in \u001b[0;36m<module>\u001b[0;34m()\u001b[0m\n\u001b[1;32m      2\u001b[0m   \u001b[0;32mreturn\u001b[0m \u001b[0mfunc_4\u001b[0m\u001b[0;34m(\u001b[0m\u001b[0;34m)\u001b[0m\u001b[0;34m\u001b[0m\u001b[0;34m\u001b[0m\u001b[0m\n\u001b[1;32m      3\u001b[0m \u001b[0;34m\u001b[0m\u001b[0m\n\u001b[0;32m----> 4\u001b[0;31m \u001b[0mfunc_3\u001b[0m\u001b[0;34m(\u001b[0m\u001b[0;34m)\u001b[0m\u001b[0;34m\u001b[0m\u001b[0;34m\u001b[0m\u001b[0m\n\u001b[0m\u001b[1;32m      5\u001b[0m \u001b[0;34m\u001b[0m\u001b[0m\n\u001b[1;32m      6\u001b[0m \u001b[0;32mdef\u001b[0m \u001b[0mfunc_4\u001b[0m\u001b[0;34m(\u001b[0m\u001b[0;34m)\u001b[0m\u001b[0;34m:\u001b[0m\u001b[0;34m\u001b[0m\u001b[0;34m\u001b[0m\u001b[0m\n",
            "\u001b[0;32m<ipython-input-15-34b5a00229c0>\u001b[0m in \u001b[0;36mfunc_3\u001b[0;34m()\u001b[0m\n\u001b[1;32m      1\u001b[0m \u001b[0;32mdef\u001b[0m \u001b[0mfunc_3\u001b[0m\u001b[0;34m(\u001b[0m\u001b[0;34m)\u001b[0m\u001b[0;34m:\u001b[0m\u001b[0;34m\u001b[0m\u001b[0;34m\u001b[0m\u001b[0m\n\u001b[0;32m----> 2\u001b[0;31m   \u001b[0;32mreturn\u001b[0m \u001b[0mfunc_4\u001b[0m\u001b[0;34m(\u001b[0m\u001b[0;34m)\u001b[0m\u001b[0;34m\u001b[0m\u001b[0;34m\u001b[0m\u001b[0m\n\u001b[0m\u001b[1;32m      3\u001b[0m \u001b[0;34m\u001b[0m\u001b[0m\n\u001b[1;32m      4\u001b[0m \u001b[0mfunc_3\u001b[0m\u001b[0;34m(\u001b[0m\u001b[0;34m)\u001b[0m\u001b[0;34m\u001b[0m\u001b[0;34m\u001b[0m\u001b[0m\n\u001b[1;32m      5\u001b[0m \u001b[0;34m\u001b[0m\u001b[0m\n",
            "\u001b[0;31mNameError\u001b[0m: name 'func_4' is not defined"
          ]
        }
      ]
    },
    {
      "cell_type": "code",
      "metadata": {
        "id": "64AWaneSkyeL",
        "colab_type": "code",
        "colab": {
          "base_uri": "https://localhost:8080/",
          "height": 35
        },
        "outputId": "50502531-1d19-42e3-8dcb-aecb4dca1635"
      },
      "source": [
        "type(func_3)"
      ],
      "execution_count": null,
      "outputs": [
        {
          "output_type": "execute_result",
          "data": {
            "text/plain": [
              "function"
            ]
          },
          "metadata": {
            "tags": []
          },
          "execution_count": 16
        }
      ]
    },
    {
      "cell_type": "code",
      "metadata": {
        "id": "d6twJxPAlOv3",
        "colab_type": "code",
        "colab": {}
      },
      "source": [
        "my_func = func_2"
      ],
      "execution_count": null,
      "outputs": []
    },
    {
      "cell_type": "code",
      "metadata": {
        "id": "9z3MKceAlWGb",
        "colab_type": "code",
        "colab": {
          "base_uri": "https://localhost:8080/",
          "height": 35
        },
        "outputId": "acd123b9-9f6c-4d8d-b3d0-b79d16a38727"
      },
      "source": [
        "func_2()"
      ],
      "execution_count": null,
      "outputs": [
        {
          "output_type": "execute_result",
          "data": {
            "application/vnd.google.colaboratory.intrinsic+json": {
              "type": "string"
            },
            "text/plain": [
              "'running func_2'"
            ]
          },
          "metadata": {
            "tags": []
          },
          "execution_count": 18
        }
      ]
    },
    {
      "cell_type": "code",
      "metadata": {
        "id": "afj5Z2MGlXlJ",
        "colab_type": "code",
        "colab": {
          "base_uri": "https://localhost:8080/",
          "height": 35
        },
        "outputId": "bf3b1950-94c9-4a6f-cb29-77c50667162e"
      },
      "source": [
        "my_func()"
      ],
      "execution_count": null,
      "outputs": [
        {
          "output_type": "execute_result",
          "data": {
            "application/vnd.google.colaboratory.intrinsic+json": {
              "type": "string"
            },
            "text/plain": [
              "'running func_2'"
            ]
          },
          "metadata": {
            "tags": []
          },
          "execution_count": 19
        }
      ]
    },
    {
      "cell_type": "code",
      "metadata": {
        "id": "TWPBxo2tlY5E",
        "colab_type": "code",
        "colab": {
          "base_uri": "https://localhost:8080/",
          "height": 35
        },
        "outputId": "8f068a74-9f32-49fe-eff5-4a1970a806fa"
      },
      "source": [
        "lambda x: x**2"
      ],
      "execution_count": null,
      "outputs": [
        {
          "output_type": "execute_result",
          "data": {
            "text/plain": [
              "<function __main__.<lambda>>"
            ]
          },
          "metadata": {
            "tags": []
          },
          "execution_count": 20
        }
      ]
    },
    {
      "cell_type": "code",
      "metadata": {
        "id": "SF8q0OaLlmN2",
        "colab_type": "code",
        "colab": {}
      },
      "source": [
        "fn1 = lambda x: x**2"
      ],
      "execution_count": null,
      "outputs": []
    },
    {
      "cell_type": "code",
      "metadata": {
        "id": "1vJOJOvPlvno",
        "colab_type": "code",
        "colab": {
          "base_uri": "https://localhost:8080/",
          "height": 35
        },
        "outputId": "1e0e81f2-d128-4af6-cb4f-0e2c7de9cb3a"
      },
      "source": [
        "fn1(2)"
      ],
      "execution_count": null,
      "outputs": [
        {
          "output_type": "execute_result",
          "data": {
            "text/plain": [
              "4"
            ]
          },
          "metadata": {
            "tags": []
          },
          "execution_count": 22
        }
      ]
    },
    {
      "cell_type": "markdown",
      "metadata": {
        "id": "nFBFQzgJmCla",
        "colab_type": "text"
      },
      "source": [
        "---\n",
        "### **While Loop**"
      ]
    },
    {
      "cell_type": "code",
      "metadata": {
        "id": "iaHdNr7glyc7",
        "colab_type": "code",
        "colab": {
          "base_uri": "https://localhost:8080/",
          "height": 104
        },
        "outputId": "66241ccb-67e7-43b7-bf39-b709a37e2b8d"
      },
      "source": [
        "i = 0\n",
        "while i < 5:\n",
        "  print(i)\n",
        "  i += 1"
      ],
      "execution_count": null,
      "outputs": [
        {
          "output_type": "stream",
          "text": [
            "0\n",
            "1\n",
            "2\n",
            "3\n",
            "4\n"
          ],
          "name": "stdout"
        }
      ]
    },
    {
      "cell_type": "code",
      "metadata": {
        "id": "enltxdnKmMnl",
        "colab_type": "code",
        "colab": {}
      },
      "source": [
        "i = 5\n",
        "while i < 5:\n",
        "  print(i)\n",
        "  i += 1"
      ],
      "execution_count": null,
      "outputs": []
    },
    {
      "cell_type": "code",
      "metadata": {
        "id": "f-GywGsNm_rE",
        "colab_type": "code",
        "colab": {
          "base_uri": "https://localhost:8080/",
          "height": 86
        },
        "outputId": "790871fe-f315-47ca-9636-9ceddf09500b"
      },
      "source": [
        "min_length = 2\n",
        "name = input(\"Please enter your name:\")\n",
        "\n",
        "while not(len(name) >= min_length and name.isprintable() and name.isalpha()):\n",
        "  name = input(\"Please enter your name:\")\n",
        "\n",
        "print(\"Hello, {0}\".format(name))"
      ],
      "execution_count": null,
      "outputs": [
        {
          "output_type": "stream",
          "text": [
            "Please enter your name:a\n",
            "Please enter your name:12\n",
            "Please enter your name:Rocio\n",
            "Hello, Rocio\n"
          ],
          "name": "stdout"
        }
      ]
    },
    {
      "cell_type": "markdown",
      "metadata": {
        "id": "VD5FM8m9s83Q",
        "colab_type": "text"
      },
      "source": [
        "**break statement**  \n",
        "The Python `break` statement immediately terminates a loop entirely. Program execution proceeds to the first statement following the loop body.  \n",
        "But we don't like the presentation above since it has a duplicate statement -- `name = input(\"Please enter your name:\")`  \n",
        "It's usful to use the `break` as below: "
      ]
    },
    {
      "cell_type": "code",
      "metadata": {
        "id": "VtYaR6EdroBv",
        "colab_type": "code",
        "colab": {
          "base_uri": "https://localhost:8080/",
          "height": 86
        },
        "outputId": "a511133a-28c4-4009-821d-e7f8c68ed947"
      },
      "source": [
        "min_length = 2\n",
        "\n",
        "while True:\n",
        "  name = input(\"Please enter your name:\")\n",
        "  if len(name) >= min_length and name.isprintable() and name.isalpha():\n",
        "    break\n",
        "\n",
        "print(\"Hello, {0}\".format(name))"
      ],
      "execution_count": null,
      "outputs": [
        {
          "output_type": "stream",
          "text": [
            "Please enter your name:f\n",
            "Please enter your name:44ff\n",
            "Please enter your name:Kevin\n",
            "Hello, Kevin\n"
          ],
          "name": "stdout"
        }
      ]
    },
    {
      "cell_type": "markdown",
      "metadata": {
        "id": "zHXYCw7L1rms",
        "colab_type": "text"
      },
      "source": [
        "**continue statement**  \n",
        "The `continue` statement immediately terminates the current loop iteration. Execution jumps to the top of the loop, and the controlling expression is re-evaluated to determine whether the loop will execute again or terminate.   "
      ]
    },
    {
      "cell_type": "code",
      "metadata": {
        "id": "GB5sAqY1sxeu",
        "colab_type": "code",
        "colab": {
          "base_uri": "https://localhost:8080/",
          "height": 104
        },
        "outputId": "6d33575b-d815-455e-85c2-f4122fd22fa3"
      },
      "source": [
        "a = 0\n",
        "\n",
        "while a < 10:\n",
        "  a += 1\n",
        "  if a % 2 == 0:\n",
        "    continue\n",
        "  print(a)"
      ],
      "execution_count": null,
      "outputs": [
        {
          "output_type": "stream",
          "text": [
            "1\n",
            "3\n",
            "5\n",
            "7\n",
            "9\n"
          ],
          "name": "stdout"
        }
      ]
    },
    {
      "cell_type": "code",
      "metadata": {
        "id": "57OqL9a17scc",
        "colab_type": "code",
        "colab": {
          "base_uri": "https://localhost:8080/",
          "height": 35
        },
        "outputId": "b747aabd-94b1-49c7-cc3d-07aa81654367"
      },
      "source": [
        "l = [1, 2, 3]\n",
        "val = 10\n",
        "\n",
        "found = False\n",
        "idx = 0\n",
        "while idx < len(l):\n",
        "  if l[idx] == val:\n",
        "    found == True\n",
        "    break\n",
        "  idx += 1\n",
        "\n",
        "if not found:\n",
        "  l.append(val)\n",
        "\n",
        "print(l)"
      ],
      "execution_count": null,
      "outputs": [
        {
          "output_type": "stream",
          "text": [
            "[1, 2, 3, 10]\n"
          ],
          "name": "stdout"
        }
      ]
    },
    {
      "cell_type": "code",
      "metadata": {
        "id": "_uGA1GJh-ipv",
        "colab_type": "code",
        "colab": {
          "base_uri": "https://localhost:8080/",
          "height": 35
        },
        "outputId": "f9ac9917-7e07-470b-cceb-2a234dc4bf21"
      },
      "source": [
        "l = [1, 2, 3]\n",
        "val = 10\n",
        "\n",
        "idx = 0\n",
        "while idx < len(l):\n",
        "  if l[idx] == val:\n",
        "    break\n",
        "  idx += 1\n",
        "# With the else statement we can run a block of code once when the condition no longer is true\n",
        "else:\n",
        "  l.append(val)\n",
        "\n",
        "print(l)"
      ],
      "execution_count": null,
      "outputs": [
        {
          "output_type": "stream",
          "text": [
            "[1, 2, 3, 10]\n"
          ],
          "name": "stdout"
        }
      ]
    },
    {
      "cell_type": "markdown",
      "metadata": {
        "id": "WUq1Eu5UAeOA",
        "colab_type": "text"
      },
      "source": [
        "---\n",
        "### **Break, Continue, and the Try Statement**"
      ]
    },
    {
      "cell_type": "markdown",
      "metadata": {
        "id": "22f-RLHsBTWk",
        "colab_type": "text"
      },
      "source": [
        "**try...except...finally**"
      ]
    },
    {
      "cell_type": "code",
      "metadata": {
        "id": "jscC9gj-_s9p",
        "colab_type": "code",
        "colab": {
          "base_uri": "https://localhost:8080/",
          "height": 52
        },
        "outputId": "0b7af827-c50a-4742-fb3e-b3e232cfd13a"
      },
      "source": [
        "a = 10\n",
        "b = 0\n",
        "try:\n",
        "  a/b\n",
        "except ZeroDivisionError:\n",
        "  print('division by 0')\n",
        "finally:\n",
        "  print('This always executes')"
      ],
      "execution_count": 1,
      "outputs": [
        {
          "output_type": "stream",
          "text": [
            "division by 0\n",
            "This always executes\n"
          ],
          "name": "stdout"
        }
      ]
    },
    {
      "cell_type": "code",
      "metadata": {
        "id": "DtTath3gCBD4",
        "colab_type": "code",
        "colab": {
          "base_uri": "https://localhost:8080/",
          "height": 225
        },
        "outputId": "c4542511-18ac-4e57-a52d-27915876ecd9"
      },
      "source": [
        "a = 0\n",
        "b = 2\n",
        "\n",
        "while a < 4:\n",
        "  print('-------------')\n",
        "  a += 1\n",
        "  b -= 1\n",
        "\n",
        "  try:\n",
        "    a / b\n",
        "  except ZeroDivisionError:\n",
        "    print(\"{0}, {1} - division by 0\".format(a, b))\n",
        "    continue\n",
        "  finally:\n",
        "    print(\"{0}, {1} - always executes\".format(a, b))\n",
        "\n",
        "  print(\"{0}, {1} - main loop\".format(a, b))"
      ],
      "execution_count": 2,
      "outputs": [
        {
          "output_type": "stream",
          "text": [
            "-------------\n",
            "1, 1 - always executes\n",
            "1, 1 - main loop\n",
            "-------------\n",
            "2, 0 - division by 0\n",
            "2, 0 - always executes\n",
            "-------------\n",
            "3, -1 - always executes\n",
            "3, -1 - main loop\n",
            "-------------\n",
            "4, -2 - always executes\n",
            "4, -2 - main loop\n"
          ],
          "name": "stdout"
        }
      ]
    },
    {
      "cell_type": "code",
      "metadata": {
        "id": "HHaogX5GDr7Z",
        "colab_type": "code",
        "colab": {
          "base_uri": "https://localhost:8080/",
          "height": 121
        },
        "outputId": "a8d80047-1b40-4ab5-92b9-a7224bc58dbf"
      },
      "source": [
        "a = 0\n",
        "b = 2\n",
        "\n",
        "while a < 4:\n",
        "  print('-------------')\n",
        "  a += 1\n",
        "  b -= 1\n",
        "\n",
        "  try:\n",
        "    a / b\n",
        "  except ZeroDivisionError:\n",
        "    print(\"{0}, {1} - division by 0\".format(a, b))\n",
        "    break   # !!\n",
        "  finally:\n",
        "    print(\"{0}, {1} - always executes\".format(a, b))\n",
        "\n",
        "  print(\"{0}, {1} - main loop\".format(a, b))"
      ],
      "execution_count": 3,
      "outputs": [
        {
          "output_type": "stream",
          "text": [
            "-------------\n",
            "1, 1 - always executes\n",
            "1, 1 - main loop\n",
            "-------------\n",
            "2, 0 - division by 0\n",
            "2, 0 - always executes\n"
          ],
          "name": "stdout"
        }
      ]
    },
    {
      "cell_type": "code",
      "metadata": {
        "id": "VjlOrZkEEmZR",
        "colab_type": "code",
        "colab": {
          "base_uri": "https://localhost:8080/",
          "height": 242
        },
        "outputId": "7e1f33ff-f406-44f1-ae2e-24dbcd07904d"
      },
      "source": [
        "a = 0\n",
        "b = 10\n",
        "\n",
        "while a < 4:\n",
        "  print('-------------')\n",
        "  a += 1\n",
        "  b -= 1\n",
        "\n",
        "  try:\n",
        "    a / b\n",
        "  except ZeroDivisionError:\n",
        "    print(\"{0}, {1} - division by 0\".format(a, b))\n",
        "    break  \n",
        "  finally:\n",
        "    print(\"{0}, {1} - always executes\".format(a, b))\n",
        "\n",
        "  print(\"{0}, {1} - main loop\".format(a, b))\n",
        "else:\n",
        "  print('code executed without a zero division error')  # !!"
      ],
      "execution_count": 4,
      "outputs": [
        {
          "output_type": "stream",
          "text": [
            "-------------\n",
            "1, 9 - always executes\n",
            "1, 9 - main loop\n",
            "-------------\n",
            "2, 8 - always executes\n",
            "2, 8 - main loop\n",
            "-------------\n",
            "3, 7 - always executes\n",
            "3, 7 - main loop\n",
            "-------------\n",
            "4, 6 - always executes\n",
            "4, 6 - main loop\n",
            "code executed without a zero division error\n"
          ],
          "name": "stdout"
        }
      ]
    },
    {
      "cell_type": "markdown",
      "metadata": {
        "id": "BIVQPuSIFkyc",
        "colab_type": "text"
      },
      "source": [
        "---\n",
        "### **The For Loop**"
      ]
    },
    {
      "cell_type": "markdown",
      "metadata": {
        "id": "hhflIRMrGfGo",
        "colab_type": "text"
      },
      "source": [
        "for (int i = 0, i < 5, i++) {...}"
      ]
    },
    {
      "cell_type": "markdown",
      "metadata": {
        "id": "ZNFXh-XzGsKT",
        "colab_type": "text"
      },
      "source": [
        "In Python, an iterable is an object capable of returning value one at a time."
      ]
    },
    {
      "cell_type": "code",
      "metadata": {
        "id": "pBpga9lEFUN0",
        "colab_type": "code",
        "colab": {
          "base_uri": "https://localhost:8080/",
          "height": 104
        },
        "outputId": "c0d7a99c-5c5b-4bbb-bab8-4d61c01d26f5"
      },
      "source": [
        "i = 0\n",
        "while i < 5:\n",
        "  print(i)\n",
        "  i += 1"
      ],
      "execution_count": 1,
      "outputs": [
        {
          "output_type": "stream",
          "text": [
            "0\n",
            "1\n",
            "2\n",
            "3\n",
            "4\n"
          ],
          "name": "stdout"
        }
      ]
    },
    {
      "cell_type": "code",
      "metadata": {
        "id": "x85xvzozHQWD",
        "colab_type": "code",
        "colab": {
          "base_uri": "https://localhost:8080/",
          "height": 104
        },
        "outputId": "ccbb35e1-e347-49c0-b849-b9d07b665a52"
      },
      "source": [
        "for i in range(5):\n",
        "  print(i)"
      ],
      "execution_count": 2,
      "outputs": [
        {
          "output_type": "stream",
          "text": [
            "0\n",
            "1\n",
            "2\n",
            "3\n",
            "4\n"
          ],
          "name": "stdout"
        }
      ]
    },
    {
      "cell_type": "code",
      "metadata": {
        "id": "cZv5Zl8NHgqk",
        "colab_type": "code",
        "colab": {
          "base_uri": "https://localhost:8080/",
          "height": 86
        },
        "outputId": "9c1ded91-e482-4eec-ed61-952f5ce3cce4"
      },
      "source": [
        "for i in [1,2,3,4]:\n",
        "  print(i)"
      ],
      "execution_count": 3,
      "outputs": [
        {
          "output_type": "stream",
          "text": [
            "1\n",
            "2\n",
            "3\n",
            "4\n"
          ],
          "name": "stdout"
        }
      ]
    },
    {
      "cell_type": "code",
      "metadata": {
        "id": "2UuPVreNIO7e",
        "colab_type": "code",
        "colab": {
          "base_uri": "https://localhost:8080/",
          "height": 104
        },
        "outputId": "14f16bbd-c897-44fe-9647-1b40a381c580"
      },
      "source": [
        "for c in 'hello':\n",
        "  print(c)"
      ],
      "execution_count": 4,
      "outputs": [
        {
          "output_type": "stream",
          "text": [
            "h\n",
            "e\n",
            "l\n",
            "l\n",
            "o\n"
          ],
          "name": "stdout"
        }
      ]
    },
    {
      "cell_type": "code",
      "metadata": {
        "id": "DD5rdWzTIRuv",
        "colab_type": "code",
        "colab": {
          "base_uri": "https://localhost:8080/",
          "height": 86
        },
        "outputId": "bcb11288-21ae-403b-c116-4cc1055784be"
      },
      "source": [
        "for x in ('a', 'b', 'c', 4):\n",
        "  print(x)"
      ],
      "execution_count": 5,
      "outputs": [
        {
          "output_type": "stream",
          "text": [
            "a\n",
            "b\n",
            "c\n",
            "4\n"
          ],
          "name": "stdout"
        }
      ]
    },
    {
      "cell_type": "code",
      "metadata": {
        "id": "uLHD2a_oIe5c",
        "colab_type": "code",
        "colab": {
          "base_uri": "https://localhost:8080/",
          "height": 69
        },
        "outputId": "2c500e68-c2be-4235-c884-0d4e9defa74a"
      },
      "source": [
        "for x in [(1,2), (3,4), (5,6)]:\n",
        "  print(x)"
      ],
      "execution_count": 8,
      "outputs": [
        {
          "output_type": "stream",
          "text": [
            "(1, 2)\n",
            "(3, 4)\n",
            "(5, 6)\n"
          ],
          "name": "stdout"
        }
      ]
    },
    {
      "cell_type": "code",
      "metadata": {
        "id": "ouVUcUXgImWq",
        "colab_type": "code",
        "colab": {
          "base_uri": "https://localhost:8080/",
          "height": 69
        },
        "outputId": "5cc82c9a-90c4-40e1-cd81-0a85853dbc26"
      },
      "source": [
        "for i, j in [(1,2), (3,4), (5,6)]:\n",
        "  print(i, j)"
      ],
      "execution_count": 9,
      "outputs": [
        {
          "output_type": "stream",
          "text": [
            "1 2\n",
            "3 4\n",
            "5 6\n"
          ],
          "name": "stdout"
        }
      ]
    },
    {
      "cell_type": "code",
      "metadata": {
        "id": "HPlJM0U2IwMs",
        "colab_type": "code",
        "colab": {
          "base_uri": "https://localhost:8080/",
          "height": 86
        },
        "outputId": "036ee42d-ff35-4e96-e68a-06b9766e3c2a"
      },
      "source": [
        "for i in range(5):\n",
        "  if i == 3:\n",
        "    continue\n",
        "  print(i)"
      ],
      "execution_count": 10,
      "outputs": [
        {
          "output_type": "stream",
          "text": [
            "0\n",
            "1\n",
            "2\n",
            "4\n"
          ],
          "name": "stdout"
        }
      ]
    },
    {
      "cell_type": "code",
      "metadata": {
        "id": "WEV-_oikI51h",
        "colab_type": "code",
        "colab": {
          "base_uri": "https://localhost:8080/",
          "height": 69
        },
        "outputId": "39a72a82-db2d-4a32-fbfe-1b8a39b0d55c"
      },
      "source": [
        "for i in range(5):\n",
        "  if i == 3:\n",
        "    break\n",
        "  print(i)"
      ],
      "execution_count": 11,
      "outputs": [
        {
          "output_type": "stream",
          "text": [
            "0\n",
            "1\n",
            "2\n"
          ],
          "name": "stdout"
        }
      ]
    },
    {
      "cell_type": "code",
      "metadata": {
        "id": "NLRNYvuvI_cg",
        "colab_type": "code",
        "colab": {
          "base_uri": "https://localhost:8080/",
          "height": 104
        },
        "outputId": "e550ed79-77b5-4140-8461-6c0b990793d3"
      },
      "source": [
        "for i in range(1, 5):\n",
        "  print(i)\n",
        "  if i % 7 == 0:\n",
        "    print('multiple of 7 found')\n",
        "    break\n",
        "else:\n",
        "  print('no multiples of 7 in the range')"
      ],
      "execution_count": 14,
      "outputs": [
        {
          "output_type": "stream",
          "text": [
            "1\n",
            "2\n",
            "3\n",
            "4\n",
            "no multiples of 7 in the range\n"
          ],
          "name": "stdout"
        }
      ]
    },
    {
      "cell_type": "code",
      "metadata": {
        "id": "06EfYWqmLxc0",
        "colab_type": "code",
        "colab": {
          "base_uri": "https://localhost:8080/",
          "height": 155
        },
        "outputId": "50643f0c-3c56-4aa5-e6d7-49d0af0f5347"
      },
      "source": [
        "for i in range(1, 8):\n",
        "  print(i)\n",
        "  if i % 7 == 0:\n",
        "    print('multiple of 7 found')\n",
        "    break\n",
        "else:\n",
        "  print('no multiples of 7 in the range')"
      ],
      "execution_count": 15,
      "outputs": [
        {
          "output_type": "stream",
          "text": [
            "1\n",
            "2\n",
            "3\n",
            "4\n",
            "5\n",
            "6\n",
            "7\n",
            "multiple of 7 found\n"
          ],
          "name": "stdout"
        }
      ]
    },
    {
      "cell_type": "code",
      "metadata": {
        "id": "8czUKdflMJnw",
        "colab_type": "code",
        "colab": {
          "base_uri": "https://localhost:8080/",
          "height": 276
        },
        "outputId": "4d957cab-eccf-4622-e90a-9a2c185554d4"
      },
      "source": [
        "for i in range(5):\n",
        "  print('-------------------')\n",
        "  try:\n",
        "    10/(i-3)\n",
        "  except ZeroDivisionError:\n",
        "    print('divided by zero')\n",
        "    continue\n",
        "  finally:\n",
        "    print('always run')\n",
        "\n",
        "  print(i)"
      ],
      "execution_count": 20,
      "outputs": [
        {
          "output_type": "stream",
          "text": [
            "-------------------\n",
            "always run\n",
            "0\n",
            "-------------------\n",
            "always run\n",
            "1\n",
            "-------------------\n",
            "always run\n",
            "2\n",
            "-------------------\n",
            "divided by zero\n",
            "always run\n",
            "-------------------\n",
            "always run\n",
            "4\n"
          ],
          "name": "stdout"
        }
      ]
    },
    {
      "cell_type": "code",
      "metadata": {
        "id": "mVo4OEGFNBkd",
        "colab_type": "code",
        "colab": {
          "base_uri": "https://localhost:8080/",
          "height": 104
        },
        "outputId": "56dd818d-da27-41ce-af7a-12ee0d81f031"
      },
      "source": [
        "s = 'hello'\n",
        "for c in s:\n",
        "  print(c)"
      ],
      "execution_count": 22,
      "outputs": [
        {
          "output_type": "stream",
          "text": [
            "h\n",
            "e\n",
            "l\n",
            "l\n",
            "o\n"
          ],
          "name": "stdout"
        }
      ]
    },
    {
      "cell_type": "code",
      "metadata": {
        "id": "meCX2OohOlZ5",
        "colab_type": "code",
        "colab": {
          "base_uri": "https://localhost:8080/",
          "height": 104
        },
        "outputId": "4e8e95ae-72fc-4be5-fe43-64218076c30f"
      },
      "source": [
        "s = 'hello'\n",
        "i=0\n",
        "for c in s:\n",
        "  print(i, c)\n",
        "  i += 1"
      ],
      "execution_count": 25,
      "outputs": [
        {
          "output_type": "stream",
          "text": [
            "0 h\n",
            "1 e\n",
            "2 l\n",
            "3 l\n",
            "4 o\n"
          ],
          "name": "stdout"
        }
      ]
    },
    {
      "cell_type": "code",
      "metadata": {
        "id": "sNFSkdxOOqyC",
        "colab_type": "code",
        "colab": {
          "base_uri": "https://localhost:8080/",
          "height": 104
        },
        "outputId": "ee1a31df-89ef-471f-937b-0d15109611f3"
      },
      "source": [
        "s = 'hello'\n",
        "\n",
        "for i in range(len(s)):\n",
        "  print(i, s[i])"
      ],
      "execution_count": 27,
      "outputs": [
        {
          "output_type": "stream",
          "text": [
            "0 h\n",
            "1 e\n",
            "2 l\n",
            "3 l\n",
            "4 o\n"
          ],
          "name": "stdout"
        }
      ]
    },
    {
      "cell_type": "code",
      "metadata": {
        "id": "CJ4tv7HnO6Dm",
        "colab_type": "code",
        "colab": {
          "base_uri": "https://localhost:8080/",
          "height": 104
        },
        "outputId": "edd6df6c-8eba-4851-8553-6aab4de7bc05"
      },
      "source": [
        "s = 'hello'\n",
        "\n",
        "for i, c in enumerate(s):\n",
        "  print(i ,c)"
      ],
      "execution_count": 28,
      "outputs": [
        {
          "output_type": "stream",
          "text": [
            "0 h\n",
            "1 e\n",
            "2 l\n",
            "3 l\n",
            "4 o\n"
          ],
          "name": "stdout"
        }
      ]
    },
    {
      "cell_type": "code",
      "metadata": {
        "id": "HqfIkb6jPPNO",
        "colab_type": "code",
        "colab": {}
      },
      "source": [
        ""
      ],
      "execution_count": null,
      "outputs": []
    }
  ]
}