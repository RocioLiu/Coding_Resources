{
  "nbformat": 4,
  "nbformat_minor": 0,
  "metadata": {
    "colab": {
      "name": "01_Sequence Types.ipynb",
      "provenance": []
    },
    "kernelspec": {
      "name": "python3",
      "display_name": "Python 3"
    }
  },
  "cells": [
    {
      "cell_type": "markdown",
      "metadata": {
        "id": "-wC_D_F-7jGu"
      },
      "source": [
        "### Sequence Types. \n",
        "Sequence types have the general concept of a first element, a second element, and so on. Basically an ordering of the sequence items using the natural numbers. In Python (and many other languages) the starting index is set to 0, not 1.  \n",
        "  \n",
        "So the first item has index 0, the second item has index 1, and so on.\n",
        "\n",
        "Python has built-in mutable and immutable sequence types.\n",
        "\n",
        "Strings, tuples are immutable - we can access but not modify the **content** of the **sequence**:"
      ]
    },
    {
      "cell_type": "code",
      "metadata": {
        "id": "a_7krgtijsV_"
      },
      "source": [
        ""
      ],
      "execution_count": null,
      "outputs": []
    },
    {
      "cell_type": "code",
      "metadata": {
        "id": "aw1lhqd27spB"
      },
      "source": [
        ""
      ],
      "execution_count": null,
      "outputs": []
    }
  ]
}