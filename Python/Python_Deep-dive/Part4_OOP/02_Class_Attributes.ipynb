{
  "nbformat": 4,
  "nbformat_minor": 0,
  "metadata": {
    "colab": {
      "name": "02 - Class Attributes.ipynb",
      "provenance": [],
      "collapsed_sections": [],
      "authorship_tag": "ABX9TyMX3cZDPPdOz1fjZCPBJUZK",
      "include_colab_link": true
    },
    "kernelspec": {
      "name": "python3",
      "display_name": "Python 3"
    },
    "language_info": {
      "name": "python"
    }
  },
  "cells": [
    {
      "cell_type": "markdown",
      "metadata": {
        "id": "view-in-github",
        "colab_type": "text"
      },
      "source": [
        "<a href=\"https://colab.research.google.com/github/RocioLiu/Coding_Resources/blob/master/02_Class_Attributes.ipynb\" target=\"_parent\"><img src=\"https://colab.research.google.com/assets/colab-badge.svg\" alt=\"Open In Colab\"/></a>"
      ]
    },
    {
      "cell_type": "markdown",
      "metadata": {
        "id": "V945J5927Gnw"
      },
      "source": [
        "## **Class Attributes**\n",
        "As we saw, when we create a class Python automatically builds-in properties and behaviors into our class object, like making it callable, and properties like `__name__`."
      ]
    },
    {
      "cell_type": "code",
      "metadata": {
        "id": "EX_hS-QC7LR0"
      },
      "source": [
        "class Person:\n",
        "  pass"
      ],
      "execution_count": 1,
      "outputs": []
    },
    {
      "cell_type": "code",
      "metadata": {
        "colab": {
          "base_uri": "https://localhost:8080/",
          "height": 35
        },
        "id": "6n1qWytuwq1d",
        "outputId": "a6dbf7c1-8da8-4d69-ac0f-28cd259e4325"
      },
      "source": [
        "Person.__name__"
      ],
      "execution_count": 2,
      "outputs": [
        {
          "output_type": "execute_result",
          "data": {
            "application/vnd.google.colaboratory.intrinsic+json": {
              "type": "string"
            },
            "text/plain": [
              "'Person'"
            ]
          },
          "metadata": {
            "tags": []
          },
          "execution_count": 2
        }
      ]
    },
    {
      "cell_type": "markdown",
      "metadata": {
        "id": "p05dB2JNwuMW"
      },
      "source": [
        "`__name__` is a **class attribute**. We can add our own class attributes easily this way:"
      ]
    },
    {
      "cell_type": "code",
      "metadata": {
        "id": "kpMwaUTiwsBM"
      },
      "source": [
        "class Program:\n",
        "  language = 'Python'\n",
        "  version = '3.6'"
      ],
      "execution_count": 3,
      "outputs": []
    },
    {
      "cell_type": "code",
      "metadata": {
        "colab": {
          "base_uri": "https://localhost:8080/",
          "height": 35
        },
        "id": "RE4OrKU1xFM7",
        "outputId": "97355968-0677-4a00-f90d-5ff9d940bc3b"
      },
      "source": [
        "Program.__name__"
      ],
      "execution_count": 4,
      "outputs": [
        {
          "output_type": "execute_result",
          "data": {
            "application/vnd.google.colaboratory.intrinsic+json": {
              "type": "string"
            },
            "text/plain": [
              "'Program'"
            ]
          },
          "metadata": {
            "tags": []
          },
          "execution_count": 4
        }
      ]
    },
    {
      "cell_type": "code",
      "metadata": {
        "colab": {
          "base_uri": "https://localhost:8080/"
        },
        "id": "j6Fykcr7xNzs",
        "outputId": "9a03dbe2-a507-4409-f2d8-14d567d81f59"
      },
      "source": [
        "type(Program)"
      ],
      "execution_count": 5,
      "outputs": [
        {
          "output_type": "execute_result",
          "data": {
            "text/plain": [
              "type"
            ]
          },
          "metadata": {
            "tags": []
          },
          "execution_count": 5
        }
      ]
    },
    {
      "cell_type": "code",
      "metadata": {
        "colab": {
          "base_uri": "https://localhost:8080/",
          "height": 35
        },
        "id": "ZHIMDDdXxPuI",
        "outputId": "6c0106f1-ef5d-4c9a-a257-029d3edbf92c"
      },
      "source": [
        "Program.language"
      ],
      "execution_count": 6,
      "outputs": [
        {
          "output_type": "execute_result",
          "data": {
            "application/vnd.google.colaboratory.intrinsic+json": {
              "type": "string"
            },
            "text/plain": [
              "'Python'"
            ]
          },
          "metadata": {
            "tags": []
          },
          "execution_count": 6
        }
      ]
    },
    {
      "cell_type": "code",
      "metadata": {
        "colab": {
          "base_uri": "https://localhost:8080/",
          "height": 35
        },
        "id": "uofakw_gxcD0",
        "outputId": "602cf3b4-e21c-45f0-a924-e04abd3166a8"
      },
      "source": [
        "Program.version"
      ],
      "execution_count": 7,
      "outputs": [
        {
          "output_type": "execute_result",
          "data": {
            "application/vnd.google.colaboratory.intrinsic+json": {
              "type": "string"
            },
            "text/plain": [
              "'3.6'"
            ]
          },
          "metadata": {
            "tags": []
          },
          "execution_count": 7
        }
      ]
    },
    {
      "cell_type": "markdown",
      "metadata": {
        "id": "vsN3qkmgxp-o"
      },
      "source": [
        "Here we used \"dotted notation\" to access the class attributes. In fact we can also use dotted notation to set the class attribute:"
      ]
    },
    {
      "cell_type": "code",
      "metadata": {
        "colab": {
          "base_uri": "https://localhost:8080/",
          "height": 35
        },
        "id": "5eKAJq8yxdjI",
        "outputId": "215796a2-10a2-4e0c-f10c-852c55083b87"
      },
      "source": [
        "Program.version = '3.7'\n",
        "Program.version"
      ],
      "execution_count": 8,
      "outputs": [
        {
          "output_type": "execute_result",
          "data": {
            "application/vnd.google.colaboratory.intrinsic+json": {
              "type": "string"
            },
            "text/plain": [
              "'3.7'"
            ]
          },
          "metadata": {
            "tags": []
          },
          "execution_count": 8
        }
      ]
    },
    {
      "cell_type": "markdown",
      "metadata": {
        "id": "Xgbi_3G9xyvD"
      },
      "source": [
        "But we can also use the functions `getattr` and `setattr` to read and write these attributes:"
      ]
    },
    {
      "cell_type": "code",
      "metadata": {
        "colab": {
          "base_uri": "https://localhost:8080/",
          "height": 35
        },
        "id": "vBDmqWQZxlId",
        "outputId": "c1e900fa-df3c-4920-f90a-5d8ed9166b84"
      },
      "source": [
        "getattr(Program, 'version')"
      ],
      "execution_count": 9,
      "outputs": [
        {
          "output_type": "execute_result",
          "data": {
            "application/vnd.google.colaboratory.intrinsic+json": {
              "type": "string"
            },
            "text/plain": [
              "'3.7'"
            ]
          },
          "metadata": {
            "tags": []
          },
          "execution_count": 9
        }
      ]
    },
    {
      "cell_type": "code",
      "metadata": {
        "id": "2B0mRaIlx41B"
      },
      "source": [
        "setattr(Program, 'version', '3.6')"
      ],
      "execution_count": 10,
      "outputs": []
    },
    {
      "cell_type": "code",
      "metadata": {
        "colab": {
          "base_uri": "https://localhost:8080/"
        },
        "id": "hpwByLA1yAPQ",
        "outputId": "0ae6012a-8507-40b0-8b0d-cd7df97429f0"
      },
      "source": [
        "Program.version, getattr(Program, 'version')"
      ],
      "execution_count": 11,
      "outputs": [
        {
          "output_type": "execute_result",
          "data": {
            "text/plain": [
              "('3.6', '3.6')"
            ]
          },
          "metadata": {
            "tags": []
          },
          "execution_count": 11
        }
      ]
    },
    {
      "cell_type": "code",
      "metadata": {
        "colab": {
          "base_uri": "https://localhost:8080/",
          "height": 165
        },
        "id": "8IdS7CWHzAKI",
        "outputId": "1d6a0c77-15eb-4568-df64-a977586a9b93"
      },
      "source": [
        "Program.x"
      ],
      "execution_count": 12,
      "outputs": [
        {
          "output_type": "error",
          "ename": "AttributeError",
          "evalue": "ignored",
          "traceback": [
            "\u001b[0;31m---------------------------------------------------------------------------\u001b[0m",
            "\u001b[0;31mAttributeError\u001b[0m                            Traceback (most recent call last)",
            "\u001b[0;32m<ipython-input-12-e481eacff565>\u001b[0m in \u001b[0;36m<module>\u001b[0;34m()\u001b[0m\n\u001b[0;32m----> 1\u001b[0;31m \u001b[0mProgram\u001b[0m\u001b[0;34m.\u001b[0m\u001b[0mx\u001b[0m\u001b[0;34m\u001b[0m\u001b[0;34m\u001b[0m\u001b[0m\n\u001b[0m",
            "\u001b[0;31mAttributeError\u001b[0m: type object 'Program' has no attribute 'x'"
          ]
        }
      ]
    },
    {
      "cell_type": "markdown",
      "metadata": {
        "id": "wv5BHmjizJGN"
      },
      "source": [
        "If we don't want that exception to generate, we can use 'getattr' and provide a default value"
      ]
    },
    {
      "cell_type": "code",
      "metadata": {
        "colab": {
          "base_uri": "https://localhost:8080/",
          "height": 35
        },
        "id": "-Orv6l3Hzdur",
        "outputId": "f0d552f3-e2b3-48aa-d5f7-38ea86f5dece"
      },
      "source": [
        "getattr(Program, 'x', 'N/A')"
      ],
      "execution_count": 13,
      "outputs": [
        {
          "output_type": "execute_result",
          "data": {
            "application/vnd.google.colaboratory.intrinsic+json": {
              "type": "string"
            },
            "text/plain": [
              "'N/A'"
            ]
          },
          "metadata": {
            "tags": []
          },
          "execution_count": 13
        }
      ]
    },
    {
      "cell_type": "markdown",
      "metadata": {
        "id": "W_94sbHvArIT"
      },
      "source": [
        "`getattr` and `setattr` is really for any attributes of any objects. "
      ]
    },
    {
      "cell_type": "code",
      "metadata": {
        "colab": {
          "base_uri": "https://localhost:8080/",
          "height": 35
        },
        "id": "1fd6fInLBBr4",
        "outputId": "fb8afd18-5f4d-47ac-f9bd-0732ca3184e8"
      },
      "source": [
        "getattr('hello', 'x', 'N/A')"
      ],
      "execution_count": 14,
      "outputs": [
        {
          "output_type": "execute_result",
          "data": {
            "application/vnd.google.colaboratory.intrinsic+json": {
              "type": "string"
            },
            "text/plain": [
              "'N/A'"
            ]
          },
          "metadata": {
            "tags": []
          },
          "execution_count": 14
        }
      ]
    },
    {
      "cell_type": "markdown",
      "metadata": {
        "id": "ix1x70FQyiW4"
      },
      "source": [
        "Python is a dynamic language, and we can create attributes at run-time, outside of the class definition itself:  \n",
        "\n",
        "Using dotted notation we added an attribute x to the Person class:"
      ]
    },
    {
      "cell_type": "code",
      "metadata": {
        "id": "FDpUEyfgyHaH"
      },
      "source": [
        "Program.x = 100"
      ],
      "execution_count": 20,
      "outputs": []
    },
    {
      "cell_type": "code",
      "metadata": {
        "colab": {
          "base_uri": "https://localhost:8080/"
        },
        "id": "2Y3r3NLVyrYc",
        "outputId": "9e1fdfd4-5a15-4fb0-e187-ec9eb9037259"
      },
      "source": [
        "Program.x, getattr(Program, 'x')"
      ],
      "execution_count": 21,
      "outputs": [
        {
          "output_type": "execute_result",
          "data": {
            "text/plain": [
              "(100, 100)"
            ]
          },
          "metadata": {
            "tags": []
          },
          "execution_count": 21
        }
      ]
    },
    {
      "cell_type": "markdown",
      "metadata": {
        "id": "qsSIB606BkAz"
      },
      "source": [
        "We could also just have used a setattr function call:"
      ]
    },
    {
      "cell_type": "code",
      "metadata": {
        "id": "sY8zDupSzFYq"
      },
      "source": [
        "setattr(Program, 'y', 200)"
      ],
      "execution_count": 15,
      "outputs": []
    },
    {
      "cell_type": "code",
      "metadata": {
        "colab": {
          "base_uri": "https://localhost:8080/"
        },
        "id": "Xmu2P4v-Bpib",
        "outputId": "21240fd8-55b9-4bd8-b657-7a222ebe8fd1"
      },
      "source": [
        "Program.y, getattr(Program, 'y')"
      ],
      "execution_count": 17,
      "outputs": [
        {
          "output_type": "execute_result",
          "data": {
            "text/plain": [
              "(200, 200)"
            ]
          },
          "metadata": {
            "tags": []
          },
          "execution_count": 17
        }
      ]
    },
    {
      "cell_type": "markdown",
      "metadata": {
        "id": "bg8ISVamCDXR"
      },
      "source": [
        "So where is the state stored? Usually in a dictionary that is attached to the **class** object (often referred to as the **namespace** of the class):"
      ]
    },
    {
      "cell_type": "code",
      "metadata": {
        "colab": {
          "base_uri": "https://localhost:8080/"
        },
        "id": "gJZYZYlGBvbO",
        "outputId": "6f88a9e6-57b0-4f0f-c0c2-afd0d651f17d"
      },
      "source": [
        "Program.__dict__"
      ],
      "execution_count": 24,
      "outputs": [
        {
          "output_type": "execute_result",
          "data": {
            "text/plain": [
              "mappingproxy({'__dict__': <attribute '__dict__' of 'Program' objects>,\n",
              "              '__doc__': None,\n",
              "              '__module__': '__main__',\n",
              "              '__weakref__': <attribute '__weakref__' of 'Program' objects>,\n",
              "              'language': 'Python',\n",
              "              'version': '3.6',\n",
              "              'x': 100,\n",
              "              'y': 200})"
            ]
          },
          "metadata": {
            "tags": []
          },
          "execution_count": 24
        }
      ]
    },
    {
      "cell_type": "markdown",
      "metadata": {
        "id": "avmC9NiQC0bV"
      },
      "source": [
        "As you can see that dictionary contains our attributes: `language`, `version`, `x`, `y` with their corresponding current values.\n",
        "\n",
        "Notice also that `Program.__dict__` does not return a dictionary, but a `mappingproxy` object - this is essentially a read-only dictionary that we cannot modify directly (but we can modify it by using `setattr`, or dotted notation).\n",
        "\n",
        "For example, if we change the value of an attribute:"
      ]
    },
    {
      "cell_type": "code",
      "metadata": {
        "id": "7WuLDN-XCJM1"
      },
      "source": [
        "setattr(Program, 'x', -100)"
      ],
      "execution_count": 25,
      "outputs": []
    },
    {
      "cell_type": "code",
      "metadata": {
        "colab": {
          "base_uri": "https://localhost:8080/"
        },
        "id": "Qfz6ub6ADHNA",
        "outputId": "3bfa8c3c-8f9a-46ad-9faa-10f21c318894"
      },
      "source": [
        "Program.__dict__"
      ],
      "execution_count": 26,
      "outputs": [
        {
          "output_type": "execute_result",
          "data": {
            "text/plain": [
              "mappingproxy({'__dict__': <attribute '__dict__' of 'Program' objects>,\n",
              "              '__doc__': None,\n",
              "              '__module__': '__main__',\n",
              "              '__weakref__': <attribute '__weakref__' of 'Program' objects>,\n",
              "              'language': 'Python',\n",
              "              'version': '3.6',\n",
              "              'x': -100,\n",
              "              'y': 200})"
            ]
          },
          "metadata": {
            "tags": []
          },
          "execution_count": 26
        }
      ]
    },
    {
      "cell_type": "markdown",
      "metadata": {
        "id": "urudTUYzDekz"
      },
      "source": [
        "#### **Deleting Attributes**\n",
        "So, we can create and mutate class attributes at run-time. Can we delete attributes too?\n",
        "\n",
        "The answer of course is yes. We can either use the `del` keyword, or the `delattr` function:"
      ]
    },
    {
      "cell_type": "code",
      "metadata": {
        "id": "2dnMjIiIDJUv"
      },
      "source": [
        "del Program.x"
      ],
      "execution_count": 27,
      "outputs": []
    },
    {
      "cell_type": "code",
      "metadata": {
        "colab": {
          "base_uri": "https://localhost:8080/"
        },
        "id": "iQnAdgH-D28q",
        "outputId": "aa135739-3b2a-4d61-d8bf-18a2f299f488"
      },
      "source": [
        "Program.__dict__"
      ],
      "execution_count": 28,
      "outputs": [
        {
          "output_type": "execute_result",
          "data": {
            "text/plain": [
              "mappingproxy({'__dict__': <attribute '__dict__' of 'Program' objects>,\n",
              "              '__doc__': None,\n",
              "              '__module__': '__main__',\n",
              "              '__weakref__': <attribute '__weakref__' of 'Program' objects>,\n",
              "              'language': 'Python',\n",
              "              'version': '3.6',\n",
              "              'y': 200})"
            ]
          },
          "metadata": {
            "tags": []
          },
          "execution_count": 28
        }
      ]
    },
    {
      "cell_type": "code",
      "metadata": {
        "id": "NXHXJ4v8D5NZ"
      },
      "source": [
        "delattr(Program, 'y')"
      ],
      "execution_count": 29,
      "outputs": []
    },
    {
      "cell_type": "code",
      "metadata": {
        "colab": {
          "base_uri": "https://localhost:8080/"
        },
        "id": "wkWREg5DD8l0",
        "outputId": "03bb9685-6bd1-4580-d17e-e9880656ab44"
      },
      "source": [
        "Program.__dict__"
      ],
      "execution_count": 30,
      "outputs": [
        {
          "output_type": "execute_result",
          "data": {
            "text/plain": [
              "mappingproxy({'__dict__': <attribute '__dict__' of 'Program' objects>,\n",
              "              '__doc__': None,\n",
              "              '__module__': '__main__',\n",
              "              '__weakref__': <attribute '__weakref__' of 'Program' objects>,\n",
              "              'language': 'Python',\n",
              "              'version': '3.6'})"
            ]
          },
          "metadata": {
            "tags": []
          },
          "execution_count": 30
        }
      ]
    },
    {
      "cell_type": "markdown",
      "metadata": {
        "id": "Dlf145k-EI60"
      },
      "source": [
        "#### **Direct Namespace Access**\n",
        "Although `__dict__` returns a `mappingproxy` object, it still is a hash map and essentially behaves like a read-only dictionary:"
      ]
    },
    {
      "cell_type": "code",
      "metadata": {
        "colab": {
          "base_uri": "https://localhost:8080/",
          "height": 35
        },
        "id": "viFrwkd0ECm-",
        "outputId": "25572551-3710-43fb-be1b-85fff94c61b7"
      },
      "source": [
        "Program.__dict__['language']"
      ],
      "execution_count": 31,
      "outputs": [
        {
          "output_type": "execute_result",
          "data": {
            "application/vnd.google.colaboratory.intrinsic+json": {
              "type": "string"
            },
            "text/plain": [
              "'Python'"
            ]
          },
          "metadata": {
            "tags": []
          },
          "execution_count": 31
        }
      ]
    },
    {
      "cell_type": "code",
      "metadata": {
        "colab": {
          "base_uri": "https://localhost:8080/"
        },
        "id": "SGkGEHkZEbO8",
        "outputId": "434ea654-1ad2-46c4-febe-528c489aa002"
      },
      "source": [
        "list(Program.__dict__.items())"
      ],
      "execution_count": 32,
      "outputs": [
        {
          "output_type": "execute_result",
          "data": {
            "text/plain": [
              "[('__module__', '__main__'),\n",
              " ('language', 'Python'),\n",
              " ('version', '3.6'),\n",
              " ('__dict__', <attribute '__dict__' of 'Program' objects>),\n",
              " ('__weakref__', <attribute '__weakref__' of 'Program' objects>),\n",
              " ('__doc__', None)]"
            ]
          },
          "metadata": {
            "tags": []
          },
          "execution_count": 32
        }
      ]
    },
    {
      "cell_type": "markdown",
      "metadata": {
        "id": "Ui7FTWRxE11B"
      },
      "source": [
        "We can not make the modification with `__dict__`"
      ]
    },
    {
      "cell_type": "code",
      "metadata": {
        "colab": {
          "base_uri": "https://localhost:8080/",
          "height": 165
        },
        "id": "yJ3apCM9E8TA",
        "outputId": "d2044e3d-7030-4cb8-a16f-01ad81bf48c5"
      },
      "source": [
        "Program.__dict__['language'] = 'Java'"
      ],
      "execution_count": 34,
      "outputs": [
        {
          "output_type": "error",
          "ename": "TypeError",
          "evalue": "ignored",
          "traceback": [
            "\u001b[0;31m---------------------------------------------------------------------------\u001b[0m",
            "\u001b[0;31mTypeError\u001b[0m                                 Traceback (most recent call last)",
            "\u001b[0;32m<ipython-input-34-978f24d0b828>\u001b[0m in \u001b[0;36m<module>\u001b[0;34m()\u001b[0m\n\u001b[0;32m----> 1\u001b[0;31m \u001b[0mProgram\u001b[0m\u001b[0;34m.\u001b[0m\u001b[0m__dict__\u001b[0m\u001b[0;34m[\u001b[0m\u001b[0;34m'language'\u001b[0m\u001b[0;34m]\u001b[0m \u001b[0;34m=\u001b[0m \u001b[0;34m'Java'\u001b[0m\u001b[0;34m\u001b[0m\u001b[0;34m\u001b[0m\u001b[0m\n\u001b[0m",
            "\u001b[0;31mTypeError\u001b[0m: 'mappingproxy' object does not support item assignment"
          ]
        }
      ]
    },
    {
      "cell_type": "markdown",
      "metadata": {
        "id": "0vsJhhmgEphl"
      },
      "source": [
        "One word of caution: not every attribute that a class has lives in that dictionary (we'll come back to this later).\n",
        "\n",
        "For example, you'll notice that the `__name__` attribute is not there:"
      ]
    },
    {
      "cell_type": "code",
      "metadata": {
        "colab": {
          "base_uri": "https://localhost:8080/",
          "height": 35
        },
        "id": "OZaz8D2_EfD3",
        "outputId": "828d0261-eb88-4bd2-ec33-8cfbc2a4f11c"
      },
      "source": [
        "Program.__name__"
      ],
      "execution_count": 33,
      "outputs": [
        {
          "output_type": "execute_result",
          "data": {
            "application/vnd.google.colaboratory.intrinsic+json": {
              "type": "string"
            },
            "text/plain": [
              "'Program'"
            ]
          },
          "metadata": {
            "tags": []
          },
          "execution_count": 33
        }
      ]
    },
    {
      "cell_type": "code",
      "metadata": {
        "colab": {
          "base_uri": "https://localhost:8080/"
        },
        "id": "ELzWQ5N2ExnX",
        "outputId": "f98b3299-803b-4cd1-8290-24eeca68ed63"
      },
      "source": [
        "__name__ in Program.__dict__"
      ],
      "execution_count": 35,
      "outputs": [
        {
          "output_type": "execute_result",
          "data": {
            "text/plain": [
              "False"
            ]
          },
          "metadata": {
            "tags": []
          },
          "execution_count": 35
        }
      ]
    }
  ]
}