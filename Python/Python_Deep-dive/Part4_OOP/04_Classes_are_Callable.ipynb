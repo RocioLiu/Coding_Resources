{
  "nbformat": 4,
  "nbformat_minor": 0,
  "metadata": {
    "colab": {
      "name": "04 - Classes are Callable.ipynb",
      "provenance": [],
      "collapsed_sections": [],
      "authorship_tag": "ABX9TyMkSC53QnkqXLM32z2pVusg",
      "include_colab_link": true
    },
    "kernelspec": {
      "name": "python3",
      "display_name": "Python 3"
    },
    "language_info": {
      "name": "python"
    }
  },
  "cells": [
    {
      "cell_type": "markdown",
      "metadata": {
        "id": "view-in-github",
        "colab_type": "text"
      },
      "source": [
        "<a href=\"https://colab.research.google.com/github/RocioLiu/Coding_Resources/blob/master/04_Classes_are_Callable.ipynb\" target=\"_parent\"><img src=\"https://colab.research.google.com/assets/colab-badge.svg\" alt=\"Open In Colab\"/></a>"
      ]
    },
    {
      "cell_type": "markdown",
      "metadata": {
        "id": "b220gHKZ8Hcp"
      },
      "source": [
        "## **Classes are Callable**\n",
        "As we saw earlier, one of the things Python does for us when we create a class is to make it callable.\n",
        "\n",
        "Calling a class creates a new instance of the class - an object of that particular type."
      ]
    },
    {
      "cell_type": "code",
      "metadata": {
        "id": "7vEBrE4F7gGH"
      },
      "source": [
        "class Program:\n",
        "  language = 'Python'\n",
        "\n",
        "  def say_hello():\n",
        "    print(f\"Hello from {Program.language}\")"
      ],
      "execution_count": 2,
      "outputs": []
    },
    {
      "cell_type": "code",
      "metadata": {
        "id": "E59QCVUg839F"
      },
      "source": [
        "p = Program()"
      ],
      "execution_count": 3,
      "outputs": []
    },
    {
      "cell_type": "code",
      "metadata": {
        "colab": {
          "base_uri": "https://localhost:8080/"
        },
        "id": "c79qlZCu867q",
        "outputId": "3ec42803-2fad-4641-f2aa-0d7011792892"
      },
      "source": [
        "type(p)"
      ],
      "execution_count": 4,
      "outputs": [
        {
          "output_type": "execute_result",
          "data": {
            "text/plain": [
              "__main__.Program"
            ]
          },
          "metadata": {
            "tags": []
          },
          "execution_count": 4
        }
      ]
    },
    {
      "cell_type": "code",
      "metadata": {
        "colab": {
          "base_uri": "https://localhost:8080/"
        },
        "id": "5r9sCA5c8714",
        "outputId": "7b81689e-e3e3-43d6-ae25-936441a5e298"
      },
      "source": [
        "isinstance(p, Program)"
      ],
      "execution_count": 5,
      "outputs": [
        {
          "output_type": "execute_result",
          "data": {
            "text/plain": [
              "True"
            ]
          },
          "metadata": {
            "tags": []
          },
          "execution_count": 5
        }
      ]
    },
    {
      "cell_type": "markdown",
      "metadata": {
        "id": "AglrMKXb9E9s"
      },
      "source": [
        "These instances have their own namespace, and their own `__dict__` that is distinct from the class `__dict__`:"
      ]
    },
    {
      "cell_type": "code",
      "metadata": {
        "colab": {
          "base_uri": "https://localhost:8080/"
        },
        "id": "gRF0oXWN89r2",
        "outputId": "a90056bc-4a2f-4e1f-d74b-2b4f133266d4"
      },
      "source": [
        "p.__dict__"
      ],
      "execution_count": 6,
      "outputs": [
        {
          "output_type": "execute_result",
          "data": {
            "text/plain": [
              "{}"
            ]
          },
          "metadata": {
            "tags": []
          },
          "execution_count": 6
        }
      ]
    },
    {
      "cell_type": "markdown",
      "metadata": {
        "id": "6d7lvmUr9gR-"
      },
      "source": [
        "We can see have attributes in the class, and this is why we call this **class attributes**. They belong to the namespace of the class, but they are not in the namespace of the instance. "
      ]
    },
    {
      "cell_type": "code",
      "metadata": {
        "colab": {
          "base_uri": "https://localhost:8080/"
        },
        "id": "Vtzjr7Zc9J5Q",
        "outputId": "45e1dacf-d119-4d7c-acf4-befff8e7c030"
      },
      "source": [
        "Program.__dict__"
      ],
      "execution_count": 7,
      "outputs": [
        {
          "output_type": "execute_result",
          "data": {
            "text/plain": [
              "mappingproxy({'__dict__': <attribute '__dict__' of 'Program' objects>,\n",
              "              '__doc__': None,\n",
              "              '__module__': '__main__',\n",
              "              '__weakref__': <attribute '__weakref__' of 'Program' objects>,\n",
              "              'language': 'Python',\n",
              "              'say_hello': <function __main__.Program.say_hello>})"
            ]
          },
          "metadata": {
            "tags": []
          },
          "execution_count": 7
        }
      ]
    },
    {
      "cell_type": "markdown",
      "metadata": {
        "id": "X-SmJeQb9ZXd"
      },
      "source": [
        "Instances also have attributes that may not be visible in their `__dict__` (they are being stored elsewhere, as we'll examine later):\n",
        "\n"
      ]
    },
    {
      "cell_type": "code",
      "metadata": {
        "colab": {
          "base_uri": "https://localhost:8080/"
        },
        "id": "JzGt_z4i9LZj",
        "outputId": "0d8c3815-f6dd-48d0-a65a-8ee285903a83"
      },
      "source": [
        "p.__class__"
      ],
      "execution_count": 8,
      "outputs": [
        {
          "output_type": "execute_result",
          "data": {
            "text/plain": [
              "__main__.Program"
            ]
          },
          "metadata": {
            "tags": []
          },
          "execution_count": 8
        }
      ]
    },
    {
      "cell_type": "markdown",
      "metadata": {
        "id": "F2MVcdfO-J0z"
      },
      "source": [
        "Although we can use `__class__` we can also use type:"
      ]
    },
    {
      "cell_type": "code",
      "metadata": {
        "colab": {
          "base_uri": "https://localhost:8080/"
        },
        "id": "RSQ0gZag-Hzi",
        "outputId": "832e251a-6120-466e-cf93-8d414e2ae5d0"
      },
      "source": [
        "type(p) is p.__class__"
      ],
      "execution_count": 9,
      "outputs": [
        {
          "output_type": "execute_result",
          "data": {
            "text/plain": [
              "True"
            ]
          },
          "metadata": {
            "tags": []
          },
          "execution_count": 9
        }
      ]
    },
    {
      "cell_type": "markdown",
      "metadata": {
        "id": "q5qds6fO-r98"
      },
      "source": [
        "Generally we use `type` instead of using `__class__` just like we usually use `len()` instead of accessing `__len__`.\n",
        "\n",
        "Why? Well, one reason is that people can mess around with the `__class__` attribute:"
      ]
    },
    {
      "cell_type": "code",
      "metadata": {
        "id": "HRQcYunD-oOo"
      },
      "source": [
        "class Myclass:\n",
        "  pass"
      ],
      "execution_count": 11,
      "outputs": []
    },
    {
      "cell_type": "code",
      "metadata": {
        "id": "OHqwKDtD-3v-"
      },
      "source": [
        "m = Myclass()"
      ],
      "execution_count": 12,
      "outputs": []
    },
    {
      "cell_type": "code",
      "metadata": {
        "colab": {
          "base_uri": "https://localhost:8080/"
        },
        "id": "-cKUxThd-7gm",
        "outputId": "35dbc6b6-c19c-4597-c4f9-0121700b624e"
      },
      "source": [
        "type(m), m.__class__"
      ],
      "execution_count": 14,
      "outputs": [
        {
          "output_type": "execute_result",
          "data": {
            "text/plain": [
              "(__main__.Myclass, __main__.Myclass)"
            ]
          },
          "metadata": {
            "tags": []
          },
          "execution_count": 14
        }
      ]
    },
    {
      "cell_type": "markdown",
      "metadata": {
        "id": "MYbjHAnE_Qwy"
      },
      "source": [
        "But look at what happens here:"
      ]
    },
    {
      "cell_type": "code",
      "metadata": {
        "id": "4ZuIBz-d_BFz"
      },
      "source": [
        "class MyClass:\n",
        "    __class__ = str"
      ],
      "execution_count": 27,
      "outputs": []
    },
    {
      "cell_type": "code",
      "metadata": {
        "id": "s9dDGzvV_GuJ"
      },
      "source": [
        "m = MyClass()"
      ],
      "execution_count": 30,
      "outputs": []
    },
    {
      "cell_type": "code",
      "metadata": {
        "colab": {
          "base_uri": "https://localhost:8080/"
        },
        "id": "bdZ8TppH_IUT",
        "outputId": "b5a96952-e8c6-407c-f2c2-67d9bfed8c0d"
      },
      "source": [
        "type(m), m.__class__"
      ],
      "execution_count": 31,
      "outputs": [
        {
          "output_type": "execute_result",
          "data": {
            "text/plain": [
              "(__main__.MyClass, str)"
            ]
          },
          "metadata": {
            "tags": []
          },
          "execution_count": 31
        }
      ]
    },
    {
      "cell_type": "markdown",
      "metadata": {
        "id": "LtW7iKPHAOl-"
      },
      "source": [
        "So as you can see, `type` wasn't fooled!"
      ]
    },
    {
      "cell_type": "code",
      "metadata": {
        "colab": {
          "base_uri": "https://localhost:8080/"
        },
        "id": "EpgNnNXN_UUt",
        "outputId": "484485a9-7e57-4207-af77-c37b969b613f"
      },
      "source": [
        "isinstance(m, MyClass)"
      ],
      "execution_count": 32,
      "outputs": [
        {
          "output_type": "execute_result",
          "data": {
            "text/plain": [
              "True"
            ]
          },
          "metadata": {
            "tags": []
          },
          "execution_count": 32
        }
      ]
    },
    {
      "cell_type": "code",
      "metadata": {
        "colab": {
          "base_uri": "https://localhost:8080/"
        },
        "id": "VzvgB19t_WWo",
        "outputId": "815bbaf0-a759-4f97-a8f3-aa516df2615d"
      },
      "source": [
        "isinstance(m, str)"
      ],
      "execution_count": 33,
      "outputs": [
        {
          "output_type": "execute_result",
          "data": {
            "text/plain": [
              "True"
            ]
          },
          "metadata": {
            "tags": []
          },
          "execution_count": 33
        }
      ]
    },
    {
      "cell_type": "code",
      "metadata": {
        "colab": {
          "base_uri": "https://localhost:8080/"
        },
        "id": "wzch4NXO_YmX",
        "outputId": "64e05d4c-f8e2-46cf-e0e1-e0adbbcfed10"
      },
      "source": [
        "isinstance(m, int)"
      ],
      "execution_count": 34,
      "outputs": [
        {
          "output_type": "execute_result",
          "data": {
            "text/plain": [
              "False"
            ]
          },
          "metadata": {
            "tags": []
          },
          "execution_count": 34
        }
      ]
    }
  ]
}