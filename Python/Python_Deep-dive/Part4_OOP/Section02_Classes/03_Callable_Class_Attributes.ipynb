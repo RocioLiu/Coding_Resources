{
  "nbformat": 4,
  "nbformat_minor": 0,
  "metadata": {
    "colab": {
      "name": "03 - Callable Class Attributes.ipynb",
      "provenance": [],
      "collapsed_sections": [],
      "authorship_tag": "ABX9TyNzip/7OUDyXIYbvfjThxhe",
      "include_colab_link": true
    },
    "kernelspec": {
      "name": "python3",
      "display_name": "Python 3"
    },
    "language_info": {
      "name": "python"
    }
  },
  "cells": [
    {
      "cell_type": "markdown",
      "metadata": {
        "id": "view-in-github",
        "colab_type": "text"
      },
      "source": [
        "<a href=\"https://colab.research.google.com/github/RocioLiu/Coding_Resources/blob/master/03_Callable_Class_Attributes.ipynb\" target=\"_parent\"><img src=\"https://colab.research.google.com/assets/colab-badge.svg\" alt=\"Open In Colab\"/></a>"
      ]
    },
    {
      "cell_type": "markdown",
      "metadata": {
        "id": "zwebt_k9FsHG"
      },
      "source": [
        "## **Callable Class Attributes**\n",
        "Class attributes can be any object type, including callables such as functions:"
      ]
    },
    {
      "cell_type": "code",
      "metadata": {
        "id": "z_IFVDJgFmk8"
      },
      "source": [
        "class Program:\n",
        "  language = 'Python'\n",
        "\n",
        "  def say_hello():\n",
        "    print(f\"Hello from {Program.language}\")"
      ],
      "execution_count": 1,
      "outputs": []
    },
    {
      "cell_type": "code",
      "metadata": {
        "id": "ZZ-3-txwFtqK",
        "colab": {
          "base_uri": "https://localhost:8080/"
        },
        "outputId": "cbf2daff-2ddc-489d-c11f-cedaade93196"
      },
      "source": [
        "Program.__dict__"
      ],
      "execution_count": 2,
      "outputs": [
        {
          "output_type": "execute_result",
          "data": {
            "text/plain": [
              "mappingproxy({'__dict__': <attribute '__dict__' of 'Program' objects>,\n",
              "              '__doc__': None,\n",
              "              '__module__': '__main__',\n",
              "              '__weakref__': <attribute '__weakref__' of 'Program' objects>,\n",
              "              'language': 'Python',\n",
              "              'say_hello': <function __main__.Program.say_hello>})"
            ]
          },
          "metadata": {
            "tags": []
          },
          "execution_count": 2
        }
      ]
    },
    {
      "cell_type": "markdown",
      "metadata": {
        "id": "GoVn_BKZ6jnl"
      },
      "source": [
        "As we can see, the `say_hello` symbol is in the class dictionary.\n",
        "\n",
        "We can also retrieve it using either `getattr` or dotted notation:\n",
        "\n"
      ]
    },
    {
      "cell_type": "code",
      "metadata": {
        "colab": {
          "base_uri": "https://localhost:8080/"
        },
        "id": "UHyOW_es3hgI",
        "outputId": "ff6836be-6674-467e-f186-3eea28c8085e"
      },
      "source": [
        "Program.say_hello, getattr(Program, 'say_hello')"
      ],
      "execution_count": 3,
      "outputs": [
        {
          "output_type": "execute_result",
          "data": {
            "text/plain": [
              "(<function __main__.Program.say_hello>, <function __main__.Program.say_hello>)"
            ]
          },
          "metadata": {
            "tags": []
          },
          "execution_count": 3
        }
      ]
    },
    {
      "cell_type": "markdown",
      "metadata": {
        "id": "DfU7ixcK6-6z"
      },
      "source": [
        "And of course we can call it, since it is a callable:"
      ]
    },
    {
      "cell_type": "code",
      "metadata": {
        "colab": {
          "base_uri": "https://localhost:8080/"
        },
        "id": "M4Qxziv54KCC",
        "outputId": "8875deb9-8444-4e68-9c0e-6a429594d3f9"
      },
      "source": [
        "Program.say_hello()"
      ],
      "execution_count": 4,
      "outputs": [
        {
          "output_type": "stream",
          "text": [
            "Hello from Python\n"
          ],
          "name": "stdout"
        }
      ]
    },
    {
      "cell_type": "code",
      "metadata": {
        "colab": {
          "base_uri": "https://localhost:8080/"
        },
        "id": "ryIu06ax4OoW",
        "outputId": "fcfb6138-ae2c-4fc7-8310-d3aea80812fc"
      },
      "source": [
        "getattr(Program, 'say_hello')()"
      ],
      "execution_count": 5,
      "outputs": [
        {
          "output_type": "stream",
          "text": [
            "Hello from Python\n"
          ],
          "name": "stdout"
        }
      ]
    },
    {
      "cell_type": "markdown",
      "metadata": {
        "id": "lecSaQgA7RYC"
      },
      "source": [
        "We can even access it via the namespace dictionary as well:"
      ]
    },
    {
      "cell_type": "code",
      "metadata": {
        "colab": {
          "base_uri": "https://localhost:8080/"
        },
        "id": "_VY-wA9H6Ua9",
        "outputId": "0ed34c39-c572-4cf3-da9c-732a05e244b0"
      },
      "source": [
        "Program.__dict__['say_hello']()"
      ],
      "execution_count": 7,
      "outputs": [
        {
          "output_type": "stream",
          "text": [
            "Hello from Python\n"
          ],
          "name": "stdout"
        }
      ]
    }
  ]
}