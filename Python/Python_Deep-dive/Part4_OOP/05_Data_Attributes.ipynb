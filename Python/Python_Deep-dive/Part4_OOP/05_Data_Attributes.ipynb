{
  "nbformat": 4,
  "nbformat_minor": 0,
  "metadata": {
    "colab": {
      "name": "05 - Data Attributes",
      "provenance": [],
      "collapsed_sections": [],
      "authorship_tag": "ABX9TyPujcpsDsCH9uEFrtVByThL",
      "include_colab_link": true
    },
    "kernelspec": {
      "name": "python3",
      "display_name": "Python 3"
    },
    "language_info": {
      "name": "python"
    }
  },
  "cells": [
    {
      "cell_type": "markdown",
      "metadata": {
        "id": "view-in-github",
        "colab_type": "text"
      },
      "source": [
        "<a href=\"https://colab.research.google.com/github/RocioLiu/Coding_Resources/blob/master/05_Data_Attributes.ipynb\" target=\"_parent\"><img src=\"https://colab.research.google.com/assets/colab-badge.svg\" alt=\"Open In Colab\"/></a>"
      ]
    },
    {
      "cell_type": "markdown",
      "metadata": {
        "id": "jpXz8HTl1u3m"
      },
      "source": [
        "## **Data Attributes**\n",
        "Let's focus on data attributes first (non-callables).\n",
        "\n",
        "As we saw before we can have class attributes - they live in the class dictionary:"
      ]
    },
    {
      "cell_type": "code",
      "metadata": {
        "id": "ZGiXlwOp1HfA"
      },
      "source": [
        "class BankAccount:\n",
        "  apr = 1.2"
      ],
      "execution_count": 1,
      "outputs": []
    },
    {
      "cell_type": "code",
      "metadata": {
        "colab": {
          "base_uri": "https://localhost:8080/"
        },
        "id": "pEHcbp_J1wQh",
        "outputId": "90349dfe-9cdd-4d8a-8905-73b6ec101485"
      },
      "source": [
        "BankAccount.__dict__"
      ],
      "execution_count": 2,
      "outputs": [
        {
          "output_type": "execute_result",
          "data": {
            "text/plain": [
              "mappingproxy({'__dict__': <attribute '__dict__' of 'BankAccount' objects>,\n",
              "              '__doc__': None,\n",
              "              '__module__': '__main__',\n",
              "              '__weakref__': <attribute '__weakref__' of 'BankAccount' objects>,\n",
              "              'apr': 1.2})"
            ]
          },
          "metadata": {
            "tags": []
          },
          "execution_count": 2
        }
      ]
    },
    {
      "cell_type": "code",
      "metadata": {
        "colab": {
          "base_uri": "https://localhost:8080/"
        },
        "id": "25YmPBnh3FUw",
        "outputId": "f68d95ec-a881-43a9-d4f1-d7460f9d1362"
      },
      "source": [
        "BankAccount.apr"
      ],
      "execution_count": 3,
      "outputs": [
        {
          "output_type": "execute_result",
          "data": {
            "text/plain": [
              "1.2"
            ]
          },
          "metadata": {
            "tags": []
          },
          "execution_count": 3
        }
      ]
    },
    {
      "cell_type": "markdown",
      "metadata": {
        "id": "Wf91XFLT3fuz"
      },
      "source": [
        "Now when we create instances of that class:"
      ]
    },
    {
      "cell_type": "code",
      "metadata": {
        "id": "CQ-Pz_J13ICY"
      },
      "source": [
        "acc_1 = BankAccount()\n",
        "acc_2 = BankAccount()"
      ],
      "execution_count": 4,
      "outputs": []
    },
    {
      "cell_type": "code",
      "metadata": {
        "colab": {
          "base_uri": "https://localhost:8080/"
        },
        "id": "LEf033753LQc",
        "outputId": "5e7d6bb6-f78a-4850-e8fa-989e0d73b94a"
      },
      "source": [
        "acc_1 is acc_2"
      ],
      "execution_count": 5,
      "outputs": [
        {
          "output_type": "execute_result",
          "data": {
            "text/plain": [
              "False"
            ]
          },
          "metadata": {
            "tags": []
          },
          "execution_count": 5
        }
      ]
    },
    {
      "cell_type": "markdown",
      "metadata": {
        "id": "FZXEgk1h3jXp"
      },
      "source": [
        "The instance dictionaries are currently empty:"
      ]
    },
    {
      "cell_type": "code",
      "metadata": {
        "colab": {
          "base_uri": "https://localhost:8080/"
        },
        "id": "EcD2YDeK3Ouh",
        "outputId": "cef3dc9c-5ec2-45dc-9b84-f2c65e3857a0"
      },
      "source": [
        "acc_1.__dict__, acc_2.__dict__"
      ],
      "execution_count": 6,
      "outputs": [
        {
          "output_type": "execute_result",
          "data": {
            "text/plain": [
              "({}, {})"
            ]
          },
          "metadata": {
            "tags": []
          },
          "execution_count": 6
        }
      ]
    },
    {
      "cell_type": "markdown",
      "metadata": {
        "id": "ezdmrebE3m2O"
      },
      "source": [
        "Yet, these instances do have an apr attribute:"
      ]
    },
    {
      "cell_type": "code",
      "metadata": {
        "colab": {
          "base_uri": "https://localhost:8080/"
        },
        "id": "JMULXNf_3Um4",
        "outputId": "f8767f12-f1b0-4d54-94a6-e56f6bd557c8"
      },
      "source": [
        "acc_1.apr, acc_2.apr"
      ],
      "execution_count": 7,
      "outputs": [
        {
          "output_type": "execute_result",
          "data": {
            "text/plain": [
              "(1.2, 1.2)"
            ]
          },
          "metadata": {
            "tags": []
          },
          "execution_count": 7
        }
      ]
    },
    {
      "cell_type": "markdown",
      "metadata": {
        "id": "KJ33Qx3o3rgi"
      },
      "source": [
        "Where is that value coming from? The class the objects were created from!\n",
        "\n",
        "In fact, if we modify the class attribute:"
      ]
    },
    {
      "cell_type": "code",
      "metadata": {
        "id": "QYPWKjsP3c4w"
      },
      "source": [
        "BankAccount.apr = 2.5"
      ],
      "execution_count": 8,
      "outputs": []
    },
    {
      "cell_type": "markdown",
      "metadata": {
        "id": "XUKLXg1C3_uT"
      },
      "source": [
        "We'll see this reflected in the instances as well:"
      ]
    },
    {
      "cell_type": "code",
      "metadata": {
        "colab": {
          "base_uri": "https://localhost:8080/"
        },
        "id": "Irzx4FFF3_Hu",
        "outputId": "c7f428a7-9955-4955-c034-6df8da16d80c"
      },
      "source": [
        "acc_1.apr, acc_2.apr"
      ],
      "execution_count": 10,
      "outputs": [
        {
          "output_type": "execute_result",
          "data": {
            "text/plain": [
              "(2.5, 2.5)"
            ]
          },
          "metadata": {
            "tags": []
          },
          "execution_count": 10
        }
      ]
    },
    {
      "cell_type": "markdown",
      "metadata": {
        "id": "PyZpVrbp4Fqi"
      },
      "source": [
        "And if we add a class attribute to BankAccount:"
      ]
    },
    {
      "cell_type": "code",
      "metadata": {
        "id": "-RXn7wlY4B2h"
      },
      "source": [
        "BankAccount.account_type = 'Savings'"
      ],
      "execution_count": 11,
      "outputs": []
    },
    {
      "cell_type": "code",
      "metadata": {
        "colab": {
          "base_uri": "https://localhost:8080/"
        },
        "id": "C-ZPsT344S2N",
        "outputId": "b0a4db68-0b56-4272-9f0b-72d6e9e695f9"
      },
      "source": [
        "acc_1.account_type, acc_2.account_type"
      ],
      "execution_count": 12,
      "outputs": [
        {
          "output_type": "execute_result",
          "data": {
            "text/plain": [
              "('Savings', 'Savings')"
            ]
          },
          "metadata": {
            "tags": []
          },
          "execution_count": 12
        }
      ]
    },
    {
      "cell_type": "markdown",
      "metadata": {
        "id": "YsUD1X2c4uaq"
      },
      "source": [
        "As you can see modifying attributes in the **class** are reflected in the instances too, even though the instances have been created earlier than modifying the attributes to the class. - that's because Python does not find an apr attribute in the instance dictionary, so next it looks in the class that was used to create the instance.\n",
        "\n",
        "Which raises the question, what happens if we add apr to the **instance** dictionary?"
      ]
    },
    {
      "cell_type": "code",
      "metadata": {
        "id": "x9VewouF4Ynv"
      },
      "source": [
        "acc_1.apr = 0"
      ],
      "execution_count": 13,
      "outputs": []
    },
    {
      "cell_type": "markdown",
      "metadata": {
        "id": "E7xamvCl6x13"
      },
      "source": [
        "Well that did not raise an exception - so what's happening now:"
      ]
    },
    {
      "cell_type": "code",
      "metadata": {
        "colab": {
          "base_uri": "https://localhost:8080/"
        },
        "id": "CX6xzU7F6-w9",
        "outputId": "d1062937-9912-46c3-f2c9-9fb534072a70"
      },
      "source": [
        "acc_1.__dict__, acc_2.__dict__"
      ],
      "execution_count": 15,
      "outputs": [
        {
          "output_type": "execute_result",
          "data": {
            "text/plain": [
              "({'apr': 0}, {})"
            ]
          },
          "metadata": {
            "tags": []
          },
          "execution_count": 15
        }
      ]
    },
    {
      "cell_type": "markdown",
      "metadata": {
        "id": "NPDYV3Ul7JHb"
      },
      "source": [
        "As you can see, we actually create an entry for `apr` in the state dictionary of `acc_1`.\n",
        "\n",
        "Now that we have it there, it we try to get the attribute value apr for `acc_1`, Python will find it in the instance dictionary, so it will use that instead!"
      ]
    },
    {
      "cell_type": "code",
      "metadata": {
        "colab": {
          "base_uri": "https://localhost:8080/"
        },
        "id": "8fWNNXR86vT7",
        "outputId": "850b7e2f-5cc2-48df-c566-2de9a7c4b3b0"
      },
      "source": [
        "acc_1.apr, acc_2.apr"
      ],
      "execution_count": 14,
      "outputs": [
        {
          "output_type": "execute_result",
          "data": {
            "text/plain": [
              "(0, 2.5)"
            ]
          },
          "metadata": {
            "tags": []
          },
          "execution_count": 14
        }
      ]
    },
    {
      "cell_type": "markdown",
      "metadata": {
        "id": "EmlQx9ZE7lA9"
      },
      "source": [
        "In effect, the instance attribute `apr` is **hiding** the class attribute.\n",
        "\n",
        "You'll notice also that `acc_2` was not affected - this is because we did **not** modify `acc_2`'s dictionary, just the dictionary for `acc_1`.\n",
        "\n",
        "And the `getattr` and `setattr` functions work the same way as dotted notation:"
      ]
    },
    {
      "cell_type": "code",
      "metadata": {
        "colab": {
          "base_uri": "https://localhost:8080/"
        },
        "id": "EBt71OQ161d4",
        "outputId": "0efb9e12-77ba-4e91-d066-0a881b340d70"
      },
      "source": [
        "acc_1 = BankAccount()\n",
        "print(acc_1.__dict__)\n",
        "print(acc_1.apr)\n",
        "print(getattr(acc_1, 'apr'))"
      ],
      "execution_count": 16,
      "outputs": [
        {
          "output_type": "stream",
          "text": [
            "{}\n",
            "2.5\n",
            "2.5\n"
          ],
          "name": "stdout"
        }
      ]
    },
    {
      "cell_type": "code",
      "metadata": {
        "colab": {
          "base_uri": "https://localhost:8080/"
        },
        "id": "ttm0fc7T8a6t",
        "outputId": "2deff6d2-69a6-4757-fcee-8b61d8e62c29"
      },
      "source": [
        "setattr(acc_1, 'apr', 0)\n",
        "print(acc_1.__dict__)\n",
        "print(acc_1.apr)\n",
        "print(getattr(acc_1, 'apr'))"
      ],
      "execution_count": 17,
      "outputs": [
        {
          "output_type": "stream",
          "text": [
            "{'apr': 0}\n",
            "0\n",
            "0\n"
          ],
          "name": "stdout"
        }
      ]
    },
    {
      "cell_type": "markdown",
      "metadata": {
        "id": "2BPuvJqX8oXc"
      },
      "source": [
        "We can even add instance attributes directly to an instance:"
      ]
    },
    {
      "cell_type": "code",
      "metadata": {
        "id": "bzetlVlZ8iGg"
      },
      "source": [
        "acc_1.bank = 'Acme Savings & Loans'"
      ],
      "execution_count": 18,
      "outputs": []
    },
    {
      "cell_type": "code",
      "metadata": {
        "colab": {
          "base_uri": "https://localhost:8080/"
        },
        "id": "ZigGnEtl8vYr",
        "outputId": "57e79619-c532-4404-9e7c-2beacc1884c1"
      },
      "source": [
        "acc_1.__dict__"
      ],
      "execution_count": 19,
      "outputs": [
        {
          "output_type": "execute_result",
          "data": {
            "text/plain": [
              "{'apr': 0, 'bank': 'Acme Savings & Loans'}"
            ]
          },
          "metadata": {
            "tags": []
          },
          "execution_count": 19
        }
      ]
    },
    {
      "cell_type": "markdown",
      "metadata": {
        "id": "XGQPHVv99wvZ"
      },
      "source": [
        "\n",
        "But this is specific to the instance, and only that specific instance:"
      ]
    },
    {
      "cell_type": "code",
      "metadata": {
        "id": "q5SUsW0C87BN"
      },
      "source": [
        "acc_2 = BankAccount()"
      ],
      "execution_count": 20,
      "outputs": []
    },
    {
      "cell_type": "code",
      "metadata": {
        "colab": {
          "base_uri": "https://localhost:8080/"
        },
        "id": "OXIO7A0491X4",
        "outputId": "1b56e186-0518-4102-993c-c631e6ae642b"
      },
      "source": [
        "acc_2.__dict__"
      ],
      "execution_count": 21,
      "outputs": [
        {
          "output_type": "execute_result",
          "data": {
            "text/plain": [
              "{}"
            ]
          },
          "metadata": {
            "tags": []
          },
          "execution_count": 21
        }
      ]
    },
    {
      "cell_type": "markdown",
      "metadata": {
        "id": "1GkrAOzk-Fhv"
      },
      "source": [
        "As you can see `acc_2` has an empty instance dictionary.\n",
        "\n",
        "So it is really important to distingush between **class attributes** and **instance attributes**.\n",
        "\n",
        "**Class attributes** are like attributes that are \"common\" to all instances - because the attribute does not live in the instance, but in the class itself.\n",
        "\n",
        "On the other hand, **instance attributes** are specific to each instance, and values for the same attribute can be different across multiple instances, as we just saw with `acc_1.apr` and `acc_2.apr`.\n",
        "\n",
        "So, in summary, classes and instances each have their own state - usually maintained in a dictionary, available through `__dict__`. Irrespective of where the state is stored, when we look up an attribute on an instance, Python will first look for the attribute in the instance's local state. If it does not find it there, it will next look for it in the class of the instance.\n",
        "\n",
        "One other thing to note is the difference in type between class and instance `__dict__`.\n",
        "\n",
        "Classes as we saw, return a `mapping proxy` object:"
      ]
    },
    {
      "cell_type": "code",
      "metadata": {
        "colab": {
          "base_uri": "https://localhost:8080/"
        },
        "id": "DggVJS_Y93BK",
        "outputId": "e804b246-9310-4040-b042-4686b9c05e5f"
      },
      "source": [
        "BankAccount.__dict__"
      ],
      "execution_count": 22,
      "outputs": [
        {
          "output_type": "execute_result",
          "data": {
            "text/plain": [
              "mappingproxy({'__dict__': <attribute '__dict__' of 'BankAccount' objects>,\n",
              "              '__doc__': None,\n",
              "              '__module__': '__main__',\n",
              "              '__weakref__': <attribute '__weakref__' of 'BankAccount' objects>,\n",
              "              'account_type': 'Savings',\n",
              "              'apr': 2.5})"
            ]
          },
          "metadata": {
            "tags": []
          },
          "execution_count": 22
        }
      ]
    },
    {
      "cell_type": "code",
      "metadata": {
        "colab": {
          "base_uri": "https://localhost:8080/"
        },
        "id": "gB5bK0NN_W0j",
        "outputId": "ce6291ca-e2cd-4359-f65c-0027756619bc"
      },
      "source": [
        "type(BankAccount.__dict__)"
      ],
      "execution_count": 26,
      "outputs": [
        {
          "output_type": "execute_result",
          "data": {
            "text/plain": [
              "mappingproxy"
            ]
          },
          "metadata": {
            "tags": []
          },
          "execution_count": 26
        }
      ]
    },
    {
      "cell_type": "markdown",
      "metadata": {
        "id": "IRomvoJn_R55"
      },
      "source": [
        "But instances, return a real dictionary:"
      ]
    },
    {
      "cell_type": "code",
      "metadata": {
        "colab": {
          "base_uri": "https://localhost:8080/"
        },
        "id": "b7ytghYi_O21",
        "outputId": "09d6e99e-907e-4717-81a8-9dc0cd38746e"
      },
      "source": [
        "acc_1.__dict__"
      ],
      "execution_count": 24,
      "outputs": [
        {
          "output_type": "execute_result",
          "data": {
            "text/plain": [
              "{'apr': 0, 'bank': 'Acme Savings & Loans'}"
            ]
          },
          "metadata": {
            "tags": []
          },
          "execution_count": 24
        }
      ]
    },
    {
      "cell_type": "code",
      "metadata": {
        "colab": {
          "base_uri": "https://localhost:8080/"
        },
        "id": "xwRXNvjW_awd",
        "outputId": "c12221a4-e41a-42d7-a911-c768dc635d80"
      },
      "source": [
        "type(acc_1.__dict__)"
      ],
      "execution_count": 27,
      "outputs": [
        {
          "output_type": "execute_result",
          "data": {
            "text/plain": [
              "dict"
            ]
          },
          "metadata": {
            "tags": []
          },
          "execution_count": 27
        }
      ]
    },
    {
      "cell_type": "markdown",
      "metadata": {
        "id": "s1IL7gfB_tg8"
      },
      "source": [
        "So with instances, unlike with classes, we can manipulate that dictionary directly:"
      ]
    },
    {
      "cell_type": "code",
      "metadata": {
        "id": "Nl6ubUNN_cj6"
      },
      "source": [
        "class Program:\n",
        "  language = 'Python'"
      ],
      "execution_count": 28,
      "outputs": []
    },
    {
      "cell_type": "code",
      "metadata": {
        "colab": {
          "base_uri": "https://localhost:8080/"
        },
        "id": "QkKif88l_x9e",
        "outputId": "fea00a94-050e-4986-9368-6ee6d76dd890"
      },
      "source": [
        "p = Program()\n",
        "p.__dict__"
      ],
      "execution_count": 29,
      "outputs": [
        {
          "output_type": "execute_result",
          "data": {
            "text/plain": [
              "{}"
            ]
          },
          "metadata": {
            "tags": []
          },
          "execution_count": 29
        }
      ]
    },
    {
      "cell_type": "code",
      "metadata": {
        "colab": {
          "base_uri": "https://localhost:8080/"
        },
        "id": "iVThpEFfALQp",
        "outputId": "84a17ea7-30ad-4397-d848-43febe06707f"
      },
      "source": [
        "p.__dict__['version'] = '3.7'\n",
        "p.__dict__"
      ],
      "execution_count": 30,
      "outputs": [
        {
          "output_type": "execute_result",
          "data": {
            "text/plain": [
              "{'version': '3.7'}"
            ]
          },
          "metadata": {
            "tags": []
          },
          "execution_count": 30
        }
      ]
    },
    {
      "cell_type": "code",
      "metadata": {
        "colab": {
          "base_uri": "https://localhost:8080/"
        },
        "id": "G02r-co7ATcg",
        "outputId": "bcc94e3e-0626-4893-da51-bdad5a86b5b0"
      },
      "source": [
        "p.version, getattr(p, 'version')"
      ],
      "execution_count": 33,
      "outputs": [
        {
          "output_type": "execute_result",
          "data": {
            "text/plain": [
              "('3.7', '3.7')"
            ]
          },
          "metadata": {
            "tags": []
          },
          "execution_count": 33
        }
      ]
    },
    {
      "cell_type": "markdown",
      "metadata": {
        "id": "irUPlIE_AzTH"
      },
      "source": [
        "But once again, this only affects that specific **instance**."
      ]
    }
  ]
}