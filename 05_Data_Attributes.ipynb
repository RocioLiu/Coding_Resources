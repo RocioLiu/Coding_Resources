{
  "nbformat": 4,
  "nbformat_minor": 0,
  "metadata": {
    "colab": {
      "name": "05 - Data Attributes",
      "provenance": [],
      "collapsed_sections": [],
      "authorship_tag": "ABX9TyN7Zw3iRBI+KqtyD1RiCFAz",
      "include_colab_link": true
    },
    "kernelspec": {
      "name": "python3",
      "display_name": "Python 3"
    },
    "language_info": {
      "name": "python"
    }
  },
  "cells": [
    {
      "cell_type": "markdown",
      "metadata": {
        "id": "view-in-github",
        "colab_type": "text"
      },
      "source": [
        "<a href=\"https://colab.research.google.com/github/RocioLiu/Coding_Resources/blob/master/05_Data_Attributes.ipynb\" target=\"_parent\"><img src=\"https://colab.research.google.com/assets/colab-badge.svg\" alt=\"Open In Colab\"/></a>"
      ]
    },
    {
      "cell_type": "markdown",
      "metadata": {
        "id": "jpXz8HTl1u3m"
      },
      "source": [
        "## **Data Attributes**\n",
        "Let's focus on data attributes first (non-callables).\n",
        "\n",
        "As we saw before we can have class attributes - they live in the class dictionary:"
      ]
    },
    {
      "cell_type": "code",
      "metadata": {
        "id": "ZGiXlwOp1HfA"
      },
      "source": [
        "class BankAccount:\n",
        "  apr = 1.2"
      ],
      "execution_count": 1,
      "outputs": []
    },
    {
      "cell_type": "code",
      "metadata": {
        "colab": {
          "base_uri": "https://localhost:8080/"
        },
        "id": "pEHcbp_J1wQh",
        "outputId": "90349dfe-9cdd-4d8a-8905-73b6ec101485"
      },
      "source": [
        "BankAccount.__dict__"
      ],
      "execution_count": 2,
      "outputs": [
        {
          "output_type": "execute_result",
          "data": {
            "text/plain": [
              "mappingproxy({'__dict__': <attribute '__dict__' of 'BankAccount' objects>,\n",
              "              '__doc__': None,\n",
              "              '__module__': '__main__',\n",
              "              '__weakref__': <attribute '__weakref__' of 'BankAccount' objects>,\n",
              "              'apr': 1.2})"
            ]
          },
          "metadata": {
            "tags": []
          },
          "execution_count": 2
        }
      ]
    },
    {
      "cell_type": "code",
      "metadata": {
        "colab": {
          "base_uri": "https://localhost:8080/"
        },
        "id": "25YmPBnh3FUw",
        "outputId": "f68d95ec-a881-43a9-d4f1-d7460f9d1362"
      },
      "source": [
        "BankAccount.apr"
      ],
      "execution_count": 3,
      "outputs": [
        {
          "output_type": "execute_result",
          "data": {
            "text/plain": [
              "1.2"
            ]
          },
          "metadata": {
            "tags": []
          },
          "execution_count": 3
        }
      ]
    },
    {
      "cell_type": "markdown",
      "metadata": {
        "id": "Wf91XFLT3fuz"
      },
      "source": [
        "Now when we create instances of that class:"
      ]
    },
    {
      "cell_type": "code",
      "metadata": {
        "id": "CQ-Pz_J13ICY"
      },
      "source": [
        "acc_1 = BankAccount()\n",
        "acc_2 = BankAccount()"
      ],
      "execution_count": 4,
      "outputs": []
    },
    {
      "cell_type": "code",
      "metadata": {
        "colab": {
          "base_uri": "https://localhost:8080/"
        },
        "id": "LEf033753LQc",
        "outputId": "5e7d6bb6-f78a-4850-e8fa-989e0d73b94a"
      },
      "source": [
        "acc_1 is acc_2"
      ],
      "execution_count": 5,
      "outputs": [
        {
          "output_type": "execute_result",
          "data": {
            "text/plain": [
              "False"
            ]
          },
          "metadata": {
            "tags": []
          },
          "execution_count": 5
        }
      ]
    },
    {
      "cell_type": "markdown",
      "metadata": {
        "id": "FZXEgk1h3jXp"
      },
      "source": [
        "The instance dictionaries are currently empty:"
      ]
    },
    {
      "cell_type": "code",
      "metadata": {
        "colab": {
          "base_uri": "https://localhost:8080/"
        },
        "id": "EcD2YDeK3Ouh",
        "outputId": "cef3dc9c-5ec2-45dc-9b84-f2c65e3857a0"
      },
      "source": [
        "acc_1.__dict__, acc_2.__dict__"
      ],
      "execution_count": 6,
      "outputs": [
        {
          "output_type": "execute_result",
          "data": {
            "text/plain": [
              "({}, {})"
            ]
          },
          "metadata": {
            "tags": []
          },
          "execution_count": 6
        }
      ]
    },
    {
      "cell_type": "markdown",
      "metadata": {
        "id": "ezdmrebE3m2O"
      },
      "source": [
        "Yet, these instances do have an apr attribute:"
      ]
    },
    {
      "cell_type": "code",
      "metadata": {
        "colab": {
          "base_uri": "https://localhost:8080/"
        },
        "id": "JMULXNf_3Um4",
        "outputId": "f8767f12-f1b0-4d54-94a6-e56f6bd557c8"
      },
      "source": [
        "acc_1.apr, acc_2.apr"
      ],
      "execution_count": 7,
      "outputs": [
        {
          "output_type": "execute_result",
          "data": {
            "text/plain": [
              "(1.2, 1.2)"
            ]
          },
          "metadata": {
            "tags": []
          },
          "execution_count": 7
        }
      ]
    },
    {
      "cell_type": "markdown",
      "metadata": {
        "id": "KJ33Qx3o3rgi"
      },
      "source": [
        "Where is that value coming from? The class the objects were created from!\n",
        "\n",
        "In fact, if we modify the class attribute:"
      ]
    },
    {
      "cell_type": "code",
      "metadata": {
        "id": "QYPWKjsP3c4w"
      },
      "source": [
        "BankAccount.apr = 2.5"
      ],
      "execution_count": 8,
      "outputs": []
    },
    {
      "cell_type": "markdown",
      "metadata": {
        "id": "XUKLXg1C3_uT"
      },
      "source": [
        "We'll see this reflected in the instances as well:"
      ]
    },
    {
      "cell_type": "code",
      "metadata": {
        "colab": {
          "base_uri": "https://localhost:8080/"
        },
        "id": "Irzx4FFF3_Hu",
        "outputId": "c7f428a7-9955-4955-c034-6df8da16d80c"
      },
      "source": [
        "acc_1.apr, acc_2.apr"
      ],
      "execution_count": 10,
      "outputs": [
        {
          "output_type": "execute_result",
          "data": {
            "text/plain": [
              "(2.5, 2.5)"
            ]
          },
          "metadata": {
            "tags": []
          },
          "execution_count": 10
        }
      ]
    },
    {
      "cell_type": "markdown",
      "metadata": {
        "id": "PyZpVrbp4Fqi"
      },
      "source": [
        "And if we add a class attribute to BankAccount:"
      ]
    },
    {
      "cell_type": "code",
      "metadata": {
        "id": "-RXn7wlY4B2h"
      },
      "source": [
        "BankAccount.account_type = 'Savings'"
      ],
      "execution_count": 11,
      "outputs": []
    },
    {
      "cell_type": "code",
      "metadata": {
        "colab": {
          "base_uri": "https://localhost:8080/"
        },
        "id": "C-ZPsT344S2N",
        "outputId": "b0a4db68-0b56-4272-9f0b-72d6e9e695f9"
      },
      "source": [
        "acc_1.account_type, acc_2.account_type"
      ],
      "execution_count": 12,
      "outputs": [
        {
          "output_type": "execute_result",
          "data": {
            "text/plain": [
              "('Savings', 'Savings')"
            ]
          },
          "metadata": {
            "tags": []
          },
          "execution_count": 12
        }
      ]
    },
    {
      "cell_type": "code",
      "metadata": {
        "id": "x9VewouF4Ynv"
      },
      "source": [
        ""
      ],
      "execution_count": null,
      "outputs": []
    }
  ]
}