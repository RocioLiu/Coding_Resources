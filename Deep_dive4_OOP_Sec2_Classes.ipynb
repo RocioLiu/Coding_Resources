{
  "nbformat": 4,
  "nbformat_minor": 0,
  "metadata": {
    "colab": {
      "name": "Deep_dive4 - OOP_Sec2-Classes.ipynb",
      "provenance": [],
      "collapsed_sections": [
        "4FyAT_Hh_oFC"
      ],
      "authorship_tag": "ABX9TyNOrX4BFceZRn6++djavYz0",
      "include_colab_link": true
    },
    "kernelspec": {
      "name": "python3",
      "display_name": "Python 3"
    }
  },
  "cells": [
    {
      "cell_type": "markdown",
      "metadata": {
        "id": "view-in-github",
        "colab_type": "text"
      },
      "source": [
        "<a href=\"https://colab.research.google.com/github/RocioLiu/Coding_Resources/blob/master/Deep_dive4_OOP_Sec2_Classes.ipynb\" target=\"_parent\"><img src=\"https://colab.research.google.com/assets/colab-badge.svg\" alt=\"Open In Colab\"/></a>"
      ]
    },
    {
      "cell_type": "code",
      "metadata": {
        "id": "nMLHnwoX_dbm",
        "colab_type": "code",
        "colab": {}
      },
      "source": [
        ""
      ],
      "execution_count": 0,
      "outputs": []
    },
    {
      "cell_type": "markdown",
      "metadata": {
        "id": "4FyAT_Hh_oFC",
        "colab_type": "text"
      },
      "source": [
        "### 02 - **Class Attributes**\n",
        "As we saw, when we create a class Python automatically builds-in properties and behaviors into our class object, like making it callable, and properties like `__name__`."
      ]
    },
    {
      "cell_type": "code",
      "metadata": {
        "id": "dbmEXrPX_suM",
        "colab_type": "code",
        "colab": {}
      },
      "source": [
        "class Person:\n",
        "  pass"
      ],
      "execution_count": 0,
      "outputs": []
    },
    {
      "cell_type": "code",
      "metadata": {
        "id": "BQLy_CHr_z99",
        "colab_type": "code",
        "outputId": "765d9e8c-fb0c-4b71-e4d3-f280d9fd449f",
        "colab": {
          "base_uri": "https://localhost:8080/",
          "height": 35
        }
      },
      "source": [
        "Person.__name__"
      ],
      "execution_count": 0,
      "outputs": [
        {
          "output_type": "execute_result",
          "data": {
            "text/plain": [
              "'Person'"
            ]
          },
          "metadata": {
            "tags": []
          },
          "execution_count": 4
        }
      ]
    },
    {
      "cell_type": "markdown",
      "metadata": {
        "id": "grmhQ_r5E2J8",
        "colab_type": "text"
      },
      "source": [
        "`__name__` is a **class attribute**. We can add our own class attributes easily this way:"
      ]
    },
    {
      "cell_type": "code",
      "metadata": {
        "id": "7KJPPdr6_37u",
        "colab_type": "code",
        "colab": {}
      },
      "source": [
        "class Program:\n",
        "  language = \"Python\"\n",
        "  version = \"3.6\""
      ],
      "execution_count": 0,
      "outputs": []
    },
    {
      "cell_type": "code",
      "metadata": {
        "id": "1pdWQEZGABkR",
        "colab_type": "code",
        "outputId": "5cbb5b6a-7ea5-459a-a5c0-2783495f91c5",
        "colab": {
          "base_uri": "https://localhost:8080/",
          "height": 35
        }
      },
      "source": [
        "Program.__name__"
      ],
      "execution_count": 0,
      "outputs": [
        {
          "output_type": "execute_result",
          "data": {
            "text/plain": [
              "'Program'"
            ]
          },
          "metadata": {
            "tags": []
          },
          "execution_count": 7
        }
      ]
    },
    {
      "cell_type": "code",
      "metadata": {
        "id": "rPKreUUnAF--",
        "colab_type": "code",
        "outputId": "858f2dbc-8dc8-4d51-d12c-5d3a2ba1f93b",
        "colab": {
          "base_uri": "https://localhost:8080/",
          "height": 35
        }
      },
      "source": [
        "type(Program)"
      ],
      "execution_count": 0,
      "outputs": [
        {
          "output_type": "execute_result",
          "data": {
            "text/plain": [
              "type"
            ]
          },
          "metadata": {
            "tags": []
          },
          "execution_count": 8
        }
      ]
    },
    {
      "cell_type": "code",
      "metadata": {
        "id": "vKyGG8AmAH93",
        "colab_type": "code",
        "outputId": "2177a8d6-f470-42c2-ca0f-853d29b0da2c",
        "colab": {
          "base_uri": "https://localhost:8080/",
          "height": 35
        }
      },
      "source": [
        "Program.language"
      ],
      "execution_count": 0,
      "outputs": [
        {
          "output_type": "execute_result",
          "data": {
            "text/plain": [
              "'Python'"
            ]
          },
          "metadata": {
            "tags": []
          },
          "execution_count": 9
        }
      ]
    },
    {
      "cell_type": "code",
      "metadata": {
        "id": "fJawXsqeAKf8",
        "colab_type": "code",
        "outputId": "da59e1ca-26cf-49f0-bcb2-99f57744faca",
        "colab": {
          "base_uri": "https://localhost:8080/",
          "height": 35
        }
      },
      "source": [
        "Program.version"
      ],
      "execution_count": 0,
      "outputs": [
        {
          "output_type": "execute_result",
          "data": {
            "text/plain": [
              "'3.6'"
            ]
          },
          "metadata": {
            "tags": []
          },
          "execution_count": 10
        }
      ]
    },
    {
      "cell_type": "markdown",
      "metadata": {
        "id": "ieANWfVRE9MT",
        "colab_type": "text"
      },
      "source": [
        "Here we used \"dotted notation\" to access the class attributes. In fact we can also use dotted notation to set the class attribute:"
      ]
    },
    {
      "cell_type": "code",
      "metadata": {
        "id": "3iGd26ksAQXt",
        "colab_type": "code",
        "colab": {}
      },
      "source": [
        "Program.version = '3.7'"
      ],
      "execution_count": 0,
      "outputs": []
    },
    {
      "cell_type": "code",
      "metadata": {
        "id": "DizhxUqVASzg",
        "colab_type": "code",
        "outputId": "5d37b9a3-f602-4d4e-a15b-996520110c1f",
        "colab": {
          "base_uri": "https://localhost:8080/",
          "height": 35
        }
      },
      "source": [
        "Program.version"
      ],
      "execution_count": 0,
      "outputs": [
        {
          "output_type": "execute_result",
          "data": {
            "text/plain": [
              "'3.7'"
            ]
          },
          "metadata": {
            "tags": []
          },
          "execution_count": 12
        }
      ]
    },
    {
      "cell_type": "markdown",
      "metadata": {
        "id": "yZ48WTkoFELk",
        "colab_type": "text"
      },
      "source": [
        "But we can also use the functions getattr and setattr to read and write these attributes:"
      ]
    },
    {
      "cell_type": "code",
      "metadata": {
        "id": "F5EqDrUyAUjw",
        "colab_type": "code",
        "outputId": "23e97195-6825-4764-f95a-96d2ef40cf29",
        "colab": {
          "base_uri": "https://localhost:8080/",
          "height": 35
        }
      },
      "source": [
        "getattr(Program, 'version')"
      ],
      "execution_count": 0,
      "outputs": [
        {
          "output_type": "execute_result",
          "data": {
            "text/plain": [
              "'3.7'"
            ]
          },
          "metadata": {
            "tags": []
          },
          "execution_count": 13
        }
      ]
    },
    {
      "cell_type": "code",
      "metadata": {
        "id": "krMBNuPSAjRa",
        "colab_type": "code",
        "colab": {}
      },
      "source": [
        "setattr(Program, 'version', '3.6')"
      ],
      "execution_count": 0,
      "outputs": []
    },
    {
      "cell_type": "code",
      "metadata": {
        "id": "ApxhjjsdAnSM",
        "colab_type": "code",
        "outputId": "bd6d75c9-a433-48bf-bebe-03addadfbc70",
        "colab": {
          "base_uri": "https://localhost:8080/",
          "height": 35
        }
      },
      "source": [
        "getattr(Program, 'version')"
      ],
      "execution_count": 0,
      "outputs": [
        {
          "output_type": "execute_result",
          "data": {
            "text/plain": [
              "'3.6'"
            ]
          },
          "metadata": {
            "tags": []
          },
          "execution_count": 19
        }
      ]
    },
    {
      "cell_type": "code",
      "metadata": {
        "id": "WBOQaGLXAr2J",
        "colab_type": "code",
        "outputId": "a5a717a4-c4d0-4fc2-9242-6bc463aa8370",
        "colab": {
          "base_uri": "https://localhost:8080/",
          "height": 165
        }
      },
      "source": [
        "getattr(Program, 'x')"
      ],
      "execution_count": 0,
      "outputs": [
        {
          "output_type": "error",
          "ename": "AttributeError",
          "evalue": "ignored",
          "traceback": [
            "\u001b[0;31m---------------------------------------------------------------------------\u001b[0m",
            "\u001b[0;31mAttributeError\u001b[0m                            Traceback (most recent call last)",
            "\u001b[0;32m<ipython-input-20-dd89f6543271>\u001b[0m in \u001b[0;36m<module>\u001b[0;34m()\u001b[0m\n\u001b[0;32m----> 1\u001b[0;31m \u001b[0mgetattr\u001b[0m\u001b[0;34m(\u001b[0m\u001b[0mProgram\u001b[0m\u001b[0;34m,\u001b[0m \u001b[0;34m'x'\u001b[0m\u001b[0;34m)\u001b[0m\u001b[0;34m\u001b[0m\u001b[0;34m\u001b[0m\u001b[0m\n\u001b[0m",
            "\u001b[0;31mAttributeError\u001b[0m: type object 'Program' has no attribute 'x'"
          ]
        }
      ]
    },
    {
      "cell_type": "code",
      "metadata": {
        "id": "E7xAhSjRA6Qb",
        "colab_type": "code",
        "outputId": "5ef89857-2777-481c-9fb5-dc199e1c0dc6",
        "colab": {
          "base_uri": "https://localhost:8080/",
          "height": 35
        }
      },
      "source": [
        "getattr(Program, 'x', 'N/A')"
      ],
      "execution_count": 0,
      "outputs": [
        {
          "output_type": "execute_result",
          "data": {
            "text/plain": [
              "'N/A'"
            ]
          },
          "metadata": {
            "tags": []
          },
          "execution_count": 21
        }
      ]
    },
    {
      "cell_type": "code",
      "metadata": {
        "id": "xO1JqIscBBof",
        "colab_type": "code",
        "outputId": "d86867be-8237-46fe-b7fd-2f98b6e91e80",
        "colab": {
          "base_uri": "https://localhost:8080/",
          "height": 35
        }
      },
      "source": [
        "getattr('hello', 'x', 'n/a')"
      ],
      "execution_count": 0,
      "outputs": [
        {
          "output_type": "execute_result",
          "data": {
            "text/plain": [
              "'n/a'"
            ]
          },
          "metadata": {
            "tags": []
          },
          "execution_count": 24
        }
      ]
    },
    {
      "cell_type": "markdown",
      "metadata": {
        "id": "mRJwd_n6CmhF",
        "colab_type": "text"
      },
      "source": [
        "Python is a dynamic language, and we can create attributes at run-time, outside of the class definition itself:"
      ]
    },
    {
      "cell_type": "code",
      "metadata": {
        "id": "jTIhuQArBG_1",
        "colab_type": "code",
        "colab": {}
      },
      "source": [
        "Program.x = 100"
      ],
      "execution_count": 0,
      "outputs": []
    },
    {
      "cell_type": "markdown",
      "metadata": {
        "id": "UChyGZH9Csww",
        "colab_type": "text"
      },
      "source": [
        "Using dotted notation we added an attribute x to the Person class:"
      ]
    },
    {
      "cell_type": "code",
      "metadata": {
        "id": "yDxPY54QBZuD",
        "colab_type": "code",
        "outputId": "de9b203a-c861-4d63-b832-8260ab51452f",
        "colab": {
          "base_uri": "https://localhost:8080/",
          "height": 35
        }
      },
      "source": [
        "Program.x, getattr(Program, 'x')"
      ],
      "execution_count": 0,
      "outputs": [
        {
          "output_type": "execute_result",
          "data": {
            "text/plain": [
              "(100, 100)"
            ]
          },
          "metadata": {
            "tags": []
          },
          "execution_count": 26
        }
      ]
    },
    {
      "cell_type": "code",
      "metadata": {
        "id": "hDHkkoweBh7M",
        "colab_type": "code",
        "colab": {}
      },
      "source": [
        "a = 'hello'"
      ],
      "execution_count": 0,
      "outputs": []
    },
    {
      "cell_type": "code",
      "metadata": {
        "id": "SFOlG8zdBtNa",
        "colab_type": "code",
        "outputId": "397f1308-2c5c-4914-b77b-4f6eb535f804",
        "colab": {
          "base_uri": "https://localhost:8080/",
          "height": 165
        }
      },
      "source": [
        "a.x = 100"
      ],
      "execution_count": 0,
      "outputs": [
        {
          "output_type": "error",
          "ename": "AttributeError",
          "evalue": "ignored",
          "traceback": [
            "\u001b[0;31m---------------------------------------------------------------------------\u001b[0m",
            "\u001b[0;31mAttributeError\u001b[0m                            Traceback (most recent call last)",
            "\u001b[0;32m<ipython-input-28-729e252f17c9>\u001b[0m in \u001b[0;36m<module>\u001b[0;34m()\u001b[0m\n\u001b[0;32m----> 1\u001b[0;31m \u001b[0ma\u001b[0m\u001b[0;34m.\u001b[0m\u001b[0mx\u001b[0m \u001b[0;34m=\u001b[0m \u001b[0;36m100\u001b[0m\u001b[0;34m\u001b[0m\u001b[0;34m\u001b[0m\u001b[0m\n\u001b[0m",
            "\u001b[0;31mAttributeError\u001b[0m: 'str' object has no attribute 'x'"
          ]
        }
      ]
    },
    {
      "cell_type": "code",
      "metadata": {
        "id": "rwWn7AVrBvWd",
        "colab_type": "code",
        "outputId": "c27711a7-de4e-4cb3-a596-e7f233631d30",
        "colab": {
          "base_uri": "https://localhost:8080/",
          "height": 165
        }
      },
      "source": [
        "str.x = 100"
      ],
      "execution_count": 0,
      "outputs": [
        {
          "output_type": "error",
          "ename": "TypeError",
          "evalue": "ignored",
          "traceback": [
            "\u001b[0;31m---------------------------------------------------------------------------\u001b[0m",
            "\u001b[0;31mTypeError\u001b[0m                                 Traceback (most recent call last)",
            "\u001b[0;32m<ipython-input-29-82d2a0aacd2e>\u001b[0m in \u001b[0;36m<module>\u001b[0;34m()\u001b[0m\n\u001b[0;32m----> 1\u001b[0;31m \u001b[0mstr\u001b[0m\u001b[0;34m.\u001b[0m\u001b[0mx\u001b[0m \u001b[0;34m=\u001b[0m \u001b[0;36m100\u001b[0m\u001b[0;34m\u001b[0m\u001b[0;34m\u001b[0m\u001b[0m\n\u001b[0m",
            "\u001b[0;31mTypeError\u001b[0m: can't set attributes of built-in/extension type 'str'"
          ]
        }
      ]
    },
    {
      "cell_type": "code",
      "metadata": {
        "id": "ruzY2881BxOb",
        "colab_type": "code",
        "outputId": "e137a2f8-c110-488a-cc48-46c62c67a1fe",
        "colab": {
          "base_uri": "https://localhost:8080/",
          "height": 138
        }
      },
      "source": [
        "Program.__dict__"
      ],
      "execution_count": 0,
      "outputs": [
        {
          "output_type": "execute_result",
          "data": {
            "text/plain": [
              "mappingproxy({'__dict__': <attribute '__dict__' of 'Program' objects>,\n",
              "              '__doc__': None,\n",
              "              '__module__': '__main__',\n",
              "              '__weakref__': <attribute '__weakref__' of 'Program' objects>,\n",
              "              'language': 'Python',\n",
              "              'version': '3.6',\n",
              "              'x': 100})"
            ]
          },
          "metadata": {
            "tags": []
          },
          "execution_count": 30
        }
      ]
    },
    {
      "cell_type": "markdown",
      "metadata": {
        "id": "ALwRnm83C0gr",
        "colab_type": "text"
      },
      "source": [
        "As you can see that dictionary contains our attributes: `language`, `version`, `x`, `y` with their corresponding current values.\n",
        "\n",
        "Notice also that `Program.__dict__` does not return a dictionary, but a mappingproxy object - this is essentially a read-only dictionary that we cannot modify directly (but we can modify it by using `setattr`, or dotted notation).  \n",
        "\n",
        "For example, if we change the value of an attribute:"
      ]
    },
    {
      "cell_type": "code",
      "metadata": {
        "id": "XMocCcIrB_CO",
        "colab_type": "code",
        "colab": {}
      },
      "source": [
        "setattr(Program, 'x', -100)"
      ],
      "execution_count": 0,
      "outputs": []
    },
    {
      "cell_type": "markdown",
      "metadata": {
        "id": "fpZtHrp6DGhQ",
        "colab_type": "text"
      },
      "source": [
        "We'll see this reflected in the underlying dictionary:"
      ]
    },
    {
      "cell_type": "code",
      "metadata": {
        "id": "GJrdBWBvCSTG",
        "colab_type": "code",
        "outputId": "8a9f4272-3304-4ba9-a7ab-bde5b33d921d",
        "colab": {
          "base_uri": "https://localhost:8080/",
          "height": 138
        }
      },
      "source": [
        "Program.__dict__"
      ],
      "execution_count": 0,
      "outputs": [
        {
          "output_type": "execute_result",
          "data": {
            "text/plain": [
              "mappingproxy({'__dict__': <attribute '__dict__' of 'Program' objects>,\n",
              "              '__doc__': None,\n",
              "              '__module__': '__main__',\n",
              "              '__weakref__': <attribute '__weakref__' of 'Program' objects>,\n",
              "              'language': 'Python',\n",
              "              'version': '3.6',\n",
              "              'x': -100})"
            ]
          },
          "metadata": {
            "tags": []
          },
          "execution_count": 32
        }
      ]
    },
    {
      "cell_type": "markdown",
      "metadata": {
        "id": "JzPFeVK_DHEM",
        "colab_type": "text"
      },
      "source": [
        "**Deleting Attributes**  \n",
        "So, we can create and mutate class attributes at run-time. Can we delete attributes too?  \n",
        "\n",
        "The answer of course is yes. We can either use the del keyword, or the delattr function:"
      ]
    },
    {
      "cell_type": "code",
      "metadata": {
        "id": "CfMJgSw0CVSS",
        "colab_type": "code",
        "colab": {}
      },
      "source": [
        "delattr(Program, 'x')"
      ],
      "execution_count": 0,
      "outputs": []
    },
    {
      "cell_type": "code",
      "metadata": {
        "id": "7yjts7smDUpJ",
        "colab_type": "code",
        "outputId": "21159c44-8183-4faf-eeb8-2009e8612d0a",
        "colab": {
          "base_uri": "https://localhost:8080/",
          "height": 121
        }
      },
      "source": [
        "Program.__dict__"
      ],
      "execution_count": 0,
      "outputs": [
        {
          "output_type": "execute_result",
          "data": {
            "text/plain": [
              "mappingproxy({'__dict__': <attribute '__dict__' of 'Program' objects>,\n",
              "              '__doc__': None,\n",
              "              '__module__': '__main__',\n",
              "              '__weakref__': <attribute '__weakref__' of 'Program' objects>,\n",
              "              'language': 'Python',\n",
              "              'version': '3.6'})"
            ]
          },
          "metadata": {
            "tags": []
          },
          "execution_count": 34
        }
      ]
    },
    {
      "cell_type": "code",
      "metadata": {
        "id": "x1VYjx3wDXWV",
        "colab_type": "code",
        "colab": {}
      },
      "source": [
        "Program.y = 'hello'"
      ],
      "execution_count": 0,
      "outputs": []
    },
    {
      "cell_type": "code",
      "metadata": {
        "id": "rPhR6WT2DZw5",
        "colab_type": "code",
        "outputId": "44363a78-3abd-4831-c34d-30f6971bea4d",
        "colab": {
          "base_uri": "https://localhost:8080/",
          "height": 138
        }
      },
      "source": [
        "Program.__dict__"
      ],
      "execution_count": 0,
      "outputs": [
        {
          "output_type": "execute_result",
          "data": {
            "text/plain": [
              "mappingproxy({'__dict__': <attribute '__dict__' of 'Program' objects>,\n",
              "              '__doc__': None,\n",
              "              '__module__': '__main__',\n",
              "              '__weakref__': <attribute '__weakref__' of 'Program' objects>,\n",
              "              'language': 'Python',\n",
              "              'version': '3.6',\n",
              "              'y': 'hello'})"
            ]
          },
          "metadata": {
            "tags": []
          },
          "execution_count": 36
        }
      ]
    },
    {
      "cell_type": "code",
      "metadata": {
        "id": "qXCFLPfUDa72",
        "colab_type": "code",
        "colab": {}
      },
      "source": [
        "del Program.y"
      ],
      "execution_count": 0,
      "outputs": []
    },
    {
      "cell_type": "markdown",
      "metadata": {
        "id": "Tf2MJjDpD7S0",
        "colab_type": "text"
      },
      "source": [
        "**Direct Namespace Access**"
      ]
    },
    {
      "cell_type": "code",
      "metadata": {
        "id": "GUmm8i1RDdsQ",
        "colab_type": "code",
        "outputId": "e91b6a35-7987-4eaf-92b5-0ea47baadcbe",
        "colab": {
          "base_uri": "https://localhost:8080/",
          "height": 121
        }
      },
      "source": [
        "Program.__dict__"
      ],
      "execution_count": 0,
      "outputs": [
        {
          "output_type": "execute_result",
          "data": {
            "text/plain": [
              "mappingproxy({'__dict__': <attribute '__dict__' of 'Program' objects>,\n",
              "              '__doc__': None,\n",
              "              '__module__': '__main__',\n",
              "              '__weakref__': <attribute '__weakref__' of 'Program' objects>,\n",
              "              'language': 'Python',\n",
              "              'version': '3.6'})"
            ]
          },
          "metadata": {
            "tags": []
          },
          "execution_count": 38
        }
      ]
    },
    {
      "cell_type": "markdown",
      "metadata": {
        "id": "DP9XkGSiECv6",
        "colab_type": "text"
      },
      "source": [
        "Although __dict__ returns a mappingproxy object, it still is a hash map and essentially behaves like a read-only dictionary:"
      ]
    },
    {
      "cell_type": "code",
      "metadata": {
        "id": "9IED7BG_Df2k",
        "colab_type": "code",
        "outputId": "67d56c81-e768-47f6-cd1b-5bebbd4b24b8",
        "colab": {
          "base_uri": "https://localhost:8080/",
          "height": 35
        }
      },
      "source": [
        "Program.__dict__['language']"
      ],
      "execution_count": 0,
      "outputs": [
        {
          "output_type": "execute_result",
          "data": {
            "text/plain": [
              "'Python'"
            ]
          },
          "metadata": {
            "tags": []
          },
          "execution_count": 40
        }
      ]
    },
    {
      "cell_type": "code",
      "metadata": {
        "id": "0sD3y95IDnQf",
        "colab_type": "code",
        "outputId": "73cc1a3f-260b-401d-d9c8-4201dff0bb51",
        "colab": {
          "base_uri": "https://localhost:8080/",
          "height": 121
        }
      },
      "source": [
        "list(Program.__dict__.items())"
      ],
      "execution_count": 0,
      "outputs": [
        {
          "output_type": "execute_result",
          "data": {
            "text/plain": [
              "[('__module__', '__main__'),\n",
              " ('language', 'Python'),\n",
              " ('version', '3.6'),\n",
              " ('__dict__', <attribute '__dict__' of 'Program' objects>),\n",
              " ('__weakref__', <attribute '__weakref__' of 'Program' objects>),\n",
              " ('__doc__', None)]"
            ]
          },
          "metadata": {
            "tags": []
          },
          "execution_count": 42
        }
      ]
    },
    {
      "cell_type": "code",
      "metadata": {
        "id": "qM_-FTT3ERYi",
        "colab_type": "code",
        "outputId": "8b956b2a-cf84-4910-c826-993353fe4b3e",
        "colab": {
          "base_uri": "https://localhost:8080/",
          "height": 165
        }
      },
      "source": [
        "Program.__dict__['language'] = 'Java'"
      ],
      "execution_count": 0,
      "outputs": [
        {
          "output_type": "error",
          "ename": "TypeError",
          "evalue": "ignored",
          "traceback": [
            "\u001b[0;31m---------------------------------------------------------------------------\u001b[0m",
            "\u001b[0;31mTypeError\u001b[0m                                 Traceback (most recent call last)",
            "\u001b[0;32m<ipython-input-43-978f24d0b828>\u001b[0m in \u001b[0;36m<module>\u001b[0;34m()\u001b[0m\n\u001b[0;32m----> 1\u001b[0;31m \u001b[0mProgram\u001b[0m\u001b[0;34m.\u001b[0m\u001b[0m__dict__\u001b[0m\u001b[0;34m[\u001b[0m\u001b[0;34m'language'\u001b[0m\u001b[0;34m]\u001b[0m \u001b[0;34m=\u001b[0m \u001b[0;34m'Java'\u001b[0m\u001b[0;34m\u001b[0m\u001b[0;34m\u001b[0m\u001b[0m\n\u001b[0m",
            "\u001b[0;31mTypeError\u001b[0m: 'mappingproxy' object does not support item assignment"
          ]
        }
      ]
    },
    {
      "cell_type": "markdown",
      "metadata": {
        "id": "BoZ57672EIAO",
        "colab_type": "text"
      },
      "source": [
        "One word of caution: not every attribute that a class has lives in that dictionary (we'll come back to this later).\n",
        "\n",
        "For example, you'll notice that the `__name__` attribute is not there:"
      ]
    },
    {
      "cell_type": "code",
      "metadata": {
        "id": "6duXbDtVDtGz",
        "colab_type": "code",
        "outputId": "bf4d56ad-6587-40e9-ca35-dbb4534abbbb",
        "colab": {
          "base_uri": "https://localhost:8080/",
          "height": 35
        }
      },
      "source": [
        "Program.__name__"
      ],
      "execution_count": 0,
      "outputs": [
        {
          "output_type": "execute_result",
          "data": {
            "text/plain": [
              "'Program'"
            ]
          },
          "metadata": {
            "tags": []
          },
          "execution_count": 44
        }
      ]
    },
    {
      "cell_type": "code",
      "metadata": {
        "id": "r-VKP0N_Egst",
        "colab_type": "code",
        "outputId": "7cb6f87a-4e38-42c8-ec19-b2b88b6c266b",
        "colab": {
          "base_uri": "https://localhost:8080/",
          "height": 35
        }
      },
      "source": [
        "__name__ in Program.__dict__"
      ],
      "execution_count": 0,
      "outputs": [
        {
          "output_type": "execute_result",
          "data": {
            "text/plain": [
              "False"
            ]
          },
          "metadata": {
            "tags": []
          },
          "execution_count": 45
        }
      ]
    },
    {
      "cell_type": "code",
      "metadata": {
        "id": "FaCoIIFAF8VP",
        "colab_type": "code",
        "colab": {}
      },
      "source": [
        ""
      ],
      "execution_count": 0,
      "outputs": []
    },
    {
      "cell_type": "markdown",
      "metadata": {
        "id": "BiWEoHzJF9cY",
        "colab_type": "text"
      },
      "source": [
        "---"
      ]
    },
    {
      "cell_type": "markdown",
      "metadata": {
        "id": "mvlSeZLJF_-b",
        "colab_type": "text"
      },
      "source": [
        "### 03 - **Callable Class Attributes**\n",
        "Class attributes can be any object type, including callables such as functions:"
      ]
    },
    {
      "cell_type": "code",
      "metadata": {
        "id": "wT-0e3MmF94H",
        "colab_type": "code",
        "colab": {}
      },
      "source": [
        "class Program:\n",
        "    language = 'Python'\n",
        "    \n",
        "    def say_hello():\n",
        "        print(f'Hello from {Program.language}!')"
      ],
      "execution_count": 0,
      "outputs": []
    },
    {
      "cell_type": "code",
      "metadata": {
        "id": "nY9KtuapG4k7",
        "colab_type": "code",
        "outputId": "3197cdb7-f56c-4a36-b41f-ed6d00a201f9",
        "colab": {
          "base_uri": "https://localhost:8080/",
          "height": 121
        }
      },
      "source": [
        "Program.__dict__"
      ],
      "execution_count": 0,
      "outputs": [
        {
          "output_type": "execute_result",
          "data": {
            "text/plain": [
              "mappingproxy({'__dict__': <attribute '__dict__' of 'Program' objects>,\n",
              "              '__doc__': None,\n",
              "              '__module__': '__main__',\n",
              "              '__weakref__': <attribute '__weakref__' of 'Program' objects>,\n",
              "              'language': 'Python',\n",
              "              'say_hello': <function __main__.Program.say_hello>})"
            ]
          },
          "metadata": {
            "tags": []
          },
          "execution_count": 47
        }
      ]
    },
    {
      "cell_type": "markdown",
      "metadata": {
        "id": "3n4cY7iCHyf4",
        "colab_type": "text"
      },
      "source": [
        "As we can see, the `say_hello` symbol is in the class dictionary.\n",
        "\n",
        "We can also retrieve it using either `getattr` or dotted notation:"
      ]
    },
    {
      "cell_type": "code",
      "metadata": {
        "id": "Vnpv0Ik6G_nJ",
        "colab_type": "code",
        "outputId": "949323f9-fc07-4181-91bc-b9c1ad4ba0e5",
        "colab": {
          "base_uri": "https://localhost:8080/",
          "height": 35
        }
      },
      "source": [
        "Program.say_hello, getattr(Program, 'say_hello')"
      ],
      "execution_count": 0,
      "outputs": [
        {
          "output_type": "execute_result",
          "data": {
            "text/plain": [
              "(<function __main__.Program.say_hello>, <function __main__.Program.say_hello>)"
            ]
          },
          "metadata": {
            "tags": []
          },
          "execution_count": 49
        }
      ]
    },
    {
      "cell_type": "markdown",
      "metadata": {
        "id": "G-96WHiCH6fb",
        "colab_type": "text"
      },
      "source": [
        "And of course we can call it, since it is a callable:"
      ]
    },
    {
      "cell_type": "code",
      "metadata": {
        "id": "AMjSmhVoHG5V",
        "colab_type": "code",
        "outputId": "4db4bc3f-0eee-4eac-b408-5c3a749eb275",
        "colab": {
          "base_uri": "https://localhost:8080/",
          "height": 35
        }
      },
      "source": [
        "Program.say_hello()"
      ],
      "execution_count": 0,
      "outputs": [
        {
          "output_type": "stream",
          "text": [
            "Hello from Python!\n"
          ],
          "name": "stdout"
        }
      ]
    },
    {
      "cell_type": "code",
      "metadata": {
        "id": "Z11F1Qa2HOcJ",
        "colab_type": "code",
        "outputId": "0de221f5-ee85-42af-ac65-b357e217f44d",
        "colab": {
          "base_uri": "https://localhost:8080/",
          "height": 35
        }
      },
      "source": [
        "getattr(Program, 'say_hello')()"
      ],
      "execution_count": 0,
      "outputs": [
        {
          "output_type": "stream",
          "text": [
            "Hello from Python!\n"
          ],
          "name": "stdout"
        }
      ]
    },
    {
      "cell_type": "markdown",
      "metadata": {
        "id": "jGu-wzRwH-Vo",
        "colab_type": "text"
      },
      "source": [
        "We can even access it via the namespace dictionary as well:"
      ]
    },
    {
      "cell_type": "code",
      "metadata": {
        "id": "ZVN42o9DHV49",
        "colab_type": "code",
        "outputId": "80513566-45c8-431b-c84e-34f55b83f5c5",
        "colab": {
          "base_uri": "https://localhost:8080/",
          "height": 35
        }
      },
      "source": [
        "Program.__dict__['say_hello']()"
      ],
      "execution_count": 0,
      "outputs": [
        {
          "output_type": "stream",
          "text": [
            "Hello from Python!\n"
          ],
          "name": "stdout"
        }
      ]
    },
    {
      "cell_type": "markdown",
      "metadata": {
        "id": "S4-KOW9BJSlP",
        "colab_type": "text"
      },
      "source": [
        "---"
      ]
    },
    {
      "cell_type": "markdown",
      "metadata": {
        "id": "G929DoFyJTdT",
        "colab_type": "text"
      },
      "source": [
        "### 04 - **Classes are Callable**\n",
        "  \n",
        "As we saw earlier, one of the things Python does for us when we create a class is to make it callable.  \n",
        "  \n",
        "Calling a class creates a new instance of the class - an object of that particular type.  "
      ]
    },
    {
      "cell_type": "code",
      "metadata": {
        "id": "yCqCpL-9iQ3_",
        "colab_type": "code",
        "colab": {}
      },
      "source": [
        "class Program:\n",
        "  language = 'Python'\n",
        "\n",
        "  def say_hello():\n",
        "    print(f'Hello from {Program.language}')"
      ],
      "execution_count": 0,
      "outputs": []
    },
    {
      "cell_type": "code",
      "metadata": {
        "id": "Hzqu-YImT4zn",
        "colab_type": "code",
        "colab": {}
      },
      "source": [
        "p = Program()"
      ],
      "execution_count": 0,
      "outputs": []
    },
    {
      "cell_type": "code",
      "metadata": {
        "id": "6W2pphLdT88P",
        "colab_type": "code",
        "colab": {
          "base_uri": "https://localhost:8080/",
          "height": 35
        },
        "outputId": "0578f307-2d0f-4d84-8b79-65140768e206"
      },
      "source": [
        "type(p)"
      ],
      "execution_count": 4,
      "outputs": [
        {
          "output_type": "execute_result",
          "data": {
            "text/plain": [
              "__main__.Program"
            ]
          },
          "metadata": {
            "tags": []
          },
          "execution_count": 4
        }
      ]
    },
    {
      "cell_type": "code",
      "metadata": {
        "id": "qeq4Vl16T_fB",
        "colab_type": "code",
        "colab": {
          "base_uri": "https://localhost:8080/",
          "height": 35
        },
        "outputId": "7ccc9819-7a0e-459d-d5b7-730d6c3c7786"
      },
      "source": [
        "isinstance(p, Program)"
      ],
      "execution_count": 6,
      "outputs": [
        {
          "output_type": "execute_result",
          "data": {
            "text/plain": [
              "True"
            ]
          },
          "metadata": {
            "tags": []
          },
          "execution_count": 6
        }
      ]
    },
    {
      "cell_type": "markdown",
      "metadata": {
        "id": "jzALo3VTeGbH",
        "colab_type": "text"
      },
      "source": [
        "These instances have their own namespace, and their own `__dict__ `that is distinct from the class `__dict__`"
      ]
    },
    {
      "cell_type": "code",
      "metadata": {
        "id": "oawJTObfUD8C",
        "colab_type": "code",
        "colab": {
          "base_uri": "https://localhost:8080/",
          "height": 35
        },
        "outputId": "9946c096-d6b1-4b64-ab11-1a4e23b5fb56"
      },
      "source": [
        "p.__dict__"
      ],
      "execution_count": 7,
      "outputs": [
        {
          "output_type": "execute_result",
          "data": {
            "text/plain": [
              "{}"
            ]
          },
          "metadata": {
            "tags": []
          },
          "execution_count": 7
        }
      ]
    },
    {
      "cell_type": "code",
      "metadata": {
        "id": "ebAZgHppUWyj",
        "colab_type": "code",
        "colab": {
          "base_uri": "https://localhost:8080/",
          "height": 121
        },
        "outputId": "693226d5-ccb7-4d5d-9288-220357182ed5"
      },
      "source": [
        "Program.__dict__"
      ],
      "execution_count": 8,
      "outputs": [
        {
          "output_type": "execute_result",
          "data": {
            "text/plain": [
              "mappingproxy({'__dict__': <attribute '__dict__' of 'Program' objects>,\n",
              "              '__doc__': None,\n",
              "              '__module__': '__main__',\n",
              "              '__weakref__': <attribute '__weakref__' of 'Program' objects>,\n",
              "              'language': 'Python',\n",
              "              'say_hello': <function __main__.Program.say_hello>})"
            ]
          },
          "metadata": {
            "tags": []
          },
          "execution_count": 8
        }
      ]
    },
    {
      "cell_type": "markdown",
      "metadata": {
        "id": "gMxk_QSEeQsy",
        "colab_type": "text"
      },
      "source": [
        "Instances also have attributes that may not be visible in their `__dict__` (they are being stored elsewhere, as we'll examine later):"
      ]
    },
    {
      "cell_type": "code",
      "metadata": {
        "id": "1_r988LAUY-d",
        "colab_type": "code",
        "colab": {
          "base_uri": "https://localhost:8080/",
          "height": 35
        },
        "outputId": "71c960fe-4ce4-44e0-e2fc-6160d7a09ff1"
      },
      "source": [
        "p.__class__"
      ],
      "execution_count": 16,
      "outputs": [
        {
          "output_type": "execute_result",
          "data": {
            "text/plain": [
              "__main__.Program"
            ]
          },
          "metadata": {
            "tags": []
          },
          "execution_count": 16
        }
      ]
    },
    {
      "cell_type": "markdown",
      "metadata": {
        "id": "V8Ps2XrleXZF",
        "colab_type": "text"
      },
      "source": [
        "Although we can use `__class__` we can also use `type`:"
      ]
    },
    {
      "cell_type": "code",
      "metadata": {
        "id": "dTmiu0pGUayN",
        "colab_type": "code",
        "colab": {
          "base_uri": "https://localhost:8080/",
          "height": 35
        },
        "outputId": "7ad2b3b8-0fb8-4f84-9a8b-edb3ffc94489"
      },
      "source": [
        "type(p) is p.__class__"
      ],
      "execution_count": 17,
      "outputs": [
        {
          "output_type": "execute_result",
          "data": {
            "text/plain": [
              "True"
            ]
          },
          "metadata": {
            "tags": []
          },
          "execution_count": 17
        }
      ]
    },
    {
      "cell_type": "markdown",
      "metadata": {
        "id": "Ij--JCzNeeCl",
        "colab_type": "text"
      },
      "source": [
        "Generally we use type instead of using `__class__` just like we usually use `len()` instead of accessing `__len__`.\n",
        "\n",
        "Why? Well, one reason is that people can mess around with the `__class__` attribute:"
      ]
    },
    {
      "cell_type": "code",
      "metadata": {
        "id": "CR7mwr7vVNPV",
        "colab_type": "code",
        "colab": {}
      },
      "source": [
        "class MyClass:\n",
        "  pass"
      ],
      "execution_count": 0,
      "outputs": []
    },
    {
      "cell_type": "code",
      "metadata": {
        "id": "gBM43qzmekUw",
        "colab_type": "code",
        "colab": {}
      },
      "source": [
        "m = MyClass()"
      ],
      "execution_count": 0,
      "outputs": []
    },
    {
      "cell_type": "code",
      "metadata": {
        "id": "j_DS2C_kenNW",
        "colab_type": "code",
        "colab": {
          "base_uri": "https://localhost:8080/",
          "height": 35
        },
        "outputId": "2a7f5740-a6f2-4e28-af9b-466764cb3f37"
      },
      "source": [
        "type(m), m.__class__"
      ],
      "execution_count": 20,
      "outputs": [
        {
          "output_type": "execute_result",
          "data": {
            "text/plain": [
              "(__main__.MyClass, __main__.MyClass)"
            ]
          },
          "metadata": {
            "tags": []
          },
          "execution_count": 20
        }
      ]
    },
    {
      "cell_type": "markdown",
      "metadata": {
        "id": "CAE9i6yHevBU",
        "colab_type": "text"
      },
      "source": [
        "But look at what happens here:"
      ]
    },
    {
      "cell_type": "code",
      "metadata": {
        "id": "0Is7P9e8etJL",
        "colab_type": "code",
        "colab": {}
      },
      "source": [
        "class MyClass:\n",
        "  __class__ = str"
      ],
      "execution_count": 0,
      "outputs": []
    },
    {
      "cell_type": "code",
      "metadata": {
        "id": "Ha6YixtDe0ML",
        "colab_type": "code",
        "colab": {}
      },
      "source": [
        "m = MyClass()"
      ],
      "execution_count": 0,
      "outputs": []
    },
    {
      "cell_type": "code",
      "metadata": {
        "id": "PjPq266Qe5h_",
        "colab_type": "code",
        "colab": {
          "base_uri": "https://localhost:8080/",
          "height": 35
        },
        "outputId": "8222f8d5-c489-4a40-eef6-ee33877a872e"
      },
      "source": [
        "type(m), m.__class__"
      ],
      "execution_count": 23,
      "outputs": [
        {
          "output_type": "execute_result",
          "data": {
            "text/plain": [
              "(__main__.MyClass, str)"
            ]
          },
          "metadata": {
            "tags": []
          },
          "execution_count": 23
        }
      ]
    },
    {
      "cell_type": "markdown",
      "metadata": {
        "id": "QORBXeYGe8hS",
        "colab_type": "text"
      },
      "source": [
        "So as you can see above, type wasn't fooled!"
      ]
    },
    {
      "cell_type": "code",
      "metadata": {
        "id": "nhj1Nfmbe727",
        "colab_type": "code",
        "colab": {
          "base_uri": "https://localhost:8080/",
          "height": 35
        },
        "outputId": "cc52f847-81a2-474c-b156-06824ada393a"
      },
      "source": [
        "isinstance(m, MyClass)"
      ],
      "execution_count": 24,
      "outputs": [
        {
          "output_type": "execute_result",
          "data": {
            "text/plain": [
              "True"
            ]
          },
          "metadata": {
            "tags": []
          },
          "execution_count": 24
        }
      ]
    },
    {
      "cell_type": "code",
      "metadata": {
        "id": "3Ws3OoukfOfo",
        "colab_type": "code",
        "colab": {
          "base_uri": "https://localhost:8080/",
          "height": 35
        },
        "outputId": "677076a1-eb03-451f-a69c-3f92c21f2d04"
      },
      "source": [
        "isinstance(m, str)"
      ],
      "execution_count": 25,
      "outputs": [
        {
          "output_type": "execute_result",
          "data": {
            "text/plain": [
              "True"
            ]
          },
          "metadata": {
            "tags": []
          },
          "execution_count": 25
        }
      ]
    },
    {
      "cell_type": "code",
      "metadata": {
        "id": "SLNd_2rifbo7",
        "colab_type": "code",
        "colab": {
          "base_uri": "https://localhost:8080/",
          "height": 35
        },
        "outputId": "d02e7501-7a6b-4214-ba2b-2c05edc9f935"
      },
      "source": [
        "isinstance(m, int)"
      ],
      "execution_count": 26,
      "outputs": [
        {
          "output_type": "execute_result",
          "data": {
            "text/plain": [
              "False"
            ]
          },
          "metadata": {
            "tags": []
          },
          "execution_count": 26
        }
      ]
    },
    {
      "cell_type": "code",
      "metadata": {
        "id": "y6cjW8vTfc_I",
        "colab_type": "code",
        "colab": {}
      },
      "source": [
        "class MyClass:\n",
        "  pass"
      ],
      "execution_count": 0,
      "outputs": []
    },
    {
      "cell_type": "code",
      "metadata": {
        "id": "eyIqZ1VZfqgW",
        "colab_type": "code",
        "colab": {}
      },
      "source": [
        "m = MyClass()"
      ],
      "execution_count": 0,
      "outputs": []
    },
    {
      "cell_type": "code",
      "metadata": {
        "id": "e6nn5OB_fgBX",
        "colab_type": "code",
        "colab": {
          "base_uri": "https://localhost:8080/",
          "height": 35
        },
        "outputId": "177d5213-0354-4cba-a6ef-3288bd244346"
      },
      "source": [
        "isinstance(m, str)"
      ],
      "execution_count": 29,
      "outputs": [
        {
          "output_type": "execute_result",
          "data": {
            "text/plain": [
              "False"
            ]
          },
          "metadata": {
            "tags": []
          },
          "execution_count": 29
        }
      ]
    },
    {
      "cell_type": "code",
      "metadata": {
        "id": "n1b2i0rafsoQ",
        "colab_type": "code",
        "colab": {}
      },
      "source": [
        ""
      ],
      "execution_count": 0,
      "outputs": []
    }
  ]
}